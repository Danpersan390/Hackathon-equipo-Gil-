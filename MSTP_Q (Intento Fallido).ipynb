{
 "cells": [
  {
   "cell_type": "code",
   "execution_count": 11,
   "id": "3b8ee9c5-c594-48d4-9fdc-bafd8a8d05ca",
   "metadata": {
    "tags": []
   },
   "outputs": [],
   "source": [
    "# Qiskit\n",
    "from qiskit import *\n",
    "from qiskit.visualization import plot_histogram\n",
    "from qiskit import IBMQ\n",
    "from qiskit_ibm_provider import IBMProvider\n",
    "#from qiskit.providers.ibmq import least_busy\n",
    "from qiskit.tools.monitor import job_monitor\n",
    "from qiskit import QuantumCircuit, transpile\n",
    "from qiskit.tools.jupyter import *\n",
    "from qiskit.visualization import *\n",
    "from qiskit_ibm_runtime import QiskitRuntimeService, Sampler, Estimator, Session, Options\n",
    "from qiskit import Aer, assemble\n",
    "from qiskit import IBMQ, execute\n",
    "from qiskit import QuantumCircuit, transpile\n",
    "from qiskit.tools.jupyter import *\n",
    "from qiskit.visualization import *\n",
    "\n",
    "\n",
    "from qiskit_aer import AerSimulator\n",
    "from qiskit_ibm_runtime import QiskitRuntimeService #, Sampler, Estimator, Session, Options\n",
    "from qiskit_optimization import QuadraticProgram\n",
    "from qiskit.utils import algorithm_globals\n",
    "from qiskit.algorithms.optimizers import SPSA\n",
    "from qiskit.circuit.library import TwoLocal\n",
    "from qiskit.algorithms.minimum_eigensolvers import SamplingVQE\n",
    "from qiskit.primitives import Sampler\n",
    "\n",
    "# Loading your IBM Quantum account(s)\n",
    "#service = QiskitRuntimeService(channel=\"ibm_quantum\")\n",
    "\n",
    "from qiskit.primitives import Sampler\n",
    "from qiskit_optimization.algorithms import MinimumEigenOptimizer\n",
    "from qiskit_optimization.applications import Maxcut\n",
    "from qiskit_optimization.problems import QuadraticProgram\n",
    "from qiskit.algorithms.optimizers import SPSA\n",
    "from qiskit.circuit.library import TwoLocal\n",
    "from qiskit.algorithms.minimum_eigensolvers import SamplingVQE\n",
    "from qiskit_optimization.algorithms import MinimumEigenOptimizer\n",
    "#from qiskit.algorithms.minimum_eigensolvers import QAOA\n",
    "from qiskit_optimization.applications import Tsp\n",
    "from qiskit_ibm_runtime import Sampler as SamplerRT\n",
    "from qiskit_ibm_runtime import Session\n",
    "from qiskit.algorithms.optimizers import COBYLA\n",
    "\n",
    "# Grafos\n",
    "\n",
    "import numpy as np\n",
    "import networkx as nx\n",
    "import matplotlib.pyplot as plt\n",
    "import matplotlib.axes as axes\n",
    "from itertools import combinations\n",
    "from sklearn.cluster import KMeans"
   ]
  },
  {
   "cell_type": "code",
   "execution_count": 12,
   "id": "c9c512a1-191e-4bc5-91be-04d54984ca3b",
   "metadata": {
    "tags": []
   },
   "outputs": [],
   "source": [
    "# Importing standard Qiskit libraries\n",
    "from qiskit import QuantumCircuit, transpile\n",
    "from qiskit.tools.jupyter import *\n",
    "from qiskit.visualization import *\n",
    "from ibm_quantum_widgets import *\n",
    "\n",
    "# qiskit-ibmq-provider has been deprecated.\n",
    "# Please see the Migration Guides in https://ibm.biz/provider_migration_guide for more detail.\n",
    "from qiskit_ibm_runtime import QiskitRuntimeService, Sampler, Estimator, Session, Options\n",
    "\n",
    "# Loading your IBM Quantum account(s)\n",
    "service = QiskitRuntimeService(channel=\"ibm_quantum\")\n",
    "\n",
    "# Invoke a primitive. For more details see https://qiskit.org/documentation/partners/qiskit_ibm_runtime/tutorials.html\n",
    "# result = Sampler(\"ibmq_qasm_simulator\").run(circuits).result()"
   ]
  },
  {
   "cell_type": "code",
   "execution_count": 23,
   "id": "6306690a-b590-4b41-9d26-b54b6991093e",
   "metadata": {
    "tags": []
   },
   "outputs": [],
   "source": [
    "from qiskit_optimization.applications import Tsp\n",
    "\n",
    "from qiskit import Aer, IBMQ\n",
    "from qiskit.utils import QuantumInstance\n",
    "from qiskit.algorithms import QAOA, NumPyMinimumEigensolver\n",
    "from qiskit_optimization.algorithms import MinimumEigenOptimizer\n",
    "from qiskit_optimization import QuadraticProgram\n",
    "from qiskit.algorithms.optimizers import COBYLA"
   ]
  },
  {
   "cell_type": "code",
   "execution_count": 24,
   "id": "2ac646b8-7fe5-4896-a57d-6a8915b0383c",
   "metadata": {
    "tags": []
   },
   "outputs": [],
   "source": [
    "import numpy as np\n",
    "import networkx as nx\n",
    "import matplotlib.pyplot as plt\n",
    "import matplotlib.axes as axes\n",
    "from itertools import combinations\n",
    "from sklearn.cluster import KMeans"
   ]
  },
  {
   "cell_type": "code",
   "execution_count": 25,
   "id": "0419a225-49e7-4b2d-85e8-89c6841ac19f",
   "metadata": {
    "tags": []
   },
   "outputs": [],
   "source": [
    "def Generar_Grafo(Coord,high,low):\n",
    "    pos = {i: (coord_[0], coord_[1]) for i, coord_ in enumerate(Coord)}\n",
    "    graph = nx.random_geometric_graph(len(Coord[:,0]), np.hypot(high - low, high - low) + 1, pos=pos)\n",
    "    for w, v in graph.edges:\n",
    "        delta = [graph.nodes[w][\"pos\"][i] - graph.nodes[v][\"pos\"][i] for i in range(2)]\n",
    "        graph.edges[w, v][\"weight\"] = np.rint(np.hypot(delta[0], delta[1]))\n",
    "    return graph,pos\n",
    "\n",
    "def generate_coordinate_matrices(Num_Nodos, Limites_x, Limites_y, K):\n",
    "    # Generar coordenadas aleatorias de nodos\n",
    "    x_coord = np.random.uniform(Limites_x[0], Limites_x[-1], Num_Nodos)\n",
    "    y_coord = np.random.uniform(Limites_y[0], Limites_y[-1], Num_Nodos)\n",
    "\n",
    "    Distancia_Centro = np.sqrt((np.mean(x_coord) - x_coord) ** 2 + (np.mean(y_coord) - y_coord) ** 2)\n",
    "    Indice_min = np.argmin(Distancia_Centro)\n",
    "\n",
    "    Warehouse = np.array([x_coord[Indice_min], y_coord[Indice_min]])\n",
    "\n",
    "    x_coord = np.delete(x_coord, Indice_min)\n",
    "    y_coord = np.delete(y_coord, Indice_min)\n",
    "\n",
    "    # Calcular el centro de los clusters utilizando K-means\n",
    "    coordinates = np.array(list(zip(x_coord, y_coord)))\n",
    "    kmeans = KMeans(n_clusters=K)\n",
    "    kmeans.fit(coordinates)\n",
    "    cluster_labels = kmeans.labels_\n",
    "\n",
    "    # Inicializar una lista de matrices de coordenadas para cada cluster\n",
    "    coordinate_matrices = [np.vstack((Warehouse, coordinates[cluster_labels == i])) for i in range(K)]\n",
    "\n",
    "    return coordinate_matrices\n"
   ]
  },
  {
   "cell_type": "code",
   "execution_count": 26,
   "id": "c559f29d-90f6-41ef-94f8-5b639dafccb0",
   "metadata": {
    "tags": []
   },
   "outputs": [
    {
     "name": "stderr",
     "output_type": "stream",
     "text": [
      "/opt/conda/lib/python3.10/site-packages/sklearn/cluster/_kmeans.py:870: FutureWarning: The default value of `n_init` will change from 10 to 'auto' in 1.4. Set the value of `n_init` explicitly to suppress the warning\n",
      "  warnings.warn(\n"
     ]
    }
   ],
   "source": [
    "Num_Nodos = 6\n",
    "Limites_x = (-10, 10)\n",
    "Limites_y = (-10, 10)\n",
    "Camiones = 2  # Número de clusters para K-means\n",
    "\n",
    "# Generar las matrices de coordenadas para los camiones\n",
    "coordinate_matrices = generate_coordinate_matrices(Num_Nodos, Limites_x, Limites_y, Camiones)"
   ]
  },
  {
   "cell_type": "code",
   "execution_count": 27,
   "id": "725e8229-e057-47c7-a124-e210b1a8982a",
   "metadata": {
    "tags": []
   },
   "outputs": [
    {
     "data": {
      "image/png": "[encoded data removed]",
      "text/plain": [
       "<Figure size 640x480 with 1 Axes>"
      ]
     },
     "metadata": {},
     "output_type": "display_data"
    },
    {
     "name": "stdout",
     "output_type": "stream",
     "text": [
      "Problem name: TSP\n",
      "\n",
      "Minimize\n",
      "  4*x_0_0*x_1_1 + 4*x_0_0*x_1_3 + 5*x_0_0*x_2_1 + 5*x_0_0*x_2_3 + 3*x_0_0*x_3_1\n",
      "  + 3*x_0_0*x_3_3 + 4*x_0_1*x_1_0 + 4*x_0_1*x_1_2 + 5*x_0_1*x_2_0\n",
      "  + 5*x_0_1*x_2_2 + 3*x_0_1*x_3_0 + 3*x_0_1*x_3_2 + 4*x_0_2*x_1_1\n",
      "  + 4*x_0_2*x_1_3 + 5*x_0_2*x_2_1 + 5*x_0_2*x_2_3 + 3*x_0_2*x_3_1\n",
      "  + 3*x_0_2*x_3_3 + 4*x_0_3*x_1_0 + 4*x_0_3*x_1_2 + 5*x_0_3*x_2_0\n",
      "  + 5*x_0_3*x_2_2 + 3*x_0_3*x_3_0 + 3*x_0_3*x_3_2 + 6*x_1_0*x_2_1\n",
      "  + 6*x_1_0*x_2_3 + x_1_0*x_3_1 + x_1_0*x_3_3 + 6*x_1_1*x_2_0 + 6*x_1_1*x_2_2\n",
      "  + x_1_1*x_3_0 + x_1_1*x_3_2 + 6*x_1_2*x_2_1 + 6*x_1_2*x_2_3 + x_1_2*x_3_1\n",
      "  + x_1_2*x_3_3 + 6*x_1_3*x_2_0 + 6*x_1_3*x_2_2 + x_1_3*x_3_0 + x_1_3*x_3_2\n",
      "  + 6*x_2_0*x_3_1 + 6*x_2_0*x_3_3 + 6*x_2_1*x_3_0 + 6*x_2_1*x_3_2\n",
      "  + 6*x_2_2*x_3_1 + 6*x_2_2*x_3_3 + 6*x_2_3*x_3_0 + 6*x_2_3*x_3_2\n",
      "\n",
      "Subject to\n",
      "  Linear constraints (8)\n",
      "    x_0_0 + x_0_1 + x_0_2 + x_0_3 == 1  'c0'\n",
      "    x_1_0 + x_1_1 + x_1_2 + x_1_3 == 1  'c1'\n",
      "    x_2_0 + x_2_1 + x_2_2 + x_2_3 == 1  'c2'\n",
      "    x_3_0 + x_3_1 + x_3_2 + x_3_3 == 1  'c3'\n",
      "    x_0_0 + x_1_0 + x_2_0 + x_3_0 == 1  'c4'\n",
      "    x_0_1 + x_1_1 + x_2_1 + x_3_1 == 1  'c5'\n",
      "    x_0_2 + x_1_2 + x_2_2 + x_3_2 == 1  'c6'\n",
      "    x_0_3 + x_1_3 + x_2_3 + x_3_3 == 1  'c7'\n",
      "\n",
      "  Binary variables (16)\n",
      "    x_0_0 x_0_1 x_0_2 x_0_3 x_1_0 x_1_1 x_1_2 x_1_3 x_2_0 x_2_1 x_2_2 x_2_3\n",
      "    x_3_0 x_3_1 x_3_2 x_3_3\n",
      "\n"
     ]
    },
    {
     "data": {
      "image/png": "[encoded data removed]",
      "text/plain": [
       "<Figure size 640x480 with 1 Axes>"
      ]
     },
     "metadata": {},
     "output_type": "display_data"
    },
    {
     "name": "stdout",
     "output_type": "stream",
     "text": [
      "Problem name: TSP\n",
      "\n",
      "Minimize\n",
      "  11*x_0_0*x_1_1 + 11*x_0_0*x_1_2 + 7*x_0_0*x_2_1 + 7*x_0_0*x_2_2\n",
      "  + 11*x_0_1*x_1_0 + 11*x_0_1*x_1_2 + 7*x_0_1*x_2_0 + 7*x_0_1*x_2_2\n",
      "  + 11*x_0_2*x_1_0 + 11*x_0_2*x_1_1 + 7*x_0_2*x_2_0 + 7*x_0_2*x_2_1\n",
      "  + 9*x_1_0*x_2_1 + 9*x_1_0*x_2_2 + 9*x_1_1*x_2_0 + 9*x_1_1*x_2_2\n",
      "  + 9*x_1_2*x_2_0 + 9*x_1_2*x_2_1\n",
      "\n",
      "Subject to\n",
      "  Linear constraints (6)\n",
      "    x_0_0 + x_0_1 + x_0_2 == 1  'c0'\n",
      "    x_1_0 + x_1_1 + x_1_2 == 1  'c1'\n",
      "    x_2_0 + x_2_1 + x_2_2 == 1  'c2'\n",
      "    x_0_0 + x_1_0 + x_2_0 == 1  'c3'\n",
      "    x_0_1 + x_1_1 + x_2_1 == 1  'c4'\n",
      "    x_0_2 + x_1_2 + x_2_2 == 1  'c5'\n",
      "\n",
      "  Binary variables (9)\n",
      "    x_0_0 x_0_1 x_0_2 x_1_0 x_1_1 x_1_2 x_2_0 x_2_1 x_2_2\n",
      "\n"
     ]
    }
   ],
   "source": [
    "grafo1,pos=Generar_Grafo(coordinate_matrices[0],10,-10)\n",
    "tsp1= Tsp(grafo1)\n",
    "nx.draw_networkx(grafo1,pos,edge_color=\"blue\",node_size=1,width=1)\n",
    "plt.show()\n",
    "qp1 = tsp1.to_quadratic_program()\n",
    "print(qp1.prettyprint())\n",
    "\n",
    "grafo2,pos=Generar_Grafo(coordinate_matrices[1],10,-10)\n",
    "tsp2= Tsp(grafo2)\n",
    "nx.draw_networkx(grafo2,pos,edge_color=\"blue\",node_size=1,width=1)\n",
    "plt.show()\n",
    "qp2 = tsp2.to_quadratic_program()\n",
    "print(qp2.prettyprint())\n"
   ]
  },
  {
   "cell_type": "code",
   "execution_count": 28,
   "id": "f2e68de9-180a-4f9a-9157-e6114a23b8af",
   "metadata": {
    "tags": []
   },
   "outputs": [
    {
     "name": "stderr",
     "output_type": "stream",
     "text": [
      "ibmqfactory.load_account:WARNING:2023-09-15 14:49:37,326: Credentials are already in use. The existing account in the session will be replaced.\n"
     ]
    }
   ],
   "source": [
    "IBMQ.load_account()\n",
    "my_provider = IBMQ.get_provider(hub='ibm-q-asu', group='internal', project='reservations')\n",
    "my_provider.backends()\n",
    "ibmq_backend = my_provider.get_backend('ibmq_kolkata')\n",
    "backend = ibmq_backend"
   ]
  },
  {
   "cell_type": "code",
   "execution_count": null,
   "id": "18e9c493-ed86-41dc-9b15-731b5e9b1468",
   "metadata": {
    "tags": []
   },
   "outputs": [
    {
     "name": "stderr",
     "output_type": "stream",
     "text": [
      "/tmp/ipykernel_110/427382836.py:1: DeprecationWarning: The class ``qiskit.utils.quantum_instance.QuantumInstance`` is deprecated as of qiskit-terra 0.24.0. It will be removed no earlier than 3 months after the release date. For code migration guidelines, visit https://qisk.it/qi_migration.\n",
      "  quantum_instance = QuantumInstance(backend, shots=1000, seed_simulator=10598, seed_transpiler=10598)\n",
      "/tmp/ipykernel_110/427382836.py:3: DeprecationWarning: The class ``qiskit.algorithms.minimum_eigen_solvers.qaoa.QAOA`` is deprecated as of qiskit-terra 0.24.0. It will be removed no earlier than 3 months after the release date. Instead, use the class ``qiskit.algorithms.minimum_eigensolvers.QAOA``. See https://qisk.it/algo_migration for a migration guide.\n",
      "  qaoa_mes = QAOA(quantum_instance=quantum_instance,optimizer=COBYLA(maxiter=100))\n",
      "/opt/conda/lib/python3.10/site-packages/qiskit/utils/run_circuits.py:411: UserWarning: seed_simulator is not a recognized runtime option and may be ignored by the backend.\n",
      "  return backend.run(circuits, **run_kwargs)\n"
     ]
    }
   ],
   "source": [
    "quantum_instance = QuantumInstance(backend, shots=1000, seed_simulator=10598, seed_transpiler=10598)\n",
    "#qaoa_mes = QAOA(quantum_instance=quantum_instance)\n",
    "qaoa_mes = QAOA(quantum_instance=quantum_instance,optimizer=COBYLA(maxiter=100))\n",
    "optimizer = MinimumEigenOptimizer(qaoa_mes)\n",
    "\n",
    "# Resolver el problema para cada grafo\n",
    "result1 = optimizer.solve(qp1)\n",
    "print(\"Resultado del primer grafo:\", result1)\n",
    "\n",
    "result2 = optimizer.solve(qp2)\n",
    "print(\"Resultado del segundo grafo:\", result2)"
   ]
  },
  {
   "cell_type": "code",
   "execution_count": null,
   "id": "2a3336c6-38aa-4893-be47-350599856b1f",
   "metadata": {},
   "outputs": [],
   "source": []
  },
  {
   "cell_type": "code",
   "execution_count": null,
   "id": "08492d8d-10eb-490a-baf8-fc640d928a89",
   "metadata": {},
   "outputs": [],
   "source": []
  },
  {
   "cell_type": "code",
   "execution_count": null,
   "id": "b9513131-a921-4510-8d02-515392bf2db8",
   "metadata": {},
   "outputs": [],
   "source": []
  }
 ],
 "metadata": {
  "kernelspec": {
   "display_name": "Python 3 (ipykernel)",
   "language": "python",
   "name": "python3"
  },
  "language_info": {
   "codemirror_mode": {
    "name": "ipython",
    "version": 3
   },
   "file_extension": ".py",
   "mimetype": "text/x-python",
   "name": "python",
   "nbconvert_exporter": "python",
   "pygments_lexer": "ipython3",
   "version": "3.10.8"
  },
  "widgets": {
   "application/vnd.jupyter.widget-state+json": {
    "state": {
     "001c793b25834e7c8cb522c4ea4f84c5": {
      "model_module": "@jupyter-widgets/base",
      "model_module_version": "2.0.0",
      "model_name": "LayoutModel",
      "state": {}
     },
     "0022aac5396b4ac9a2ddd8361b4526f5": {
      "model_module": "@jupyter-widgets/base",
      "model_module_version": "2.0.0",
      "model_name": "LayoutModel",
      "state": {
       "width": "190px"
      }
     },
     "006c79102bc24b0da77c7a1bd804b4ae": {
      "model_module": "@jupyter-widgets/base",
      "model_module_version": "2.0.0",
      "model_name": "LayoutModel",
      "state": {}
     },
     "00a44fb1495b4f628605c0ce914d8d86": {
      "model_module": "@jupyter-widgets/controls",
      "model_module_version": "2.0.0",
      "model_name": "HTMLStyleModel",
      "state": {
       "description_width": "",
       "font_size": null,
       "text_color": null
      }
     },
     "00a54be85efa48bb876a3c825f7cfe0e": {
      "model_module": "@jupyter-widgets/base",
      "model_module_version": "2.0.0",
      "model_name": "LayoutModel",
      "state": {
       "width": "70px"
      }
     },
     "00ca99b79724480ebe478f4ce449852d": {
      "model_module": "@jupyter-widgets/base",
      "model_module_version": "2.0.0",
      "model_name": "LayoutModel",
      "state": {
       "width": "145px"
      }
     },
     "00e9ce4897ae4804aa28b3bfa6856ee5": {
      "model_module": "@jupyter-widgets/controls",
      "model_module_version": "2.0.0",
      "model_name": "HTMLModel",
      "state": {
       "layout": "IPY_MODEL_ae67f40a9ace45bb86a7b337165dbe0d",
       "style": "IPY_MODEL_deedba1492924a1db41526a1a11e6024",
       "value": "-"
      }
     },
     "01a1a47e48ef4022971cb39069646f8a": {
      "model_module": "@jupyter-widgets/controls",
      "model_module_version": "2.0.0",
      "model_name": "ButtonModel",
      "state": {
       "icon": "close",
       "layout": "IPY_MODEL_db3791eb0f884673a65da8ce0c9a8bb6",
       "style": "IPY_MODEL_5b4c4076492a461f8a9a7af625a48efd",
       "tooltip": null
      }
     },
     "027aa80e75c54f0186278f388dafdaa0": {
      "model_module": "@jupyter-widgets/base",
      "model_module_version": "2.0.0",
      "model_name": "LayoutModel",
      "state": {
       "width": "95px"
      }
     },
     "02c3c3cc21934b5c849a7e40fac5f43e": {
      "model_module": "@jupyter-widgets/base",
      "model_module_version": "2.0.0",
      "model_name": "LayoutModel",
      "state": {
       "width": "190px"
      }
     },
     "02e77bf7eba14095bf9a6d6fc1e13066": {
      "model_module": "@jupyter-widgets/controls",
      "model_module_version": "2.0.0",
      "model_name": "ButtonStyleModel",
      "state": {
       "button_color": "white",
       "font_family": null,
       "font_size": null,
       "font_style": null,
       "font_variant": null,
       "font_weight": null,
       "text_color": null,
       "text_decoration": null
      }
     },
     "0313245f9fc145d981d2ead478708ad9": {
      "model_module": "@jupyter-widgets/controls",
      "model_module_version": "2.0.0",
      "model_name": "HTMLStyleModel",
      "state": {
       "description_width": "",
       "font_size": null,
       "text_color": null
      }
     },
     "032c8a58e6c24132a48fb6288bb7f46c": {
      "model_module": "@jupyter-widgets/base",
      "model_module_version": "2.0.0",
      "model_name": "LayoutModel",
      "state": {
       "width": "70px"
      }
     },
     "039d9ae142c94365bf9a18eb45e16fee": {
      "model_module": "@jupyter-widgets/base",
      "model_module_version": "2.0.0",
      "model_name": "LayoutModel",
      "state": {
       "max_width": "700px",
       "min_width": "700px"
      }
     },
     "03eed6578f80440290c1eacc3d33d250": {
      "model_module": "@jupyter-widgets/controls",
      "model_module_version": "2.0.0",
      "model_name": "HTMLModel",
      "state": {
       "layout": "IPY_MODEL_f730f3f425cf47f59e1319383d30d988",
       "style": "IPY_MODEL_98e5eb69d2674458a32c923c8d2a9aa0",
       "value": "<font style='color:#34BC6E'>DONE</font>"
      }
     },
     "0406fede93454200b88a4eb9712ebbcc": {
      "model_module": "@jupyter-widgets/base",
      "model_module_version": "2.0.0",
      "model_name": "LayoutModel",
      "state": {
       "margin": "0px 5px 0px 0px",
       "width": "32px"
      }
     },
     "0555ba04d4174e4783e1fbdc2a4140d2": {
      "model_module": "@jupyter-widgets/controls",
      "model_module_version": "2.0.0",
      "model_name": "ButtonModel",
      "state": {
       "icon": "close",
       "layout": "IPY_MODEL_0601d0d4110a41ddb6fada3df4e8405e",
       "style": "IPY_MODEL_d5121327061c4f66bfb68c3e242555e9",
       "tooltip": null
      }
     },
     "0567f637fb804007a3a96ab4bb873929": {
      "model_module": "@jupyter-widgets/controls",
      "model_module_version": "2.0.0",
      "model_name": "ButtonModel",
      "state": {
       "icon": "close",
       "layout": "IPY_MODEL_844e58f6adcb4b54b59b1bc5395e01de",
       "style": "IPY_MODEL_b02edbe91fa04646bd5bcb1721843786",
       "tooltip": null
      }
     },
     "0601d0d4110a41ddb6fada3df4e8405e": {
      "model_module": "@jupyter-widgets/base",
      "model_module_version": "2.0.0",
      "model_name": "LayoutModel",
      "state": {
       "margin": "0px 5px 0px 0px",
       "width": "32px"
      }
     },
     "06dfd35c2d95436f9b2c47bf441f5061": {
      "model_module": "@jupyter-widgets/base",
      "model_module_version": "2.0.0",
      "model_name": "LayoutModel",
      "state": {
       "margin": "0px 0px 10px 0px"
      }
     },
     "071daff7d80b4186a3c084498e1fec79": {
      "model_module": "@jupyter-widgets/controls",
      "model_module_version": "2.0.0",
      "model_name": "HTMLModel",
      "state": {
       "layout": "IPY_MODEL_187f4e8500c84506b215e7b1e76bbf67",
       "style": "IPY_MODEL_3d6c5e673b474984ad4647b197d80931",
       "value": "job has successfully run"
      }
     },
     "074465951c85403cab535e8cc95df600": {
      "model_module": "@jupyter-widgets/controls",
      "model_module_version": "2.0.0",
      "model_name": "HTMLStyleModel",
      "state": {
       "description_width": "",
       "font_size": null,
       "text_color": null
      }
     },
     "07d9a688bb7b455e817a759a37b6a756": {
      "model_module": "@jupyter-widgets/base",
      "model_module_version": "2.0.0",
      "model_name": "LayoutModel",
      "state": {
       "margin": "0px 5px 0px 0px",
       "width": "32px"
      }
     },
     "083979e7c9094281bc32593a8a7086c9": {
      "model_module": "@jupyter-widgets/controls",
      "model_module_version": "2.0.0",
      "model_name": "ButtonModel",
      "state": {
       "icon": "close",
       "layout": "IPY_MODEL_51a140632d014ffcab57832792f67f20",
       "style": "IPY_MODEL_41f41f63190140008e661c6ec4722eea",
       "tooltip": null
      }
     },
     "085b4ae276c043de8057cde92255f064": {
      "model_module": "@jupyter-widgets/controls",
      "model_module_version": "2.0.0",
      "model_name": "HTMLModel",
      "state": {
       "layout": "IPY_MODEL_d1c363d8b445445fbd45dd75a7a60666",
       "style": "IPY_MODEL_eb2e219e1bc1476986c75568305f6198",
       "value": "QUEUED"
      }
     },
     "097912d9f3dc4987b45d1344db5bd478": {
      "model_module": "@jupyter-widgets/base",
      "model_module_version": "2.0.0",
      "model_name": "LayoutModel",
      "state": {
       "width": "70px"
      }
     },
     "09cbad3553e04550a9672d5474e9799f": {
      "model_module": "@jupyter-widgets/controls",
      "model_module_version": "2.0.0",
      "model_name": "HTMLModel",
      "state": {
       "layout": "IPY_MODEL_9d5076deb1b244e3bee45a12d8e89810",
       "style": "IPY_MODEL_fdf23547a1464d618cc6b1ae2ff54793",
       "value": "ibmq_kolkata"
      }
     },
     "09e33b3b431f48fcaceb087fae2e4ec3": {
      "model_module": "@jupyter-widgets/controls",
      "model_module_version": "2.0.0",
      "model_name": "HTMLStyleModel",
      "state": {
       "description_width": "",
       "font_size": null,
       "text_color": null
      }
     },
     "0a19327f9d8e457aa8b4bdbad599f675": {
      "model_module": "@jupyter-widgets/controls",
      "model_module_version": "2.0.0",
      "model_name": "HTMLStyleModel",
      "state": {
       "description_width": "",
       "font_size": null,
       "text_color": null
      }
     },
     "0af5f6ff681a42debc28e162fba1b352": {
      "model_module": "@jupyter-widgets/controls",
      "model_module_version": "2.0.0",
      "model_name": "HTMLModel",
      "state": {
       "layout": "IPY_MODEL_8f21512564cb4e4897b7ffdeef5f8c15",
       "style": "IPY_MODEL_1ab2180735d74e4395543ce806d6eea7",
       "value": "ck27q7qdijuadeppl630"
      }
     },
     "0b35ada0f34a4ecf99a543a8135dd6f0": {
      "model_module": "@jupyter-widgets/controls",
      "model_module_version": "2.0.0",
      "model_name": "HTMLStyleModel",
      "state": {
       "description_width": "",
       "font_size": null,
       "text_color": null
      }
     },
     "0b85505cc8d24b7688d4e787754d0d60": {
      "model_module": "@jupyter-widgets/controls",
      "model_module_version": "2.0.0",
      "model_name": "HTMLModel",
      "state": {
       "layout": "IPY_MODEL_c7ebe8ab7bba480aa9243ddb67d7f09a",
       "style": "IPY_MODEL_375d0a4a2ddb43189621758f8504cdff",
       "value": "<font style='color:#34BC6E'>DONE</font>"
      }
     },
     "0bb4baf5d4a749178e2d2fa74ee79ccc": {
      "model_module": "@jupyter-widgets/base",
      "model_module_version": "2.0.0",
      "model_name": "LayoutModel",
      "state": {
       "width": "70px"
      }
     },
     "0c0ef576be724bafaf2bd3560f4c9e83": {
      "model_module": "@jupyter-widgets/base",
      "model_module_version": "2.0.0",
      "model_name": "LayoutModel",
      "state": {
       "width": "190px"
      }
     },
     "0c24ba5a55614cb696aba64ee4b5ca6a": {
      "model_module": "@jupyter-widgets/base",
      "model_module_version": "2.0.0",
      "model_name": "LayoutModel",
      "state": {
       "max_width": "700px",
       "min_width": "700px"
      }
     },
     "0d07070c9f4944488cb4fb0eb26e179c": {
      "model_module": "@jupyter-widgets/controls",
      "model_module_version": "2.0.0",
      "model_name": "HTMLStyleModel",
      "state": {
       "description_width": "",
       "font_size": null,
       "text_color": null
      }
     },
     "0dd12dc23414481d969efde6e621bdb5": {
      "model_module": "@jupyter-widgets/controls",
      "model_module_version": "2.0.0",
      "model_name": "HTMLStyleModel",
      "state": {
       "description_width": "",
       "font_size": null,
       "text_color": null
      }
     },
     "0e1ab1aa306044b281863730b7fbde7f": {
      "model_module": "@jupyter-widgets/controls",
      "model_module_version": "2.0.0",
      "model_name": "HTMLModel",
      "state": {
       "layout": "IPY_MODEL_027aa80e75c54f0186278f388dafdaa0",
       "style": "IPY_MODEL_ba56d3fb231a4374a44f238f8412f9f8",
       "value": "<font style='color:#34BC6E'>DONE</font>"
      }
     },
     "0e1e68376f7841e2a573eb55366c3123": {
      "model_module": "@jupyter-widgets/base",
      "model_module_version": "2.0.0",
      "model_name": "LayoutModel",
      "state": {}
     },
     "0e2d73a223c94cb4bfc1e9510198496d": {
      "model_module": "@jupyter-widgets/base",
      "model_module_version": "2.0.0",
      "model_name": "LayoutModel",
      "state": {
       "width": "95px"
      }
     },
     "0e8778811a9243b1a2b7c2be2f53b5ec": {
      "model_module": "@jupyter-widgets/base",
      "model_module_version": "2.0.0",
      "model_name": "LayoutModel",
      "state": {
       "width": "70px"
      }
     },
     "0e9c45e2215b4fff8f734f3159818787": {
      "model_module": "@jupyter-widgets/controls",
      "model_module_version": "2.0.0",
      "model_name": "HTMLModel",
      "state": {
       "layout": "IPY_MODEL_3edc08e1961344a7b4613a2368f84598",
       "style": "IPY_MODEL_d70186ff71704846ba217ceb8ab989d0",
       "value": "<p style=white-space:nowrap;>job is queued</p>"
      }
     },
     "0fb622d4006c4e0094ab9eee96a411e7": {
      "model_module": "@jupyter-widgets/controls",
      "model_module_version": "2.0.0",
      "model_name": "HTMLStyleModel",
      "state": {
       "description_width": "",
       "font_size": null,
       "text_color": null
      }
     },
     "10a2b4b260544e14a7410327911270f1": {
      "model_module": "@jupyter-widgets/controls",
      "model_module_version": "2.0.0",
      "model_name": "HTMLStyleModel",
      "state": {
       "description_width": "",
       "font_size": null,
       "text_color": null
      }
     },
     "118f48576305471c9b82e854fd51c145": {
      "model_module": "@jupyter-widgets/controls",
      "model_module_version": "2.0.0",
      "model_name": "HTMLModel",
      "state": {
       "layout": "IPY_MODEL_4e50db863dc349e79b9bb8e9dd8e27c1",
       "style": "IPY_MODEL_989a7fabb5b44709922aba2a2dd2b9f7",
       "value": "ibmq_kolkata"
      }
     },
     "11f1abe5c35f4cd983426a91d2bbbfc4": {
      "model_module": "@jupyter-widgets/controls",
      "model_module_version": "2.0.0",
      "model_name": "HBoxModel",
      "state": {
       "children": [
        "IPY_MODEL_1f4ed82491684a119174757cb94ffa9b",
        "IPY_MODEL_8b4779890c1943048c8b48926933e232",
        "IPY_MODEL_3fabc0aff5b44d83bc27fb276bbcb5ba",
        "IPY_MODEL_fc877a0948f94931974128f35c632e41",
        "IPY_MODEL_feb68dc35e0440c39a765a6234d5cd84",
        "IPY_MODEL_1570b127ed6a466d89c5fedfc18a3717"
       ],
       "layout": "IPY_MODEL_a7b01e9ba82c40faaaf7f5cbedc3af7b"
      }
     },
     "121becf72cc54f09a50309800e6bd04a": {
      "model_module": "@jupyter-widgets/controls",
      "model_module_version": "2.0.0",
      "model_name": "HTMLModel",
      "state": {
       "layout": "IPY_MODEL_e24766f9dc4547c0b808e393a6a14223",
       "style": "IPY_MODEL_2dac14b29c2e4b8da2394f18aaf80bbf",
       "value": "job has successfully run"
      }
     },
     "123ec2ddfa1c4fff8f23d84740ef8d00": {
      "model_module": "@jupyter-widgets/controls",
      "model_module_version": "2.0.0",
      "model_name": "HTMLModel",
      "state": {
       "layout": "IPY_MODEL_143fd4b432204677b24201dc9c6185b2",
       "style": "IPY_MODEL_ae18ecea79e14f409fbc6e92fc89abc1",
       "value": "<font style='color:#34BC6E'>DONE</font>"
      }
     },
     "129d02f058794e689789bcecf33f6944": {
      "model_module": "@jupyter-widgets/base",
      "model_module_version": "2.0.0",
      "model_name": "LayoutModel",
      "state": {
       "width": "70px"
      }
     },
     "133587d7f60a444d853740e5308e77a1": {
      "model_module": "@jupyter-widgets/controls",
      "model_module_version": "2.0.0",
      "model_name": "ButtonStyleModel",
      "state": {
       "button_color": "white",
       "font_family": null,
       "font_size": null,
       "font_style": null,
       "font_variant": null,
       "font_weight": null,
       "text_color": null,
       "text_decoration": null
      }
     },
     "13868d22f51d40b89ac1f2bdc4a46576": {
      "model_module": "@jupyter-widgets/base",
      "model_module_version": "2.0.0",
      "model_name": "LayoutModel",
      "state": {}
     },
     "13f3b06bceee476590077c4bb64ae868": {
      "model_module": "@jupyter-widgets/controls",
      "model_module_version": "2.0.0",
      "model_name": "HTMLModel",
      "state": {
       "layout": "IPY_MODEL_cad76763bac64fdc9ed119d81a30c4b2",
       "style": "IPY_MODEL_a403965a47fa4383ae89a03c7c90cc34",
       "value": "ck27sdqlnssf0d7kj1ng"
      }
     },
     "1403a3f66ae04415b798aecec2eb1431": {
      "model_module": "@jupyter-widgets/base",
      "model_module_version": "2.0.0",
      "model_name": "LayoutModel",
      "state": {
       "width": "190px"
      }
     },
     "143fd4b432204677b24201dc9c6185b2": {
      "model_module": "@jupyter-widgets/base",
      "model_module_version": "2.0.0",
      "model_name": "LayoutModel",
      "state": {
       "width": "95px"
      }
     },
     "14a380dc58c149df8de7886cce24ba57": {
      "model_module": "@jupyter-widgets/base",
      "model_module_version": "2.0.0",
      "model_name": "LayoutModel",
      "state": {
       "width": "145px"
      }
     },
     "154a2b8844104fd981b46c5e716773d6": {
      "model_module": "@jupyter-widgets/controls",
      "model_module_version": "2.0.0",
      "model_name": "HBoxModel",
      "state": {
       "children": [
        "IPY_MODEL_6d785d0964f64b109cb445d0c815684a",
        "IPY_MODEL_f21d832af3844566815b588ca2c4a73e",
        "IPY_MODEL_9f00470121da4ac7bb020d4e3af0bc3c",
        "IPY_MODEL_0b85505cc8d24b7688d4e787754d0d60",
        "IPY_MODEL_35442ff5e9d34047aea66704cb814b64",
        "IPY_MODEL_46c09102194640dabc37f5211c65c1c6"
       ],
       "layout": "IPY_MODEL_959f08255387470188b845971ef40d3a"
      }
     },
     "1570b127ed6a466d89c5fedfc18a3717": {
      "model_module": "@jupyter-widgets/controls",
      "model_module_version": "2.0.0",
      "model_name": "HTMLModel",
      "state": {
       "layout": "IPY_MODEL_930f7ad4ecaf43f49c58fbe620430521",
       "style": "IPY_MODEL_78b725f10d6044af984ab044234a6a98",
       "value": "job has successfully run"
      }
     },
     "15a40d97bdca44d584c723c9b8356242": {
      "model_module": "@jupyter-widgets/base",
      "model_module_version": "2.0.0",
      "model_name": "LayoutModel",
      "state": {
       "margin": "0px 5px 0px 0px",
       "width": "32px"
      }
     },
     "160da1d393e54b578e8c0dbeeda06db2": {
      "model_module": "@jupyter-widgets/controls",
      "model_module_version": "2.0.0",
      "model_name": "HTMLStyleModel",
      "state": {
       "description_width": "",
       "font_size": null,
       "text_color": null
      }
     },
     "16b08e5229884545a301fabe8609123e": {
      "model_module": "@jupyter-widgets/base",
      "model_module_version": "2.0.0",
      "model_name": "LayoutModel",
      "state": {
       "max_width": "700px",
       "min_width": "700px"
      }
     },
     "187f4e8500c84506b215e7b1e76bbf67": {
      "model_module": "@jupyter-widgets/base",
      "model_module_version": "2.0.0",
      "model_name": "LayoutModel",
      "state": {}
     },
     "1949dbe092d54c8b857fa5d194352287": {
      "model_module": "@jupyter-widgets/controls",
      "model_module_version": "2.0.0",
      "model_name": "ButtonStyleModel",
      "state": {
       "button_color": "white",
       "font_family": null,
       "font_size": null,
       "font_style": null,
       "font_variant": null,
       "font_weight": null,
       "text_color": null,
       "text_decoration": null
      }
     },
     "1959164dfb434e6eae6c25525b2e5363": {
      "model_module": "@jupyter-widgets/controls",
      "model_module_version": "2.0.0",
      "model_name": "ButtonStyleModel",
      "state": {
       "button_color": "white",
       "font_family": null,
       "font_size": null,
       "font_style": null,
       "font_variant": null,
       "font_weight": null,
       "text_color": null,
       "text_decoration": null
      }
     },
     "197d2109415a482599d70ec68e4f343e": {
      "model_module": "@jupyter-widgets/controls",
      "model_module_version": "2.0.0",
      "model_name": "HTMLStyleModel",
      "state": {
       "description_width": "",
       "font_size": null,
       "text_color": null
      }
     },
     "1aae0307bb4d46a28ddd0c286ca0d890": {
      "model_module": "@jupyter-widgets/controls",
      "model_module_version": "2.0.0",
      "model_name": "HTMLModel",
      "state": {
       "layout": "IPY_MODEL_74129764ec6642f0a9dae74df6e5a360",
       "style": "IPY_MODEL_f811aded831441e79943ffd56d38de50",
       "value": "ibmq_kolkata"
      }
     },
     "1ab2180735d74e4395543ce806d6eea7": {
      "model_module": "@jupyter-widgets/controls",
      "model_module_version": "2.0.0",
      "model_name": "HTMLStyleModel",
      "state": {
       "description_width": "",
       "font_size": null,
       "text_color": null
      }
     },
     "1b1c1dd0db4d40b485c5c142f14d5bd8": {
      "model_module": "@jupyter-widgets/base",
      "model_module_version": "2.0.0",
      "model_name": "LayoutModel",
      "state": {
       "margin": "0px 5px 0px 0px",
       "width": "32px"
      }
     },
     "1cc73c51b4714cdba7113837719ec905": {
      "model_module": "@jupyter-widgets/controls",
      "model_module_version": "2.0.0",
      "model_name": "HTMLStyleModel",
      "state": {
       "description_width": "",
       "font_size": null,
       "text_color": null
      }
     },
     "1d8182c81c164c72ab97763367808387": {
      "model_module": "@jupyter-widgets/base",
      "model_module_version": "2.0.0",
      "model_name": "LayoutModel",
      "state": {
       "width": "95px"
      }
     },
     "1e447aff182d4a77a1a82e01184e7dd6": {
      "model_module": "@jupyter-widgets/controls",
      "model_module_version": "2.0.0",
      "model_name": "HTMLStyleModel",
      "state": {
       "description_width": "",
       "font_size": null,
       "text_color": null
      }
     },
     "1ee7a3efe5eb4673a7b05f908e7a644d": {
      "model_module": "@jupyter-widgets/controls",
      "model_module_version": "2.0.0",
      "model_name": "HTMLStyleModel",
      "state": {
       "description_width": "",
       "font_size": null,
       "text_color": null
      }
     },
     "1f34792311fb48a0addd5baa348d2a57": {
      "model_module": "@jupyter-widgets/controls",
      "model_module_version": "2.0.0",
      "model_name": "HBoxModel",
      "state": {
       "children": [
        "IPY_MODEL_f92a758b5bd54a1fbafda26cca64c162",
        "IPY_MODEL_0af5f6ff681a42debc28e162fba1b352",
        "IPY_MODEL_09cbad3553e04550a9672d5474e9799f",
        "IPY_MODEL_70130977c29b445a8a0c378bfbd555fa",
        "IPY_MODEL_00e9ce4897ae4804aa28b3bfa6856ee5",
        "IPY_MODEL_dcf20818c8aa45d68ed48630c097f70e"
       ],
       "layout": "IPY_MODEL_85bbdc811fbc41dfb394e1040e9bf6c5"
      }
     },
     "1f4ed82491684a119174757cb94ffa9b": {
      "model_module": "@jupyter-widgets/controls",
      "model_module_version": "2.0.0",
      "model_name": "ButtonModel",
      "state": {
       "icon": "close",
       "layout": "IPY_MODEL_15a40d97bdca44d584c723c9b8356242",
       "style": "IPY_MODEL_3bced88e06bf4bc2b33b8eaae261eed9",
       "tooltip": null
      }
     },
     "1f77fa6e275c461dbc3d98371d14b8ba": {
      "model_module": "@jupyter-widgets/controls",
      "model_module_version": "2.0.0",
      "model_name": "HTMLStyleModel",
      "state": {
       "description_width": "",
       "font_size": null,
       "text_color": null
      }
     },
     "1f84fc4af1ae43e493e9f500d08cdf83": {
      "model_module": "@jupyter-widgets/base",
      "model_module_version": "2.0.0",
      "model_name": "LayoutModel",
      "state": {
       "width": "70px"
      }
     },
     "1f9f89896351434d9d73d5e7a0bf3f32": {
      "model_module": "@jupyter-widgets/controls",
      "model_module_version": "2.0.0",
      "model_name": "HTMLModel",
      "state": {
       "layout": "IPY_MODEL_d9431f65dd424862a5d2f6ef4d4809d7",
       "style": "IPY_MODEL_7f1a5db12fea41b1830fd6be0440f9f6",
       "value": "ck27s4cai8c00cmu5480"
      }
     },
     "1fe54f677d78406cb24925f4655fb163": {
      "model_module": "@jupyter-widgets/controls",
      "model_module_version": "2.0.0",
      "model_name": "HTMLStyleModel",
      "state": {
       "description_width": "",
       "font_size": null,
       "text_color": null
      }
     },
     "2024d93abc9e42fab5e1fc9e566c6c7d": {
      "model_module": "@jupyter-widgets/controls",
      "model_module_version": "2.0.0",
      "model_name": "HTMLStyleModel",
      "state": {
       "description_width": "",
       "font_size": null,
       "text_color": null
      }
     },
     "2057bbd97d394b14bbc9af571c8fa309": {
      "model_module": "@jupyter-widgets/controls",
      "model_module_version": "2.0.0",
      "model_name": "HBoxModel",
      "state": {
       "children": [
        "IPY_MODEL_342725c2f17542c1a0cdc04ad1f4ed8f",
        "IPY_MODEL_343e93370c4141358f085356a03c6375",
        "IPY_MODEL_937bf48e0f494c15afc6629c9b0b3666",
        "IPY_MODEL_3ea5188577ea43e99bfd31e6db4f4e8b",
        "IPY_MODEL_8d32261653864d2bb448cd6f33e83afd",
        "IPY_MODEL_73a88c364dfe49f796f463317a845196"
       ],
       "layout": "IPY_MODEL_9cd7ded4e6a4486d97440151f20e8a90"
      }
     },
     "20ac5bf1cd9e4ec1992dd8266dca0a31": {
      "model_module": "@jupyter-widgets/controls",
      "model_module_version": "2.0.0",
      "model_name": "HTMLModel",
      "state": {
       "layout": "IPY_MODEL_4b1018e07d394079b608d6733bdc48ec",
       "style": "IPY_MODEL_92cc6343568444198c147040cf8a35d1",
       "value": "<h5>Message</h5>"
      }
     },
     "20d9f97621cc4641aff518c5da81cd8a": {
      "model_module": "@jupyter-widgets/base",
      "model_module_version": "2.0.0",
      "model_name": "LayoutModel",
      "state": {
       "width": "70px"
      }
     },
     "22055d25bb9f4dd7b04f1316e3ecb3e4": {
      "model_module": "@jupyter-widgets/controls",
      "model_module_version": "2.0.0",
      "model_name": "ButtonModel",
      "state": {
       "icon": "close",
       "layout": "IPY_MODEL_323a520e80de4e3495ed0264bf8443af",
       "style": "IPY_MODEL_3879c88b61864c3aafc11fcfe14162c6",
       "tooltip": null
      }
     },
     "2218dcf9f41d4c35ba85ccb0055a5822": {
      "model_module": "@jupyter-widgets/base",
      "model_module_version": "2.0.0",
      "model_name": "LayoutModel",
      "state": {}
     },
     "2223f39ee3084c0fa02776a46f5da800": {
      "model_module": "@jupyter-widgets/controls",
      "model_module_version": "2.0.0",
      "model_name": "HTMLStyleModel",
      "state": {
       "description_width": "",
       "font_size": null,
       "text_color": null
      }
     },
     "225518ff53b3410ebe151616aa6a7334": {
      "model_module": "@jupyter-widgets/controls",
      "model_module_version": "2.0.0",
      "model_name": "HTMLStyleModel",
      "state": {
       "description_width": "",
       "font_size": null,
       "text_color": null
      }
     },
     "2282d342837e433d8bd5c5f600ef1117": {
      "model_module": "@jupyter-widgets/controls",
      "model_module_version": "2.0.0",
      "model_name": "HTMLStyleModel",
      "state": {
       "description_width": "",
       "font_size": null,
       "text_color": null
      }
     },
     "229d1179e6a54a10b51f751639ca5dc2": {
      "model_module": "@jupyter-widgets/base",
      "model_module_version": "2.0.0",
      "model_name": "LayoutModel",
      "state": {
       "max_width": "700px",
       "min_width": "700px"
      }
     },
     "24ae92e2c0894cb6a32cd767e07d6d30": {
      "model_module": "@jupyter-widgets/controls",
      "model_module_version": "2.0.0",
      "model_name": "HTMLModel",
      "state": {
       "layout": "IPY_MODEL_7cb62add6a494647a2f80b097072ebf2",
       "style": "IPY_MODEL_6d1c0d31150848409a75375ba568f589",
       "value": "job has successfully run"
      }
     },
     "24ccc539a81b4188ba83fd2760da50af": {
      "model_module": "@jupyter-widgets/base",
      "model_module_version": "2.0.0",
      "model_name": "LayoutModel",
      "state": {
       "width": "70px"
      }
     },
     "24ea1f0b3d834da399277f16414c75f3": {
      "model_module": "@jupyter-widgets/base",
      "model_module_version": "2.0.0",
      "model_name": "LayoutModel",
      "state": {
       "max_width": "700px",
       "min_width": "700px"
      }
     },
     "251f237b18c84ffcb5f29b3a85a6cde3": {
      "model_module": "@jupyter-widgets/controls",
      "model_module_version": "2.0.0",
      "model_name": "HTMLModel",
      "state": {
       "layout": "IPY_MODEL_d024852fe1ab466d833b0cf48fa4a7c5",
       "style": "IPY_MODEL_197d2109415a482599d70ec68e4f343e",
       "value": "ibmq_kolkata"
      }
     },
     "252431caf074401588bf4acc5fd48577": {
      "model_module": "@jupyter-widgets/base",
      "model_module_version": "2.0.0",
      "model_name": "LayoutModel",
      "state": {}
     },
     "2535540895d84fa1a771434c02daab26": {
      "model_module": "@jupyter-widgets/controls",
      "model_module_version": "2.0.0",
      "model_name": "HTMLStyleModel",
      "state": {
       "description_width": "",
       "font_size": null,
       "text_color": null
      }
     },
     "258142fe7fcf40fc949172a32c97202e": {
      "model_module": "@jupyter-widgets/controls",
      "model_module_version": "2.0.0",
      "model_name": "HTMLStyleModel",
      "state": {
       "description_width": "",
       "font_size": null,
       "text_color": null
      }
     },
     "25b1d1ad70cf4d3fbd34a3dcb1a3ac7a": {
      "model_module": "@jupyter-widgets/base",
      "model_module_version": "2.0.0",
      "model_name": "LayoutModel",
      "state": {
       "width": "95px"
      }
     },
     "25db7c8c92b649c4859b458cbd8d4b63": {
      "model_module": "@jupyter-widgets/base",
      "model_module_version": "2.0.0",
      "model_name": "LayoutModel",
      "state": {
       "grid_area": "right",
       "padding": "0px 0px 0px 0px",
       "width": "70px"
      }
     },
     "25f00ae3efbd49738bac580dea54fbfa": {
      "model_module": "@jupyter-widgets/controls",
      "model_module_version": "2.0.0",
      "model_name": "HBoxModel",
      "state": {
       "children": [
        "IPY_MODEL_01a1a47e48ef4022971cb39069646f8a",
        "IPY_MODEL_4ee21a8fe28d43129595f2979ea3a091",
        "IPY_MODEL_4f843811160b40dd884251edd6abd204",
        "IPY_MODEL_5c25478a439448b9a6fa28359621a295",
        "IPY_MODEL_cd27f3cf6b434c83bf1cc85ed1870b13",
        "IPY_MODEL_e1a8ccf771994f9182294b09c794c0c7"
       ],
       "layout": "IPY_MODEL_229d1179e6a54a10b51f751639ca5dc2"
      }
     },
     "26424370f817424baff9da94a62544bb": {
      "model_module": "@jupyter-widgets/controls",
      "model_module_version": "2.0.0",
      "model_name": "ButtonModel",
      "state": {
       "icon": "close",
       "layout": "IPY_MODEL_d0be8a5635fa457e8aa6c3a5eea477a1",
       "style": "IPY_MODEL_29419d2091234a8ebd7d82a62f18ffd1",
       "tooltip": null
      }
     },
     "2719e0f35f7f4f4983ec2c1e6a84bb0b": {
      "model_module": "@jupyter-widgets/base",
      "model_module_version": "2.0.0",
      "model_name": "LayoutModel",
      "state": {
       "width": "190px"
      }
     },
     "27d57d10eb104c1f966f5dd3d257a5f0": {
      "model_module": "@jupyter-widgets/controls",
      "model_module_version": "2.0.0",
      "model_name": "HTMLStyleModel",
      "state": {
       "description_width": "",
       "font_size": null,
       "text_color": null
      }
     },
     "28465c7acea440c2b9103f3d052b34dc": {
      "model_module": "@jupyter-widgets/base",
      "model_module_version": "2.0.0",
      "model_name": "LayoutModel",
      "state": {}
     },
     "28d3cf98c25b4aa19d02e5bea3b9775f": {
      "model_module": "@jupyter-widgets/controls",
      "model_module_version": "2.0.0",
      "model_name": "HTMLModel",
      "state": {
       "layout": "IPY_MODEL_846d666dcc2a4b9cbf94df054d7f500f",
       "style": "IPY_MODEL_ee41b28293554a36871183ff22fa0d38",
       "value": "<font style='color:#34BC6E'>DONE</font>"
      }
     },
     "29419d2091234a8ebd7d82a62f18ffd1": {
      "model_module": "@jupyter-widgets/controls",
      "model_module_version": "2.0.0",
      "model_name": "ButtonStyleModel",
      "state": {
       "button_color": "white",
       "font_family": null,
       "font_size": null,
       "font_style": null,
       "font_variant": null,
       "font_weight": null,
       "text_color": null,
       "text_decoration": null
      }
     },
     "2ab9d84e986240639093fdc0ea4e6a53": {
      "model_module": "@jupyter-widgets/controls",
      "model_module_version": "2.0.0",
      "model_name": "HTMLStyleModel",
      "state": {
       "description_width": "",
       "font_size": null,
       "text_color": null
      }
     },
     "2b762a3db8aa46f3936c6703ee6b0876": {
      "model_module": "@jupyter-widgets/controls",
      "model_module_version": "2.0.0",
      "model_name": "HTMLModel",
      "state": {
       "layout": "IPY_MODEL_ce1cf19fc1834ea7a04cbde07447ef6d",
       "style": "IPY_MODEL_e582a246069a4ea0a7b0bca4b0393607",
       "value": "ck280t5p5gfcppg76vvg"
      }
     },
     "2b78b46c94914323985e76ad2d4eabfb": {
      "model_module": "@jupyter-widgets/controls",
      "model_module_version": "2.0.0",
      "model_name": "HTMLStyleModel",
      "state": {
       "description_width": "",
       "font_size": null,
       "text_color": null
      }
     },
     "2be84e5418cf416d8431f8893a0c4850": {
      "model_module": "@jupyter-widgets/controls",
      "model_module_version": "2.0.0",
      "model_name": "HTMLStyleModel",
      "state": {
       "description_width": "",
       "font_size": null,
       "text_color": null
      }
     },
     "2c8c09592c1e4a2eb6efab8a751825a8": {
      "model_module": "@jupyter-widgets/controls",
      "model_module_version": "2.0.0",
      "model_name": "HTMLModel",
      "state": {
       "layout": "IPY_MODEL_5f5aafd9422e41e59d6a0ea3457548e7",
       "style": "IPY_MODEL_c2b891f54cc44bff8d4431f328149031",
       "value": "ibmq_kolkata"
      }
     },
     "2ca9f3311e6940ca9490ed63057c805c": {
      "model_module": "@jupyter-widgets/base",
      "model_module_version": "2.0.0",
      "model_name": "LayoutModel",
      "state": {}
     },
     "2cd0f2072c5a43c19c7719e898c924ce": {
      "model_module": "@jupyter-widgets/controls",
      "model_module_version": "2.0.0",
      "model_name": "HTMLStyleModel",
      "state": {
       "description_width": "",
       "font_size": null,
       "text_color": null
      }
     },
     "2cffac42ad3b4036bcdbaa2e0ae4398b": {
      "model_module": "@jupyter-widgets/base",
      "model_module_version": "2.0.0",
      "model_name": "LayoutModel",
      "state": {
       "max_width": "700px",
       "min_width": "700px"
      }
     },
     "2d48cf7f13a5455480409b4c39577a70": {
      "model_module": "@jupyter-widgets/controls",
      "model_module_version": "2.0.0",
      "model_name": "HTMLStyleModel",
      "state": {
       "description_width": "",
       "font_size": null,
       "text_color": null
      }
     },
     "2d9e03637c0d4a588ac38d278065d166": {
      "model_module": "@jupyter-widgets/controls",
      "model_module_version": "2.0.0",
      "model_name": "HTMLModel",
      "state": {
       "layout": "IPY_MODEL_f194859eb9f4482fb910d3a30b1fc5bb",
       "style": "IPY_MODEL_86e395b034984312871905b863867bae",
       "value": "ck28232dijuadepq9o70"
      }
     },
     "2dac14b29c2e4b8da2394f18aaf80bbf": {
      "model_module": "@jupyter-widgets/controls",
      "model_module_version": "2.0.0",
      "model_name": "HTMLStyleModel",
      "state": {
       "description_width": "",
       "font_size": null,
       "text_color": null
      }
     },
     "2e810069d2fa4486b21a7db32114dcdf": {
      "model_module": "@jupyter-widgets/controls",
      "model_module_version": "2.0.0",
      "model_name": "HTMLStyleModel",
      "state": {
       "description_width": "",
       "font_size": null,
       "text_color": null
      }
     },
     "2edaca0669a8452095d1b0881b2d25e5": {
      "model_module": "@jupyter-widgets/controls",
      "model_module_version": "2.0.0",
      "model_name": "ButtonStyleModel",
      "state": {
       "button_color": "white",
       "font_family": null,
       "font_size": null,
       "font_style": null,
       "font_variant": null,
       "font_weight": null,
       "text_color": null,
       "text_decoration": null
      }
     },
     "30a0bb4cbc2c42c0849d1d42199ea310": {
      "model_module": "@jupyter-widgets/controls",
      "model_module_version": "2.0.0",
      "model_name": "HTMLStyleModel",
      "state": {
       "description_width": "",
       "font_size": null,
       "text_color": null
      }
     },
     "30a70ac9f95546c88b3827ea918e07ec": {
      "model_module": "@jupyter-widgets/controls",
      "model_module_version": "2.0.0",
      "model_name": "HTMLModel",
      "state": {
       "layout": "IPY_MODEL_de1625e3c95a456191684f36fdfed000",
       "style": "IPY_MODEL_f005eb34330943e59f1bf8d3918deb75",
       "value": "<font style='color:#34BC6E'>DONE</font>"
      }
     },
     "30e63af06e774178b833314a2c5868a1": {
      "model_module": "@jupyter-widgets/base",
      "model_module_version": "2.0.0",
      "model_name": "LayoutModel",
      "state": {
       "margin": "0px 5px 0px 0px",
       "width": "32px"
      }
     },
     "3167fe698ea04696a39e02f4f75252b8": {
      "model_module": "@jupyter-widgets/controls",
      "model_module_version": "2.0.0",
      "model_name": "HTMLStyleModel",
      "state": {
       "description_width": "",
       "font_size": null,
       "text_color": null
      }
     },
     "3221b05da6834b4cb4170ff713a526ec": {
      "model_module": "@jupyter-widgets/controls",
      "model_module_version": "2.0.0",
      "model_name": "HTMLModel",
      "state": {
       "layout": "IPY_MODEL_470a42e4317d41a183da7642172ff81b",
       "style": "IPY_MODEL_160da1d393e54b578e8c0dbeeda06db2",
       "value": "ibmq_kolkata"
      }
     },
     "323a520e80de4e3495ed0264bf8443af": {
      "model_module": "@jupyter-widgets/base",
      "model_module_version": "2.0.0",
      "model_name": "LayoutModel",
      "state": {
       "margin": "0px 5px 0px 0px",
       "width": "32px"
      }
     },
     "3293a389e653470981676a0364a6ea77": {
      "model_module": "@jupyter-widgets/controls",
      "model_module_version": "2.0.0",
      "model_name": "HTMLModel",
      "state": {
       "layout": "IPY_MODEL_83fc454a0e2d4cc593236b0f5df892e2",
       "style": "IPY_MODEL_0a19327f9d8e457aa8b4bdbad599f675",
       "value": "job has successfully run"
      }
     },
     "33092cb6597f44af9f6368c777cc3a79": {
      "model_module": "@jupyter-widgets/controls",
      "model_module_version": "2.0.0",
      "model_name": "HBoxModel",
      "state": {
       "children": [
        "IPY_MODEL_0555ba04d4174e4783e1fbdc2a4140d2",
        "IPY_MODEL_9901020945a440f8b0db7c010db13b8b",
        "IPY_MODEL_89fb6e7830bd43259f74b41c73a1f0cf",
        "IPY_MODEL_8e70b060a6714df69f7a707dd9dae84e",
        "IPY_MODEL_fca4c2666471404c9e634d3b43a94a0a",
        "IPY_MODEL_7eadf97e4ebd42f5a0a15dbe9e3e5fdb"
       ],
       "layout": "IPY_MODEL_6667ecf5ae344209b6abbc0d51c63c57"
      }
     },
     "3325965d05744d83b893f54cf5a8faa2": {
      "model_module": "@jupyter-widgets/controls",
      "model_module_version": "2.0.0",
      "model_name": "HTMLStyleModel",
      "state": {
       "description_width": "",
       "font_size": null,
       "text_color": null
      }
     },
     "33904036dee4425a99998c359cd228f2": {
      "model_module": "@jupyter-widgets/base",
      "model_module_version": "2.0.0",
      "model_name": "LayoutModel",
      "state": {
       "width": "70px"
      }
     },
     "33d55a7debd246e4bde548bc0ad1afe4": {
      "model_module": "@jupyter-widgets/base",
      "model_module_version": "2.0.0",
      "model_name": "LayoutModel",
      "state": {
       "width": "145px"
      }
     },
     "342725c2f17542c1a0cdc04ad1f4ed8f": {
      "model_module": "@jupyter-widgets/controls",
      "model_module_version": "2.0.0",
      "model_name": "ButtonModel",
      "state": {
       "icon": "close",
       "layout": "IPY_MODEL_d64c2b98ee454dd694995eeea4348301",
       "style": "IPY_MODEL_376239a9ab294fef96f82a14309a687d",
       "tooltip": null
      }
     },
     "343e93370c4141358f085356a03c6375": {
      "model_module": "@jupyter-widgets/controls",
      "model_module_version": "2.0.0",
      "model_name": "HTMLModel",
      "state": {
       "layout": "IPY_MODEL_dc32e77259f54249ba964c99852c3237",
       "style": "IPY_MODEL_00a44fb1495b4f628605c0ce914d8d86",
       "value": "ck27qtsai8c00cmu1qd0"
      }
     },
     "35442ff5e9d34047aea66704cb814b64": {
      "model_module": "@jupyter-widgets/controls",
      "model_module_version": "2.0.0",
      "model_name": "HTMLModel",
      "state": {
       "layout": "IPY_MODEL_9a1f318cc96f49e68f1c7d92d72590da",
       "style": "IPY_MODEL_b2c942285ef34e0fa233ede5fdbb309a",
       "value": "-"
      }
     },
     "354a1548ce2d4591b284025b255d122e": {
      "model_module": "@jupyter-widgets/base",
      "model_module_version": "2.0.0",
      "model_name": "LayoutModel",
      "state": {
       "width": "190px"
      }
     },
     "357d7a52a3ee4c6eb2d56f000c9cf4c9": {
      "model_module": "@jupyter-widgets/controls",
      "model_module_version": "2.0.0",
      "model_name": "HTMLModel",
      "state": {
       "layout": "IPY_MODEL_9e4da54f096d414c81b837e1fc94a3ec",
       "style": "IPY_MODEL_d78925f0ef0c4788b17ad97f60501443",
       "value": "-"
      }
     },
     "35bddde27ec64e0092249c7ce93c9177": {
      "model_module": "@jupyter-widgets/base",
      "model_module_version": "2.0.0",
      "model_name": "LayoutModel",
      "state": {
       "max_width": "700px",
       "min_width": "700px"
      }
     },
     "375d0a4a2ddb43189621758f8504cdff": {
      "model_module": "@jupyter-widgets/controls",
      "model_module_version": "2.0.0",
      "model_name": "HTMLStyleModel",
      "state": {
       "description_width": "",
       "font_size": null,
       "text_color": null
      }
     },
     "376239a9ab294fef96f82a14309a687d": {
      "model_module": "@jupyter-widgets/controls",
      "model_module_version": "2.0.0",
      "model_name": "ButtonStyleModel",
      "state": {
       "button_color": "white",
       "font_family": null,
       "font_size": null,
       "font_style": null,
       "font_variant": null,
       "font_weight": null,
       "text_color": null,
       "text_decoration": null
      }
     },
     "3764ef5aa04f4199bbba35a6648fd5d7": {
      "model_module": "@jupyter-widgets/controls",
      "model_module_version": "2.0.0",
      "model_name": "HTMLModel",
      "state": {
       "layout": "IPY_MODEL_566fea7898514b2285c3625fee79789a",
       "style": "IPY_MODEL_69e1672e216846739fac70c95ed7ff5a",
       "value": "-"
      }
     },
     "3807144fe5614b46afbcc45696c5a5b3": {
      "model_module": "@jupyter-widgets/controls",
      "model_module_version": "2.0.0",
      "model_name": "HTMLModel",
      "state": {
       "layout": "IPY_MODEL_a707ac8ce80d4820a9a6dc25cfc8f740",
       "style": "IPY_MODEL_ef34379ab311426699e3990daf309324",
       "value": "ibmq_kolkata"
      }
     },
     "385c5b09924e40bbb7b3fbe74cef2b53": {
      "model_module": "@jupyter-widgets/controls",
      "model_module_version": "2.0.0",
      "model_name": "HTMLStyleModel",
      "state": {
       "description_width": "",
       "font_size": null,
       "text_color": null
      }
     },
     "3879c88b61864c3aafc11fcfe14162c6": {
      "model_module": "@jupyter-widgets/controls",
      "model_module_version": "2.0.0",
      "model_name": "ButtonStyleModel",
      "state": {
       "button_color": "white",
       "font_family": null,
       "font_size": null,
       "font_style": null,
       "font_variant": null,
       "font_weight": null,
       "text_color": null,
       "text_decoration": null
      }
     },
     "387b65fba0264583852168c02e274d53": {
      "model_module": "@jupyter-widgets/controls",
      "model_module_version": "2.0.0",
      "model_name": "ButtonStyleModel",
      "state": {
       "button_color": "white",
       "font_family": null,
       "font_size": null,
       "font_style": null,
       "font_variant": null,
       "font_weight": null,
       "text_color": null,
       "text_decoration": null
      }
     },
     "3893d01276cd4c1aa949245f6f6473c5": {
      "model_module": "@jupyter-widgets/controls",
      "model_module_version": "2.0.0",
      "model_name": "HTMLModel",
      "state": {
       "layout": "IPY_MODEL_e9ab711446264cc39cca707ffbfa1e69",
       "style": "IPY_MODEL_7e91dffb95914bc2bea7f731c364ec8d",
       "value": "job has been cancelled"
      }
     },
     "38ec65c6c8ba444cb6a14ef25adb6e4e": {
      "model_module": "@jupyter-widgets/base",
      "model_module_version": "2.0.0",
      "model_name": "LayoutModel",
      "state": {
       "width": "190px"
      }
     },
     "3a0e36e1022a4f5080a69bbd6c783df8": {
      "model_module": "@jupyter-widgets/controls",
      "model_module_version": "2.0.0",
      "model_name": "HTMLModel",
      "state": {
       "layout": "IPY_MODEL_84cba6b40c8141f6a2ea9c6debe117a3",
       "style": "IPY_MODEL_ad25e20f2eaf417eb3677fdb1bf2fe8f",
       "value": "-"
      }
     },
     "3ab4e4d823ec4046aa7695918b259da9": {
      "model_module": "@jupyter-widgets/base",
      "model_module_version": "2.0.0",
      "model_name": "LayoutModel",
      "state": {
       "width": "95px"
      }
     },
     "3ab574ae60314f23a4a1b868e21a87e8": {
      "model_module": "@jupyter-widgets/controls",
      "model_module_version": "2.0.0",
      "model_name": "HTMLStyleModel",
      "state": {
       "description_width": "",
       "font_size": null,
       "text_color": null
      }
     },
     "3b3af7ee5b6a441f8426f6212af20f29": {
      "model_module": "@jupyter-widgets/controls",
      "model_module_version": "2.0.0",
      "model_name": "ButtonStyleModel",
      "state": {
       "button_color": "white",
       "font_family": null,
       "font_size": null,
       "font_style": null,
       "font_variant": null,
       "font_weight": null,
       "text_color": null,
       "text_decoration": null
      }
     },
     "3bced88e06bf4bc2b33b8eaae261eed9": {
      "model_module": "@jupyter-widgets/controls",
      "model_module_version": "2.0.0",
      "model_name": "ButtonStyleModel",
      "state": {
       "button_color": "white",
       "font_family": null,
       "font_size": null,
       "font_style": null,
       "font_variant": null,
       "font_weight": null,
       "text_color": null,
       "text_decoration": null
      }
     },
     "3cb9ed857a5c484ebc3f7bdc47092481": {
      "model_module": "@jupyter-widgets/base",
      "model_module_version": "2.0.0",
      "model_name": "LayoutModel",
      "state": {
       "width": "95px"
      }
     },
     "3d6c5e673b474984ad4647b197d80931": {
      "model_module": "@jupyter-widgets/controls",
      "model_module_version": "2.0.0",
      "model_name": "HTMLStyleModel",
      "state": {
       "description_width": "",
       "font_size": null,
       "text_color": null
      }
     },
     "3ea5188577ea43e99bfd31e6db4f4e8b": {
      "model_module": "@jupyter-widgets/controls",
      "model_module_version": "2.0.0",
      "model_name": "HTMLModel",
      "state": {
       "layout": "IPY_MODEL_25b1d1ad70cf4d3fbd34a3dcb1a3ac7a",
       "style": "IPY_MODEL_3325965d05744d83b893f54cf5a8faa2",
       "value": "<font style='color:#34BC6E'>DONE</font>"
      }
     },
     "3eac1b862abb44dd81fe93221fcbb3c1": {
      "model_module": "@jupyter-widgets/controls",
      "model_module_version": "2.0.0",
      "model_name": "HBoxModel",
      "state": {
       "children": [
        "IPY_MODEL_97a548b762d94de69499cfdbd1313f46",
        "IPY_MODEL_13f3b06bceee476590077c4bb64ae868",
        "IPY_MODEL_2c8c09592c1e4a2eb6efab8a751825a8",
        "IPY_MODEL_60cc2fdfd6ab4b45b9b725ecc6cddc1a",
        "IPY_MODEL_3764ef5aa04f4199bbba35a6648fd5d7",
        "IPY_MODEL_8e9903c3b1dd4e249e275707cbcbbeb5"
       ],
       "layout": "IPY_MODEL_a22acf5ff4c541318020d32e5c6b318e"
      }
     },
     "3edc08e1961344a7b4613a2368f84598": {
      "model_module": "@jupyter-widgets/base",
      "model_module_version": "2.0.0",
      "model_name": "LayoutModel",
      "state": {}
     },
     "3f972fc65f2745af90a236817346bd71": {
      "model_module": "@jupyter-widgets/controls",
      "model_module_version": "2.0.0",
      "model_name": "HTMLStyleModel",
      "state": {
       "description_width": "",
       "font_size": null,
       "text_color": null
      }
     },
     "3f9f8180283746f6a3b36fdb8ccbb455": {
      "model_module": "@jupyter-widgets/base",
      "model_module_version": "2.0.0",
      "model_name": "LayoutModel",
      "state": {
       "width": "95px"
      }
     },
     "3fabc0aff5b44d83bc27fb276bbcb5ba": {
      "model_module": "@jupyter-widgets/controls",
      "model_module_version": "2.0.0",
      "model_name": "HTMLModel",
      "state": {
       "layout": "IPY_MODEL_8cf6e8401c4348eab8162fe3e66daa53",
       "style": "IPY_MODEL_2282d342837e433d8bd5c5f600ef1117",
       "value": "ibmq_kolkata"
      }
     },
     "3fd87111e5e14751ab35c27de78572ae": {
      "model_module": "@jupyter-widgets/controls",
      "model_module_version": "2.0.0",
      "model_name": "HTMLStyleModel",
      "state": {
       "description_width": "",
       "font_size": null,
       "text_color": null
      }
     },
     "40477b68cfe44d68884469f02ef89cfb": {
      "model_module": "@jupyter-widgets/controls",
      "model_module_version": "2.0.0",
      "model_name": "HTMLModel",
      "state": {
       "layout": "IPY_MODEL_00a54be85efa48bb876a3c825f7cfe0e",
       "style": "IPY_MODEL_0b35ada0f34a4ecf99a543a8135dd6f0",
       "value": "-"
      }
     },
     "40e90b0a30ee46149fc61cf7a8e7e751": {
      "model_module": "@jupyter-widgets/controls",
      "model_module_version": "2.0.0",
      "model_name": "HTMLModel",
      "state": {
       "layout": "IPY_MODEL_6dd0d0f330e748599c88695b13816ada",
       "style": "IPY_MODEL_8bc922c18e654122a5b5169c84ffde3a",
       "value": "job has successfully run"
      }
     },
     "41f41f63190140008e661c6ec4722eea": {
      "model_module": "@jupyter-widgets/controls",
      "model_module_version": "2.0.0",
      "model_name": "ButtonStyleModel",
      "state": {
       "button_color": "white",
       "font_family": null,
       "font_size": null,
       "font_style": null,
       "font_variant": null,
       "font_weight": null,
       "text_color": null,
       "text_decoration": null
      }
     },
     "429577e675944811ab140d6110f48502": {
      "model_module": "@jupyter-widgets/base",
      "model_module_version": "2.0.0",
      "model_name": "LayoutModel",
      "state": {
       "width": "70px"
      }
     },
     "4611533cdd4647daa9e8e9880a938dbe": {
      "model_module": "@jupyter-widgets/controls",
      "model_module_version": "2.0.0",
      "model_name": "HTMLStyleModel",
      "state": {
       "description_width": "",
       "font_size": null,
       "text_color": null
      }
     },
     "469f1f8edb7b421bad4acad6127d454a": {
      "model_module": "@jupyter-widgets/base",
      "model_module_version": "2.0.0",
      "model_name": "LayoutModel",
      "state": {
       "margin": "0px 5px 0px 0px",
       "width": "32px"
      }
     },
     "46c09102194640dabc37f5211c65c1c6": {
      "model_module": "@jupyter-widgets/controls",
      "model_module_version": "2.0.0",
      "model_name": "HTMLModel",
      "state": {
       "layout": "IPY_MODEL_c07e33dc15a0437ba706386d6cbf994d",
       "style": "IPY_MODEL_edc2bc2cd67542b1842122490e88f202",
       "value": "job has successfully run"
      }
     },
     "4708bebbfb634036958b488e6d6e4ac2": {
      "model_module": "@jupyter-widgets/controls",
      "model_module_version": "2.0.0",
      "model_name": "HTMLStyleModel",
      "state": {
       "description_width": "",
       "font_size": null,
       "text_color": null
      }
     },
     "470a42e4317d41a183da7642172ff81b": {
      "model_module": "@jupyter-widgets/base",
      "model_module_version": "2.0.0",
      "model_name": "LayoutModel",
      "state": {
       "width": "145px"
      }
     },
     "475d0cd921af4c949ba03fc70c43b081": {
      "model_module": "@jupyter-widgets/controls",
      "model_module_version": "2.0.0",
      "model_name": "HTMLStyleModel",
      "state": {
       "description_width": "",
       "font_size": null,
       "text_color": null
      }
     },
     "476fb326a40d43379b106a7242a11eb2": {
      "model_module": "@jupyter-widgets/controls",
      "model_module_version": "2.0.0",
      "model_name": "HTMLStyleModel",
      "state": {
       "description_width": "",
       "font_size": null,
       "text_color": null
      }
     },
     "47f4572a18054da699affd51fd737ba3": {
      "model_module": "@jupyter-widgets/base",
      "model_module_version": "2.0.0",
      "model_name": "LayoutModel",
      "state": {}
     },
     "481ba9ea3e96414d9ccfacd7121d0e40": {
      "model_module": "@jupyter-widgets/controls",
      "model_module_version": "2.0.0",
      "model_name": "ButtonStyleModel",
      "state": {
       "button_color": "white",
       "font_family": null,
       "font_size": null,
       "font_style": null,
       "font_variant": null,
       "font_weight": null,
       "text_color": null,
       "text_decoration": null
      }
     },
     "483c94772e764aa399356c7bb931939e": {
      "model_module": "@jupyter-widgets/controls",
      "model_module_version": "2.0.0",
      "model_name": "HTMLModel",
      "state": {
       "layout": "IPY_MODEL_f37b9b2644d942f8818f73558778ecf2",
       "style": "IPY_MODEL_0d07070c9f4944488cb4fb0eb26e179c",
       "value": "<font style='color:#34BC6E'>DONE</font>"
      }
     },
     "48704c1c401b475b8a5372f42b421a40": {
      "model_module": "@jupyter-widgets/controls",
      "model_module_version": "2.0.0",
      "model_name": "HBoxModel",
      "state": {
       "children": [
        "IPY_MODEL_c6745231ea7e4de5a4c0199a428a863f",
        "IPY_MODEL_f34ab978336147caa5d5e0da4f37560c",
        "IPY_MODEL_118f48576305471c9b82e854fd51c145",
        "IPY_MODEL_7365600e0aef4e3ba8068488b66a1176",
        "IPY_MODEL_357d7a52a3ee4c6eb2d56f000c9cf4c9",
        "IPY_MODEL_48e2038420c6441e9459ef27b1ceec12"
       ],
       "layout": "IPY_MODEL_6930e712914f49d7bab0423500cb45b1"
      }
     },
     "487d60da605547999abb4d5333f279a2": {
      "model_module": "@jupyter-widgets/controls",
      "model_module_version": "2.0.0",
      "model_name": "HTMLModel",
      "state": {
       "layout": "IPY_MODEL_a38cfb4df31547b09256433b3515ce29",
       "style": "IPY_MODEL_e9b710853ab6427e81fe917b3e8d11f9",
       "value": "<font style='color:#34BC6E'>DONE</font>"
      }
     },
     "48e2038420c6441e9459ef27b1ceec12": {
      "model_module": "@jupyter-widgets/controls",
      "model_module_version": "2.0.0",
      "model_name": "HTMLModel",
      "state": {
       "layout": "IPY_MODEL_e33a0475c7db4befb9788597d3da4a6e",
       "style": "IPY_MODEL_58606a8d7f714dc8846d23b4e96b547a",
       "value": "job has successfully run"
      }
     },
     "48f476d5fce1487d8c6dc05a7c677120": {
      "model_module": "@jupyter-widgets/controls",
      "model_module_version": "2.0.0",
      "model_name": "HTMLModel",
      "state": {
       "layout": "IPY_MODEL_8d1059afb8fc4888ab30925d330be689",
       "style": "IPY_MODEL_2ab9d84e986240639093fdc0ea4e6a53",
       "value": "ibmq_kolkata"
      }
     },
     "4a5f9b4ffc0b45c3ba0b566f121f8e48": {
      "model_module": "@jupyter-widgets/controls",
      "model_module_version": "2.0.0",
      "model_name": "HTMLStyleModel",
      "state": {
       "description_width": "",
       "font_size": null,
       "text_color": null
      }
     },
     "4a8ea5b9fb924b70838732a40d35c34a": {
      "model_module": "@jupyter-widgets/base",
      "model_module_version": "2.0.0",
      "model_name": "LayoutModel",
      "state": {
       "width": "145px"
      }
     },
     "4ad07ee24d3c400197b68c07606817ec": {
      "model_module": "@jupyter-widgets/controls",
      "model_module_version": "2.0.0",
      "model_name": "HTMLStyleModel",
      "state": {
       "description_width": "",
       "font_size": null,
       "text_color": null
      }
     },
     "4b1018e07d394079b608d6733bdc48ec": {
      "model_module": "@jupyter-widgets/base",
      "model_module_version": "2.0.0",
      "model_name": "LayoutModel",
      "state": {}
     },
     "4b41f93ad1a14dacb05f9816591109f1": {
      "model_module": "@jupyter-widgets/controls",
      "model_module_version": "2.0.0",
      "model_name": "ButtonModel",
      "state": {
       "icon": "close",
       "layout": "IPY_MODEL_30e63af06e774178b833314a2c5868a1",
       "style": "IPY_MODEL_4db5bbf2e061435b8f3e3e6f5b097055",
       "tooltip": null
      }
     },
     "4c1832e5c3f744268fd96f500ad23b4b": {
      "model_module": "@jupyter-widgets/controls",
      "model_module_version": "2.0.0",
      "model_name": "ButtonModel",
      "state": {
       "icon": "close",
       "layout": "IPY_MODEL_6a46a7f31ff1422282d0ce1bf5933b2e",
       "style": "IPY_MODEL_8709df7bb96644e4bc24ce74582234c5",
       "tooltip": null
      }
     },
     "4caa0c1f9a5843e0b3c22a45fb979298": {
      "model_module": "@jupyter-widgets/controls",
      "model_module_version": "2.0.0",
      "model_name": "HTMLStyleModel",
      "state": {
       "description_width": "",
       "font_size": null,
       "text_color": null
      }
     },
     "4cf83e2440574c2b8b3d8e6e28f78c62": {
      "model_module": "@jupyter-widgets/controls",
      "model_module_version": "2.0.0",
      "model_name": "HTMLStyleModel",
      "state": {
       "description_width": "",
       "font_size": null,
       "text_color": null
      }
     },
     "4d3c39b95f414ff782066149c5e8ae83": {
      "model_module": "@jupyter-widgets/controls",
      "model_module_version": "2.0.0",
      "model_name": "HTMLStyleModel",
      "state": {
       "description_width": "",
       "font_size": null,
       "text_color": null
      }
     },
     "4d4e092923a94621a8348ab7d2339b4c": {
      "model_module": "@jupyter-widgets/base",
      "model_module_version": "2.0.0",
      "model_name": "LayoutModel",
      "state": {
       "max_width": "700px",
       "min_width": "700px"
      }
     },
     "4d703336a4a446c7a285fb3d47c5e9ba": {
      "model_module": "@jupyter-widgets/base",
      "model_module_version": "2.0.0",
      "model_name": "LayoutModel",
      "state": {
       "width": "70px"
      }
     },
     "4db5bbf2e061435b8f3e3e6f5b097055": {
      "model_module": "@jupyter-widgets/controls",
      "model_module_version": "2.0.0",
      "model_name": "ButtonStyleModel",
      "state": {
       "button_color": "white",
       "font_family": null,
       "font_size": null,
       "font_style": null,
       "font_variant": null,
       "font_weight": null,
       "text_color": null,
       "text_decoration": null
      }
     },
     "4e50db863dc349e79b9bb8e9dd8e27c1": {
      "model_module": "@jupyter-widgets/base",
      "model_module_version": "2.0.0",
      "model_name": "LayoutModel",
      "state": {
       "width": "145px"
      }
     },
     "4e9de033ceed4140bc5f2cc900ea8e9c": {
      "model_module": "@jupyter-widgets/controls",
      "model_module_version": "2.0.0",
      "model_name": "HBoxModel",
      "state": {
       "children": [
        "IPY_MODEL_589a529ef0d949c48db690fc45b282c5",
        "IPY_MODEL_b264df71261f475b9a1b412cf53bb05d",
        "IPY_MODEL_8458aa46fb4b45218443956b77d1aa72",
        "IPY_MODEL_ab5f212827124564826911fc60458b8a",
        "IPY_MODEL_3a0e36e1022a4f5080a69bbd6c783df8",
        "IPY_MODEL_071daff7d80b4186a3c084498e1fec79"
       ],
       "layout": "IPY_MODEL_7ad4dd6637b24fb6926fd52c91942fa7"
      }
     },
     "4ee21a8fe28d43129595f2979ea3a091": {
      "model_module": "@jupyter-widgets/controls",
      "model_module_version": "2.0.0",
      "model_name": "HTMLModel",
      "state": {
       "layout": "IPY_MODEL_1403a3f66ae04415b798aecec2eb1431",
       "style": "IPY_MODEL_c987e09ca28b4cc1bf698cf396b0aeaa",
       "value": "ck288qsai8c00cmv8d6g"
      }
     },
     "4f843811160b40dd884251edd6abd204": {
      "model_module": "@jupyter-widgets/controls",
      "model_module_version": "2.0.0",
      "model_name": "HTMLModel",
      "state": {
       "layout": "IPY_MODEL_de25ef1ba512452ea7375b9c53bbc50a",
       "style": "IPY_MODEL_0dd12dc23414481d969efde6e621bdb5",
       "value": "ibmq_kolkata"
      }
     },
     "4ff2340eb6b6432492128d8c3e57ce22": {
      "model_module": "@jupyter-widgets/controls",
      "model_module_version": "2.0.0",
      "model_name": "HTMLModel",
      "state": {
       "layout": "IPY_MODEL_c40d070869374cb49fa6a4e2a3b06a17",
       "style": "IPY_MODEL_1cc73c51b4714cdba7113837719ec905",
       "value": "ibmq_kolkata"
      }
     },
     "50e302a7d5894776914376f3301bdbe0": {
      "model_module": "@jupyter-widgets/base",
      "model_module_version": "2.0.0",
      "model_name": "LayoutModel",
      "state": {
       "width": "145px"
      }
     },
     "5128f8e1d1114e28896e460c4598ab39": {
      "model_module": "@jupyter-widgets/controls",
      "model_module_version": "2.0.0",
      "model_name": "HTMLModel",
      "state": {
       "layout": "IPY_MODEL_0022aac5396b4ac9a2ddd8361b4526f5",
       "style": "IPY_MODEL_712c1430028845fe99664cc67e10d67a",
       "value": "ck28v4dp5gfcppg9rgng"
      }
     },
     "514e0c9ba7c64a2fbfeda9f52a3a7a40": {
      "model_module": "@jupyter-widgets/base",
      "model_module_version": "2.0.0",
      "model_name": "LayoutModel",
      "state": {
       "width": "145px"
      }
     },
     "51a140632d014ffcab57832792f67f20": {
      "model_module": "@jupyter-widgets/base",
      "model_module_version": "2.0.0",
      "model_name": "LayoutModel",
      "state": {
       "margin": "0px 5px 0px 0px",
       "width": "32px"
      }
     },
     "51d7c6bbcf9b4e219dd8f1349eea3752": {
      "model_module": "@jupyter-widgets/controls",
      "model_module_version": "2.0.0",
      "model_name": "ButtonModel",
      "state": {
       "icon": "close",
       "layout": "IPY_MODEL_d049796b1e7e409780285ff739e2bb55",
       "style": "IPY_MODEL_1949dbe092d54c8b857fa5d194352287",
       "tooltip": null
      }
     },
     "5266b0a7f1bc4d998414d199b45ed944": {
      "model_module": "@jupyter-widgets/controls",
      "model_module_version": "2.0.0",
      "model_name": "HTMLModel",
      "state": {
       "layout": "IPY_MODEL_514e0c9ba7c64a2fbfeda9f52a3a7a40",
       "style": "IPY_MODEL_4cf83e2440574c2b8b3d8e6e28f78c62",
       "value": "ibmq_kolkata"
      }
     },
     "52c2e1cb63d142f8a897bc674f8b1f09": {
      "model_module": "@jupyter-widgets/base",
      "model_module_version": "2.0.0",
      "model_name": "LayoutModel",
      "state": {
       "width": "190px"
      }
     },
     "5346a536255c4427aec55a03e46d6100": {
      "model_module": "@jupyter-widgets/base",
      "model_module_version": "2.0.0",
      "model_name": "LayoutModel",
      "state": {
       "width": "70px"
      }
     },
     "54014963bee845108870c5a09e7cb0f0": {
      "model_module": "@jupyter-widgets/base",
      "model_module_version": "2.0.0",
      "model_name": "LayoutModel",
      "state": {
       "width": "70px"
      }
     },
     "540eb42d085140c391d5b1988e029b3a": {
      "model_module": "@jupyter-widgets/base",
      "model_module_version": "2.0.0",
      "model_name": "LayoutModel",
      "state": {
       "width": "95px"
      }
     },
     "543d82fc6dce4e1ab686fe5a7adb0a32": {
      "model_module": "@jupyter-widgets/controls",
      "model_module_version": "2.0.0",
      "model_name": "HTMLStyleModel",
      "state": {
       "description_width": "",
       "font_size": null,
       "text_color": null
      }
     },
     "545ac94aeb184c52a4e44a3d18f0c26d": {
      "model_module": "@jupyter-widgets/base",
      "model_module_version": "2.0.0",
      "model_name": "LayoutModel",
      "state": {
       "width": "190px"
      }
     },
     "5472557889a44f9a937f8e267a4819c5": {
      "model_module": "@jupyter-widgets/base",
      "model_module_version": "2.0.0",
      "model_name": "LayoutModel",
      "state": {
       "width": "145px"
      }
     },
     "549ac23e59b44c1f9418c29d07a75cf2": {
      "model_module": "@jupyter-widgets/base",
      "model_module_version": "2.0.0",
      "model_name": "LayoutModel",
      "state": {}
     },
     "5515ef98b44d47f9a5ed0d5b0a57ab8a": {
      "model_module": "@jupyter-widgets/controls",
      "model_module_version": "2.0.0",
      "model_name": "HTMLModel",
      "state": {
       "layout": "IPY_MODEL_d63283d88d0646a69cfd67d8c32dc6ea",
       "style": "IPY_MODEL_a7123f858bdf44ee830907b03b272f70",
       "value": "<h5>Backend</h5>"
      }
     },
     "5644fe066b88460a90a337f3d1ee5966": {
      "model_module": "@jupyter-widgets/controls",
      "model_module_version": "2.0.0",
      "model_name": "HTMLModel",
      "state": {
       "layout": "IPY_MODEL_032c8a58e6c24132a48fb6288bb7f46c",
       "style": "IPY_MODEL_1e447aff182d4a77a1a82e01184e7dd6",
       "value": "-"
      }
     },
     "5647427137954446a243a93aac17b0c0": {
      "model_module": "@jupyter-widgets/controls",
      "model_module_version": "2.0.0",
      "model_name": "ButtonModel",
      "state": {
       "icon": "close",
       "layout": "IPY_MODEL_9a84183b5c234e9c8023728dbd3b1eba",
       "style": "IPY_MODEL_592bccb608e442f09eec7cb331ee3b21",
       "tooltip": null
      }
     },
     "566fea7898514b2285c3625fee79789a": {
      "model_module": "@jupyter-widgets/base",
      "model_module_version": "2.0.0",
      "model_name": "LayoutModel",
      "state": {
       "width": "70px"
      }
     },
     "56e761089e49449cab90b5ebbd65141c": {
      "model_module": "@jupyter-widgets/base",
      "model_module_version": "2.0.0",
      "model_name": "LayoutModel",
      "state": {
       "margin": "0px 5px 0px 0px",
       "width": "32px"
      }
     },
     "570042dba86c455bb69c18eb537b8737": {
      "model_module": "@jupyter-widgets/controls",
      "model_module_version": "2.0.0",
      "model_name": "HTMLStyleModel",
      "state": {
       "description_width": "",
       "font_size": null,
       "text_color": null
      }
     },
     "57843d115c0a4f05be0ad6373cf44a26": {
      "model_module": "@jupyter-widgets/controls",
      "model_module_version": "2.0.0",
      "model_name": "HTMLModel",
      "state": {
       "layout": "IPY_MODEL_0bb4baf5d4a749178e2d2fa74ee79ccc",
       "style": "IPY_MODEL_c48f26c360d04668a444d69352e78b51",
       "value": "-"
      }
     },
     "57d54e2712ec45519124abc2df3faa7c": {
      "model_module": "@jupyter-widgets/controls",
      "model_module_version": "2.0.0",
      "model_name": "HTMLModel",
      "state": {
       "layout": "IPY_MODEL_80dc62e1aeda4953bedc94c84b569004",
       "style": "IPY_MODEL_3fd87111e5e14751ab35c27de78572ae",
       "value": "ck27v2adijuadepq1ts0"
      }
     },
     "58040b808619477f8ff6655995a6f060": {
      "model_module": "@jupyter-widgets/base",
      "model_module_version": "2.0.0",
      "model_name": "LayoutModel",
      "state": {}
     },
     "584d825ec44349f1b059f8593194f4e4": {
      "model_module": "@jupyter-widgets/base",
      "model_module_version": "2.0.0",
      "model_name": "LayoutModel",
      "state": {
       "width": "190px"
      }
     },
     "58606a8d7f714dc8846d23b4e96b547a": {
      "model_module": "@jupyter-widgets/controls",
      "model_module_version": "2.0.0",
      "model_name": "HTMLStyleModel",
      "state": {
       "description_width": "",
       "font_size": null,
       "text_color": null
      }
     },
     "589a529ef0d949c48db690fc45b282c5": {
      "model_module": "@jupyter-widgets/controls",
      "model_module_version": "2.0.0",
      "model_name": "ButtonModel",
      "state": {
       "icon": "close",
       "layout": "IPY_MODEL_69a310e4e17e4a5b99684c79fa8d2c83",
       "style": "IPY_MODEL_bdbca82dde8e43b8be9a385ff4844b33",
       "tooltip": null
      }
     },
     "58ca15c14c7248d5bda7c447246271d1": {
      "model_module": "@jupyter-widgets/controls",
      "model_module_version": "2.0.0",
      "model_name": "HTMLStyleModel",
      "state": {
       "description_width": "",
       "font_size": null,
       "text_color": null
      }
     },
     "592bccb608e442f09eec7cb331ee3b21": {
      "model_module": "@jupyter-widgets/controls",
      "model_module_version": "2.0.0",
      "model_name": "ButtonStyleModel",
      "state": {
       "button_color": "white",
       "font_family": null,
       "font_size": null,
       "font_style": null,
       "font_variant": null,
       "font_weight": null,
       "text_color": null,
       "text_decoration": null
      }
     },
     "5965be69a46943c6b3e8e07aa5eafb75": {
      "model_module": "@jupyter-widgets/base",
      "model_module_version": "2.0.0",
      "model_name": "LayoutModel",
      "state": {
       "width": "70px"
      }
     },
     "5976adfcef5745148d109e90ec461578": {
      "model_module": "@jupyter-widgets/base",
      "model_module_version": "2.0.0",
      "model_name": "LayoutModel",
      "state": {
       "width": "95px"
      }
     },
     "59f49b113a7843b8b8ae4853da85e515": {
      "model_module": "@jupyter-widgets/base",
      "model_module_version": "2.0.0",
      "model_name": "LayoutModel",
      "state": {
       "width": "95px"
      }
     },
     "5a0a9ffb68b84f1ab3894336ad1b72a1": {
      "model_module": "@jupyter-widgets/controls",
      "model_module_version": "2.0.0",
      "model_name": "HTMLModel",
      "state": {
       "layout": "IPY_MODEL_90242cdd936e46c9b2451ec2b44ee0da",
       "style": "IPY_MODEL_cc7ff83ee5984fe3bce5e38ce0358a45",
       "value": "<font style='color:#34BC6E'>DONE</font>"
      }
     },
     "5b1e0b0ea14c4bdd815d854c003f68a4": {
      "model_module": "@jupyter-widgets/controls",
      "model_module_version": "2.0.0",
      "model_name": "HTMLStyleModel",
      "state": {
       "description_width": "",
       "font_size": null,
       "text_color": null
      }
     },
     "5b4c4076492a461f8a9a7af625a48efd": {
      "model_module": "@jupyter-widgets/controls",
      "model_module_version": "2.0.0",
      "model_name": "ButtonStyleModel",
      "state": {
       "button_color": "white",
       "font_family": null,
       "font_size": null,
       "font_style": null,
       "font_variant": null,
       "font_weight": null,
       "text_color": null,
       "text_decoration": null
      }
     },
     "5c25478a439448b9a6fa28359621a295": {
      "model_module": "@jupyter-widgets/controls",
      "model_module_version": "2.0.0",
      "model_name": "HTMLModel",
      "state": {
       "layout": "IPY_MODEL_59f49b113a7843b8b8ae4853da85e515",
       "style": "IPY_MODEL_666141c0af35454eb143f9c6fb7cbf16",
       "value": "<font style='color:#34BC6E'>DONE</font>"
      }
     },
     "5cded862902b43f5b8a6dfdfcb36162c": {
      "model_module": "@jupyter-widgets/base",
      "model_module_version": "2.0.0",
      "model_name": "LayoutModel",
      "state": {
       "margin": "0px 5px 0px 0px",
       "width": "32px"
      }
     },
     "5f5aafd9422e41e59d6a0ea3457548e7": {
      "model_module": "@jupyter-widgets/base",
      "model_module_version": "2.0.0",
      "model_name": "LayoutModel",
      "state": {
       "width": "145px"
      }
     },
     "5fd3b895c14f4010b9b478c314ae323f": {
      "model_module": "@jupyter-widgets/base",
      "model_module_version": "2.0.0",
      "model_name": "LayoutModel",
      "state": {
       "width": "190px"
      }
     },
     "5fd758fd213d4a23b4bdb34c413dee4b": {
      "model_module": "@jupyter-widgets/controls",
      "model_module_version": "2.0.0",
      "model_name": "HTMLStyleModel",
      "state": {
       "description_width": "",
       "font_size": null,
       "text_color": null
      }
     },
     "5fd97c469eab41c2889b2e14a7c6dbe8": {
      "model_module": "@jupyter-widgets/base",
      "model_module_version": "2.0.0",
      "model_name": "LayoutModel",
      "state": {
       "margin": "0px 5px 0px 0px",
       "width": "32px"
      }
     },
     "60cc2fdfd6ab4b45b9b725ecc6cddc1a": {
      "model_module": "@jupyter-widgets/controls",
      "model_module_version": "2.0.0",
      "model_name": "HTMLModel",
      "state": {
       "layout": "IPY_MODEL_e60e8878bd4640dbbbc7576b817f8d13",
       "style": "IPY_MODEL_db1c976c71c144658ca62dc237a8500d",
       "value": "<font style='color:#34BC6E'>DONE</font>"
      }
     },
     "60dd84812e2b4feeba95bfea2b8a5867": {
      "model_module": "@jupyter-widgets/controls",
      "model_module_version": "2.0.0",
      "model_name": "HTMLModel",
      "state": {
       "layout": "IPY_MODEL_a8a299b938b94d77a62d5ba96279631a",
       "style": "IPY_MODEL_afe218f1ca6a4ea3897d21bc7ac05bbe",
       "value": "-"
      }
     },
     "60fc82326de742059183e90891ce8e4e": {
      "model_module": "@jupyter-widgets/base",
      "model_module_version": "2.0.0",
      "model_name": "LayoutModel",
      "state": {
       "width": "70px"
      }
     },
     "61693fdb003a4bb680ad05fa5d68b21b": {
      "model_module": "@jupyter-widgets/controls",
      "model_module_version": "2.0.0",
      "model_name": "HTMLModel",
      "state": {
       "layout": "IPY_MODEL_f4fe083e1c414d23a9715ed614acac58",
       "style": "IPY_MODEL_570042dba86c455bb69c18eb537b8737",
       "value": "-"
      }
     },
     "6176d4677bd2432399e9382ff336cfa0": {
      "model_module": "@jupyter-widgets/base",
      "model_module_version": "2.0.0",
      "model_name": "LayoutModel",
      "state": {
       "width": "95px"
      }
     },
     "61ee819a797b49dc9d9c135cc316eba9": {
      "model_module": "@jupyter-widgets/controls",
      "model_module_version": "2.0.0",
      "model_name": "HTMLModel",
      "state": {
       "layout": "IPY_MODEL_e2b193914f0241e29c33070972e394f3",
       "style": "IPY_MODEL_816b85f03be140fbb4ef3807f27721d2",
       "value": "ck27v9lp5gfcppg72jt0"
      }
     },
     "633d9742b43549129e9e9a0b53f56211": {
      "model_module": "@jupyter-widgets/base",
      "model_module_version": "2.0.0",
      "model_name": "LayoutModel",
      "state": {
       "max_width": "700px",
       "min_width": "700px"
      }
     },
     "63536aee30014a808bab2efb8ac85ab7": {
      "model_module": "@jupyter-widgets/base",
      "model_module_version": "2.0.0",
      "model_name": "LayoutModel",
      "state": {
       "margin": "0px 5px 0px 0px",
       "width": "32px"
      }
     },
     "6404bb9761dc4ddcba328eb88c99300c": {
      "model_module": "@jupyter-widgets/base",
      "model_module_version": "2.0.0",
      "model_name": "LayoutModel",
      "state": {
       "width": "145px"
      }
     },
     "644ea0d4b8be419f991975e19227c25c": {
      "model_module": "@jupyter-widgets/controls",
      "model_module_version": "2.0.0",
      "model_name": "HTMLModel",
      "state": {
       "layout": "IPY_MODEL_2ca9f3311e6940ca9490ed63057c805c",
       "style": "IPY_MODEL_73f15455fa0247feb18582b56339441a",
       "value": "job has successfully run"
      }
     },
     "6523428fd2f042309d39d13dc3140cc5": {
      "model_module": "@jupyter-widgets/base",
      "model_module_version": "2.0.0",
      "model_name": "LayoutModel",
      "state": {
       "width": "145px"
      }
     },
     "65ad7e12659b4ff88296667bb166594e": {
      "model_module": "@jupyter-widgets/controls",
      "model_module_version": "2.0.0",
      "model_name": "HTMLModel",
      "state": {
       "layout": "IPY_MODEL_6fc052ecba284dbbb28cd31712f31339",
       "style": "IPY_MODEL_b095e1f99e4742aba57bd72f41ff72e2",
       "value": "ibmq_kolkata"
      }
     },
     "65e57d7550984eab8218473c9b3a30b1": {
      "model_module": "@jupyter-widgets/controls",
      "model_module_version": "2.0.0",
      "model_name": "HTMLModel",
      "state": {
       "layout": "IPY_MODEL_5976adfcef5745148d109e90ec461578",
       "style": "IPY_MODEL_da6e276480fc4ec3a51f498e2f5067fa",
       "value": "<font style='color:#34BC6E'>DONE</font>"
      }
     },
     "6643b88bba524814ac0dab58ecee0017": {
      "model_module": "@jupyter-widgets/controls",
      "model_module_version": "2.0.0",
      "model_name": "HTMLModel",
      "state": {
       "layout": "IPY_MODEL_20d9f97621cc4641aff518c5da81cd8a",
       "style": "IPY_MODEL_d7cb069068804fb7a8c382d71e2474d1",
       "value": "-"
      }
     },
     "666141c0af35454eb143f9c6fb7cbf16": {
      "model_module": "@jupyter-widgets/controls",
      "model_module_version": "2.0.0",
      "model_name": "HTMLStyleModel",
      "state": {
       "description_width": "",
       "font_size": null,
       "text_color": null
      }
     },
     "6667ecf5ae344209b6abbc0d51c63c57": {
      "model_module": "@jupyter-widgets/base",
      "model_module_version": "2.0.0",
      "model_name": "LayoutModel",
      "state": {
       "max_width": "700px",
       "min_width": "700px"
      }
     },
     "679e16b018834984a79182573037af7c": {
      "model_module": "@jupyter-widgets/controls",
      "model_module_version": "2.0.0",
      "model_name": "HTMLStyleModel",
      "state": {
       "description_width": "",
       "font_size": null,
       "text_color": null
      }
     },
     "683cf8c8d38b412bb5284b80be7528d4": {
      "model_module": "@jupyter-widgets/base",
      "model_module_version": "2.0.0",
      "model_name": "LayoutModel",
      "state": {
       "width": "145px"
      }
     },
     "68a7274432774ffdbe086744caf3de0f": {
      "model_module": "@jupyter-widgets/controls",
      "model_module_version": "2.0.0",
      "model_name": "ButtonModel",
      "state": {
       "icon": "close",
       "layout": "IPY_MODEL_5cded862902b43f5b8a6dfdfcb36162c",
       "style": "IPY_MODEL_80c363ce337a47d49b5ce6f00f6b9421",
       "tooltip": null
      }
     },
     "6930e712914f49d7bab0423500cb45b1": {
      "model_module": "@jupyter-widgets/base",
      "model_module_version": "2.0.0",
      "model_name": "LayoutModel",
      "state": {
       "max_width": "700px",
       "min_width": "700px"
      }
     },
     "693a2e9321d74da3a0d7bafed7e3dfc7": {
      "model_module": "@jupyter-widgets/controls",
      "model_module_version": "2.0.0",
      "model_name": "HTMLModel",
      "state": {
       "layout": "IPY_MODEL_6523428fd2f042309d39d13dc3140cc5",
       "style": "IPY_MODEL_b8e51461b08641d7a3af6b72964d82c4",
       "value": "ibmq_kolkata"
      }
     },
     "693e159a624749a19d048c28c97773c7": {
      "model_module": "@jupyter-widgets/controls",
      "model_module_version": "2.0.0",
      "model_name": "ButtonStyleModel",
      "state": {
       "font_family": null,
       "font_size": null,
       "font_style": null,
       "font_variant": null,
       "font_weight": null,
       "text_color": null,
       "text_decoration": null
      }
     },
     "69755b6bda6a47a4b37ffe9069c2618e": {
      "model_module": "@jupyter-widgets/base",
      "model_module_version": "2.0.0",
      "model_name": "LayoutModel",
      "state": {
       "margin": "0px 5px 0px 0px",
       "width": "32px"
      }
     },
     "69a310e4e17e4a5b99684c79fa8d2c83": {
      "model_module": "@jupyter-widgets/base",
      "model_module_version": "2.0.0",
      "model_name": "LayoutModel",
      "state": {
       "margin": "0px 5px 0px 0px",
       "width": "32px"
      }
     },
     "69e1672e216846739fac70c95ed7ff5a": {
      "model_module": "@jupyter-widgets/controls",
      "model_module_version": "2.0.0",
      "model_name": "HTMLStyleModel",
      "state": {
       "description_width": "",
       "font_size": null,
       "text_color": null
      }
     },
     "6a46a7f31ff1422282d0ce1bf5933b2e": {
      "model_module": "@jupyter-widgets/base",
      "model_module_version": "2.0.0",
      "model_name": "LayoutModel",
      "state": {
       "margin": "0px 5px 0px 0px",
       "width": "32px"
      }
     },
     "6a8450c6478f477c901d52a6b73ea60f": {
      "model_module": "@jupyter-widgets/controls",
      "model_module_version": "2.0.0",
      "model_name": "HTMLStyleModel",
      "state": {
       "description_width": "",
       "font_size": null,
       "text_color": null
      }
     },
     "6c1a59441e914aa4b3e9edf7b9a88ba9": {
      "model_module": "@jupyter-widgets/base",
      "model_module_version": "2.0.0",
      "model_name": "LayoutModel",
      "state": {
       "width": "70px"
      }
     },
     "6ce7bb3cd45e407eaf2b438d5413ba0f": {
      "model_module": "@jupyter-widgets/base",
      "model_module_version": "2.0.0",
      "model_name": "LayoutModel",
      "state": {
       "width": "145px"
      }
     },
     "6d1c0d31150848409a75375ba568f589": {
      "model_module": "@jupyter-widgets/controls",
      "model_module_version": "2.0.0",
      "model_name": "HTMLStyleModel",
      "state": {
       "description_width": "",
       "font_size": null,
       "text_color": null
      }
     },
     "6d31f78a44504c7d8c2d4e3034d57b7d": {
      "model_module": "@jupyter-widgets/controls",
      "model_module_version": "2.0.0",
      "model_name": "ButtonModel",
      "state": {
       "icon": "close",
       "layout": "IPY_MODEL_8f79488636c449ea8bea372cd65bb500",
       "style": "IPY_MODEL_824a4d9496e34bb0bb5c61f91c0b27bd",
       "tooltip": null
      }
     },
     "6d613f624466401f96fed53872de641f": {
      "model_module": "@jupyter-widgets/controls",
      "model_module_version": "2.0.0",
      "model_name": "HBoxModel",
      "state": {
       "children": [
        "IPY_MODEL_f5fa6a507d6c4292b555e227aecbd99d",
        "IPY_MODEL_6e46935708c841f3891f783aac30dde6",
        "IPY_MODEL_4ff2340eb6b6432492128d8c3e57ce22",
        "IPY_MODEL_483c94772e764aa399356c7bb931939e",
        "IPY_MODEL_f58928fe82244a4ea50f9be11c246ac7",
        "IPY_MODEL_b5ef8f1b86594b77bfcd5e5c0982a497"
       ],
       "layout": "IPY_MODEL_6ef26e1f63f24c7bb198ef87a220e4ef"
      }
     },
     "6d785d0964f64b109cb445d0c815684a": {
      "model_module": "@jupyter-widgets/controls",
      "model_module_version": "2.0.0",
      "model_name": "ButtonModel",
      "state": {
       "icon": "close",
       "layout": "IPY_MODEL_63536aee30014a808bab2efb8ac85ab7",
       "style": "IPY_MODEL_481ba9ea3e96414d9ccfacd7121d0e40",
       "tooltip": null
      }
     },
     "6d8de16fd00f4b748f00e71d5804a0d7": {
      "model_module": "@jupyter-widgets/base",
      "model_module_version": "2.0.0",
      "model_name": "LayoutModel",
      "state": {
       "width": "145px"
      }
     },
     "6dd0d0f330e748599c88695b13816ada": {
      "model_module": "@jupyter-widgets/base",
      "model_module_version": "2.0.0",
      "model_name": "LayoutModel",
      "state": {}
     },
     "6e25a6967343413aae3ee50d92e30884": {
      "model_module": "@jupyter-widgets/controls",
      "model_module_version": "2.0.0",
      "model_name": "ButtonStyleModel",
      "state": {
       "button_color": "white",
       "font_family": null,
       "font_size": null,
       "font_style": null,
       "font_variant": null,
       "font_weight": null,
       "text_color": null,
       "text_decoration": null
      }
     },
     "6e46935708c841f3891f783aac30dde6": {
      "model_module": "@jupyter-widgets/controls",
      "model_module_version": "2.0.0",
      "model_name": "HTMLModel",
      "state": {
       "layout": "IPY_MODEL_545ac94aeb184c52a4e44a3d18f0c26d",
       "style": "IPY_MODEL_27d57d10eb104c1f966f5dd3d257a5f0",
       "value": "ck27pvtp5gfcppg6kb60"
      }
     },
     "6ef26e1f63f24c7bb198ef87a220e4ef": {
      "model_module": "@jupyter-widgets/base",
      "model_module_version": "2.0.0",
      "model_name": "LayoutModel",
      "state": {
       "max_width": "700px",
       "min_width": "700px"
      }
     },
     "6f04173a503b4038828a8109edfb65a9": {
      "model_module": "@jupyter-widgets/controls",
      "model_module_version": "2.0.0",
      "model_name": "HTMLStyleModel",
      "state": {
       "description_width": "",
       "font_size": null,
       "text_color": null
      }
     },
     "6f04664ce9e34922aab0ea9871b526a8": {
      "model_module": "@jupyter-widgets/controls",
      "model_module_version": "2.0.0",
      "model_name": "HTMLModel",
      "state": {
       "layout": "IPY_MODEL_8e0f2fef60ee47e7a5dad6bc019540ad",
       "style": "IPY_MODEL_30a0bb4cbc2c42c0849d1d42199ea310",
       "value": "ibmq_kolkata"
      }
     },
     "6f1dbba3d9f44a879a019d6bbee0256b": {
      "model_module": "@jupyter-widgets/controls",
      "model_module_version": "2.0.0",
      "model_name": "ButtonModel",
      "state": {
       "icon": "close",
       "layout": "IPY_MODEL_1b1c1dd0db4d40b485c5c142f14d5bd8",
       "style": "IPY_MODEL_387b65fba0264583852168c02e274d53",
       "tooltip": null
      }
     },
     "6f2fab8c3ddc4a9a86669ff31fb8274c": {
      "model_module": "@jupyter-widgets/controls",
      "model_module_version": "2.0.0",
      "model_name": "HTMLStyleModel",
      "state": {
       "description_width": "",
       "font_size": null,
       "text_color": null
      }
     },
     "6f738a0d0f3446c8a67a6b5b82a9c22c": {
      "model_module": "@jupyter-widgets/base",
      "model_module_version": "2.0.0",
      "model_name": "LayoutModel",
      "state": {
       "width": "70px"
      }
     },
     "6fc052ecba284dbbb28cd31712f31339": {
      "model_module": "@jupyter-widgets/base",
      "model_module_version": "2.0.0",
      "model_name": "LayoutModel",
      "state": {
       "width": "145px"
      }
     },
     "6fd340ebe3404f63b2885201ce9a6811": {
      "model_module": "@jupyter-widgets/base",
      "model_module_version": "2.0.0",
      "model_name": "LayoutModel",
      "state": {}
     },
     "70130977c29b445a8a0c378bfbd555fa": {
      "model_module": "@jupyter-widgets/controls",
      "model_module_version": "2.0.0",
      "model_name": "HTMLModel",
      "state": {
       "layout": "IPY_MODEL_973625ade3e94533b42420d8bb28860a",
       "style": "IPY_MODEL_dc1beb1994eb485791aff654fb97ebb5",
       "value": "<font style='color:#34BC6E'>DONE</font>"
      }
     },
     "70ad16a6ff244df99011e42128666005": {
      "model_module": "@jupyter-widgets/controls",
      "model_module_version": "2.0.0",
      "model_name": "HTMLStyleModel",
      "state": {
       "description_width": "",
       "font_size": null,
       "text_color": null
      }
     },
     "710e898e03e64853a8e9a304a98e2317": {
      "model_module": "@jupyter-widgets/controls",
      "model_module_version": "2.0.0",
      "model_name": "HTMLStyleModel",
      "state": {
       "description_width": "",
       "font_size": null,
       "text_color": null
      }
     },
     "712c1430028845fe99664cc67e10d67a": {
      "model_module": "@jupyter-widgets/controls",
      "model_module_version": "2.0.0",
      "model_name": "HTMLStyleModel",
      "state": {
       "description_width": "",
       "font_size": null,
       "text_color": null
      }
     },
     "7139b4b88e9f46f59d68aece0701b2f9": {
      "model_module": "@jupyter-widgets/controls",
      "model_module_version": "2.0.0",
      "model_name": "HTMLStyleModel",
      "state": {
       "description_width": "",
       "font_size": null,
       "text_color": null
      }
     },
     "714a246d08fe4e8b98e8cff2e7480130": {
      "model_module": "@jupyter-widgets/base",
      "model_module_version": "2.0.0",
      "model_name": "LayoutModel",
      "state": {}
     },
     "71ab34f616f040e696ebdde86b640086": {
      "model_module": "@jupyter-widgets/base",
      "model_module_version": "2.0.0",
      "model_name": "LayoutModel",
      "state": {
       "max_width": "700px",
       "min_width": "700px"
      }
     },
     "71edc2f9c37f449e9cbf815ebce151ca": {
      "model_module": "@jupyter-widgets/base",
      "model_module_version": "2.0.0",
      "model_name": "LayoutModel",
      "state": {
       "margin": "0px 5px 0px 0px",
       "width": "32px"
      }
     },
     "725216efa50e47669a135ecd38b866a6": {
      "model_module": "@jupyter-widgets/controls",
      "model_module_version": "2.0.0",
      "model_name": "ButtonModel",
      "state": {
       "icon": "close",
       "layout": "IPY_MODEL_56e761089e49449cab90b5ebbd65141c",
       "style": "IPY_MODEL_b04171d0448b497aa262787558919d61",
       "tooltip": null
      }
     },
     "73000de269744d9ba6b803628ec11fe2": {
      "model_module": "@jupyter-widgets/controls",
      "model_module_version": "2.0.0",
      "model_name": "HTMLModel",
      "state": {
       "layout": "IPY_MODEL_0e8778811a9243b1a2b7c2be2f53b5ec",
       "style": "IPY_MODEL_93ed484b34804b6497300f7c74d0090e",
       "value": "-"
      }
     },
     "7365600e0aef4e3ba8068488b66a1176": {
      "model_module": "@jupyter-widgets/controls",
      "model_module_version": "2.0.0",
      "model_name": "HTMLModel",
      "state": {
       "layout": "IPY_MODEL_6176d4677bd2432399e9382ff336cfa0",
       "style": "IPY_MODEL_1ee7a3efe5eb4673a7b05f908e7a644d",
       "value": "<font style='color:#34BC6E'>DONE</font>"
      }
     },
     "739417abb64a42cbbd16fac7a4d6e0a4": {
      "model_module": "@jupyter-widgets/controls",
      "model_module_version": "2.0.0",
      "model_name": "HTMLModel",
      "state": {
       "layout": "IPY_MODEL_80cd0bfdc6af4c579e30e15f05bad22e",
       "style": "IPY_MODEL_2cd0f2072c5a43c19c7719e898c924ce",
       "value": "ck27smd1r6vdfs039el0"
      }
     },
     "73a88c364dfe49f796f463317a845196": {
      "model_module": "@jupyter-widgets/controls",
      "model_module_version": "2.0.0",
      "model_name": "HTMLModel",
      "state": {
       "layout": "IPY_MODEL_549ac23e59b44c1f9418c29d07a75cf2",
       "style": "IPY_MODEL_f8f88687e23a47d69f33ae942038a1cf",
       "value": "job has successfully run"
      }
     },
     "73f15455fa0247feb18582b56339441a": {
      "model_module": "@jupyter-widgets/controls",
      "model_module_version": "2.0.0",
      "model_name": "HTMLStyleModel",
      "state": {
       "description_width": "",
       "font_size": null,
       "text_color": null
      }
     },
     "74129764ec6642f0a9dae74df6e5a360": {
      "model_module": "@jupyter-widgets/base",
      "model_module_version": "2.0.0",
      "model_name": "LayoutModel",
      "state": {
       "width": "145px"
      }
     },
     "741ef3635ed848518b9b7b695c63701f": {
      "model_module": "@jupyter-widgets/controls",
      "model_module_version": "2.0.0",
      "model_name": "HTMLStyleModel",
      "state": {
       "description_width": "",
       "font_size": null,
       "text_color": null
      }
     },
     "755236e5c0b14bd6b0385615d06641da": {
      "model_module": "@jupyter-widgets/controls",
      "model_module_version": "2.0.0",
      "model_name": "HTMLStyleModel",
      "state": {
       "description_width": "",
       "font_size": null,
       "text_color": null
      }
     },
     "7575644d6641465bbb142e9131cbaf2e": {
      "model_module": "@jupyter-widgets/controls",
      "model_module_version": "2.0.0",
      "model_name": "HTMLModel",
      "state": {
       "layout": "IPY_MODEL_52c2e1cb63d142f8a897bc674f8b1f09",
       "style": "IPY_MODEL_9a371baaa37b430c8782315aff26e9d4",
       "value": "ck288iilnssf0d7lik3g"
      }
     },
     "75e67c5e501e4ab6a1816327d5355a58": {
      "model_module": "@jupyter-widgets/base",
      "model_module_version": "2.0.0",
      "model_name": "LayoutModel",
      "state": {
       "max_width": "700px",
       "min_width": "700px"
      }
     },
     "772e283fb02e4e74922b17187f7b6e8b": {
      "model_module": "@jupyter-widgets/base",
      "model_module_version": "2.0.0",
      "model_name": "LayoutModel",
      "state": {
       "width": "190px"
      }
     },
     "77aceda59b2e4301ab8f61239835449e": {
      "model_module": "@jupyter-widgets/controls",
      "model_module_version": "2.0.0",
      "model_name": "HTMLStyleModel",
      "state": {
       "description_width": "",
       "font_size": null,
       "text_color": null
      }
     },
     "77e1fa11fb46494eb7e371d0dbb6c479": {
      "model_module": "@jupyter-widgets/controls",
      "model_module_version": "2.0.0",
      "model_name": "HTMLModel",
      "state": {
       "layout": "IPY_MODEL_772e283fb02e4e74922b17187f7b6e8b",
       "style": "IPY_MODEL_9089f295b93c47d7a63d3c6d5c071227",
       "value": "ck27vvalnssf0d7kshd0"
      }
     },
     "788a0bf0088441d19d91cf2b3e0592d5": {
      "model_module": "@jupyter-widgets/controls",
      "model_module_version": "2.0.0",
      "model_name": "HTMLModel",
      "state": {
       "layout": "IPY_MODEL_6fd340ebe3404f63b2885201ce9a6811",
       "style": "IPY_MODEL_4a5f9b4ffc0b45c3ba0b566f121f8e48",
       "value": "job has successfully run"
      }
     },
     "78b725f10d6044af984ab044234a6a98": {
      "model_module": "@jupyter-widgets/controls",
      "model_module_version": "2.0.0",
      "model_name": "HTMLStyleModel",
      "state": {
       "description_width": "",
       "font_size": null,
       "text_color": null
      }
     },
     "78d750d4254d41a6afb19e51937e7dbb": {
      "model_module": "@jupyter-widgets/controls",
      "model_module_version": "2.0.0",
      "model_name": "HTMLModel",
      "state": {
       "layout": "IPY_MODEL_129d02f058794e689789bcecf33f6944",
       "style": "IPY_MODEL_710e898e03e64853a8e9a304a98e2317",
       "value": "-"
      }
     },
     "791d9deec34d4d04b1fef81222e8d184": {
      "model_module": "@jupyter-widgets/controls",
      "model_module_version": "2.0.0",
      "model_name": "HTMLModel",
      "state": {
       "layout": "IPY_MODEL_3ab4e4d823ec4046aa7695918b259da9",
       "style": "IPY_MODEL_2535540895d84fa1a771434c02daab26",
       "value": "<font style='color:#FFB000'>CANCELLED</font>"
      }
     },
     "7a525bc3fd5549d197371931bb9b27d2": {
      "model_module": "@jupyter-widgets/controls",
      "model_module_version": "2.0.0",
      "model_name": "ButtonStyleModel",
      "state": {
       "button_color": "white",
       "font_family": null,
       "font_size": null,
       "font_style": null,
       "font_variant": null,
       "font_weight": null,
       "text_color": null,
       "text_decoration": null
      }
     },
     "7ad4dd6637b24fb6926fd52c91942fa7": {
      "model_module": "@jupyter-widgets/base",
      "model_module_version": "2.0.0",
      "model_name": "LayoutModel",
      "state": {
       "max_width": "700px",
       "min_width": "700px"
      }
     },
     "7aee4eed2d434adfaa9428b92887b441": {
      "model_module": "@jupyter-widgets/controls",
      "model_module_version": "2.0.0",
      "model_name": "HTMLModel",
      "state": {
       "layout": "IPY_MODEL_e35945a96fd14d83b3941b8b07c80fd6",
       "style": "IPY_MODEL_1f77fa6e275c461dbc3d98371d14b8ba",
       "value": "ibmq_kolkata"
      }
     },
     "7b88da04cac54468a1a4f3657ebfa777": {
      "model_module": "@jupyter-widgets/controls",
      "model_module_version": "2.0.0",
      "model_name": "HTMLModel",
      "state": {
       "layout": "IPY_MODEL_ca5b4d8ed18445aea18b26409eaba01e",
       "style": "IPY_MODEL_c6895f1c248f4606b120c6798bc42689",
       "value": "<font style='color:#34BC6E'>DONE</font>"
      }
     },
     "7b8acbe1d31b414eaaadc908d4d2e908": {
      "model_module": "@jupyter-widgets/controls",
      "model_module_version": "2.0.0",
      "model_name": "HTMLStyleModel",
      "state": {
       "description_width": "",
       "font_size": null,
       "text_color": null
      }
     },
     "7bde69d29e1f42159ed71723e5af5b7a": {
      "model_module": "@jupyter-widgets/controls",
      "model_module_version": "2.0.0",
      "model_name": "HTMLStyleModel",
      "state": {
       "description_width": "",
       "font_size": null,
       "text_color": null
      }
     },
     "7cb62add6a494647a2f80b097072ebf2": {
      "model_module": "@jupyter-widgets/base",
      "model_module_version": "2.0.0",
      "model_name": "LayoutModel",
      "state": {}
     },
     "7d8f61c4c695406abb3ddd876880d748": {
      "model_module": "@jupyter-widgets/controls",
      "model_module_version": "2.0.0",
      "model_name": "HTMLModel",
      "state": {
       "layout": "IPY_MODEL_2218dcf9f41d4c35ba85ccb0055a5822",
       "style": "IPY_MODEL_a7e5971e426041c3b2f0d410f740018c",
       "value": "job has successfully run"
      }
     },
     "7e91dffb95914bc2bea7f731c364ec8d": {
      "model_module": "@jupyter-widgets/controls",
      "model_module_version": "2.0.0",
      "model_name": "HTMLStyleModel",
      "state": {
       "description_width": "",
       "font_size": null,
       "text_color": null
      }
     },
     "7eadf97e4ebd42f5a0a15dbe9e3e5fdb": {
      "model_module": "@jupyter-widgets/controls",
      "model_module_version": "2.0.0",
      "model_name": "HTMLModel",
      "state": {
       "layout": "IPY_MODEL_823bcff3c02e4dbd8a53f9f9fbc27936",
       "style": "IPY_MODEL_6f04173a503b4038828a8109edfb65a9",
       "value": "job has successfully run"
      }
     },
     "7f1a5db12fea41b1830fd6be0440f9f6": {
      "model_module": "@jupyter-widgets/controls",
      "model_module_version": "2.0.0",
      "model_name": "HTMLStyleModel",
      "state": {
       "description_width": "",
       "font_size": null,
       "text_color": null
      }
     },
     "7fdb439a41604d88bab87067930afcf6": {
      "model_module": "@jupyter-widgets/base",
      "model_module_version": "2.0.0",
      "model_name": "LayoutModel",
      "state": {
       "max_width": "700px",
       "min_width": "700px"
      }
     },
     "8018a0555de544ec9ea182d24ba209a3": {
      "model_module": "@jupyter-widgets/controls",
      "model_module_version": "2.0.0",
      "model_name": "HBoxModel",
      "state": {
       "children": [
        "IPY_MODEL_bd4b78bef254453daced42be84b3b7d1",
        "IPY_MODEL_2b762a3db8aa46f3936c6703ee6b0876",
        "IPY_MODEL_65ad7e12659b4ff88296667bb166594e",
        "IPY_MODEL_30a70ac9f95546c88b3827ea918e07ec",
        "IPY_MODEL_ddb1f93015754201b68a339d7637612f",
        "IPY_MODEL_ec51238753ba411fb71e36e21cad861d"
       ],
       "layout": "IPY_MODEL_dafb1b44ba914ca5a6effe11d98a83e7"
      }
     },
     "803b09130f3e47b89d048e2fe3fdb7f7": {
      "model_module": "@jupyter-widgets/controls",
      "model_module_version": "2.0.0",
      "model_name": "HTMLStyleModel",
      "state": {
       "description_width": "",
       "font_size": null,
       "text_color": null
      }
     },
     "8094aaf16b384df5821b4631107644e0": {
      "model_module": "@jupyter-widgets/controls",
      "model_module_version": "2.0.0",
      "model_name": "ButtonStyleModel",
      "state": {
       "button_color": "white",
       "font_family": null,
       "font_size": null,
       "font_style": null,
       "font_variant": null,
       "font_weight": null,
       "text_color": null,
       "text_decoration": null
      }
     },
     "80b0b55558cd42d2b2da41c85b70239d": {
      "model_module": "@jupyter-widgets/base",
      "model_module_version": "2.0.0",
      "model_name": "LayoutModel",
      "state": {
       "margin": "0px 5px 0px 0px",
       "width": "32px"
      }
     },
     "80c363ce337a47d49b5ce6f00f6b9421": {
      "model_module": "@jupyter-widgets/controls",
      "model_module_version": "2.0.0",
      "model_name": "ButtonStyleModel",
      "state": {
       "button_color": "white",
       "font_family": null,
       "font_size": null,
       "font_style": null,
       "font_variant": null,
       "font_weight": null,
       "text_color": null,
       "text_decoration": null
      }
     },
     "80cd0bfdc6af4c579e30e15f05bad22e": {
      "model_module": "@jupyter-widgets/base",
      "model_module_version": "2.0.0",
      "model_name": "LayoutModel",
      "state": {
       "width": "190px"
      }
     },
     "80dc62e1aeda4953bedc94c84b569004": {
      "model_module": "@jupyter-widgets/base",
      "model_module_version": "2.0.0",
      "model_name": "LayoutModel",
      "state": {
       "width": "190px"
      }
     },
     "81550cdf72884a3bbebf202c1c7ce4a6": {
      "model_module": "@jupyter-widgets/controls",
      "model_module_version": "2.0.0",
      "model_name": "HTMLStyleModel",
      "state": {
       "description_width": "",
       "font_size": null,
       "text_color": null
      }
     },
     "816b85f03be140fbb4ef3807f27721d2": {
      "model_module": "@jupyter-widgets/controls",
      "model_module_version": "2.0.0",
      "model_name": "HTMLStyleModel",
      "state": {
       "description_width": "",
       "font_size": null,
       "text_color": null
      }
     },
     "816bc65798a24959b979c65d28030260": {
      "model_module": "@jupyter-widgets/base",
      "model_module_version": "2.0.0",
      "model_name": "LayoutModel",
      "state": {
       "width": "95px"
      }
     },
     "81fd241c7e34477288fdfcb81a20f7a4": {
      "model_module": "@jupyter-widgets/controls",
      "model_module_version": "2.0.0",
      "model_name": "HBoxModel",
      "state": {
       "children": [
        "IPY_MODEL_bc50ab40363743feb70f00105ff73f33",
        "IPY_MODEL_77e1fa11fb46494eb7e371d0dbb6c479",
        "IPY_MODEL_3807144fe5614b46afbcc45696c5a5b3",
        "IPY_MODEL_123ec2ddfa1c4fff8f23d84740ef8d00",
        "IPY_MODEL_9df2ba77d6ca4f958db219309cca7300",
        "IPY_MODEL_e9debbffdeab4191afdf08698dbd4960"
       ],
       "layout": "IPY_MODEL_94a227f00a784009aaee69bf05b535cb"
      }
     },
     "823bcff3c02e4dbd8a53f9f9fbc27936": {
      "model_module": "@jupyter-widgets/base",
      "model_module_version": "2.0.0",
      "model_name": "LayoutModel",
      "state": {}
     },
     "824a4d9496e34bb0bb5c61f91c0b27bd": {
      "model_module": "@jupyter-widgets/controls",
      "model_module_version": "2.0.0",
      "model_name": "ButtonStyleModel",
      "state": {
       "button_color": "white",
       "font_family": null,
       "font_size": null,
       "font_style": null,
       "font_variant": null,
       "font_weight": null,
       "text_color": null,
       "text_decoration": null
      }
     },
     "83477950b8d0444a8df92266d93337cd": {
      "model_module": "@jupyter-widgets/base",
      "model_module_version": "2.0.0",
      "model_name": "LayoutModel",
      "state": {
       "width": "145px"
      }
     },
     "836b57c063b145e0ba880a7af1dd27cb": {
      "model_module": "@jupyter-widgets/controls",
      "model_module_version": "2.0.0",
      "model_name": "HTMLStyleModel",
      "state": {
       "description_width": "",
       "font_size": null,
       "text_color": null
      }
     },
     "83bc7a1b14f14c1d91ba12d53f88bd6f": {
      "model_module": "@jupyter-widgets/base",
      "model_module_version": "2.0.0",
      "model_name": "LayoutModel",
      "state": {
       "width": "95px"
      }
     },
     "83cfd8a875c54fd9851c7cec85ec5f82": {
      "model_module": "@jupyter-widgets/controls",
      "model_module_version": "2.0.0",
      "model_name": "HTMLModel",
      "state": {
       "layout": "IPY_MODEL_6d8de16fd00f4b748f00e71d5804a0d7",
       "style": "IPY_MODEL_679e16b018834984a79182573037af7c",
       "value": "ibmq_kolkata"
      }
     },
     "83fc454a0e2d4cc593236b0f5df892e2": {
      "model_module": "@jupyter-widgets/base",
      "model_module_version": "2.0.0",
      "model_name": "LayoutModel",
      "state": {}
     },
     "844e58f6adcb4b54b59b1bc5395e01de": {
      "model_module": "@jupyter-widgets/base",
      "model_module_version": "2.0.0",
      "model_name": "LayoutModel",
      "state": {
       "margin": "0px 5px 0px 0px",
       "width": "32px"
      }
     },
     "8458aa46fb4b45218443956b77d1aa72": {
      "model_module": "@jupyter-widgets/controls",
      "model_module_version": "2.0.0",
      "model_name": "HTMLModel",
      "state": {
       "layout": "IPY_MODEL_c78f43c690b340468746d130fd0310b4",
       "style": "IPY_MODEL_e39757b69d9d4916b018115bbf6afd3b",
       "value": "ibmq_kolkata"
      }
     },
     "846d666dcc2a4b9cbf94df054d7f500f": {
      "model_module": "@jupyter-widgets/base",
      "model_module_version": "2.0.0",
      "model_name": "LayoutModel",
      "state": {
       "width": "95px"
      }
     },
     "84cba6b40c8141f6a2ea9c6debe117a3": {
      "model_module": "@jupyter-widgets/base",
      "model_module_version": "2.0.0",
      "model_name": "LayoutModel",
      "state": {
       "width": "70px"
      }
     },
     "85451e31dd514a0d8ede62c9fb33bb5c": {
      "model_module": "@jupyter-widgets/controls",
      "model_module_version": "2.0.0",
      "model_name": "ButtonModel",
      "state": {
       "button_style": "primary",
       "description": "Clear",
       "layout": "IPY_MODEL_25db7c8c92b649c4859b458cbd8d4b63",
       "style": "IPY_MODEL_693e159a624749a19d048c28c97773c7",
       "tooltip": null
      }
     },
     "855c878624a94c57a7b007c4c176f3ab": {
      "model_module": "@jupyter-widgets/controls",
      "model_module_version": "2.0.0",
      "model_name": "HTMLModel",
      "state": {
       "layout": "IPY_MODEL_354a1548ce2d4591b284025b255d122e",
       "style": "IPY_MODEL_7bde69d29e1f42159ed71723e5af5b7a",
       "value": "ck27r7dp5gfcppg6no30"
      }
     },
     "85bbdc811fbc41dfb394e1040e9bf6c5": {
      "model_module": "@jupyter-widgets/base",
      "model_module_version": "2.0.0",
      "model_name": "LayoutModel",
      "state": {
       "max_width": "700px",
       "min_width": "700px"
      }
     },
     "86e395b034984312871905b863867bae": {
      "model_module": "@jupyter-widgets/controls",
      "model_module_version": "2.0.0",
      "model_name": "HTMLStyleModel",
      "state": {
       "description_width": "",
       "font_size": null,
       "text_color": null
      }
     },
     "8709df7bb96644e4bc24ce74582234c5": {
      "model_module": "@jupyter-widgets/controls",
      "model_module_version": "2.0.0",
      "model_name": "ButtonStyleModel",
      "state": {
       "button_color": "white",
       "font_family": null,
       "font_size": null,
       "font_style": null,
       "font_variant": null,
       "font_weight": null,
       "text_color": null,
       "text_decoration": null
      }
     },
     "87778b1dc2a84268adddd84d8943301c": {
      "model_module": "@jupyter-widgets/base",
      "model_module_version": "2.0.0",
      "model_name": "LayoutModel",
      "state": {
       "width": "70px"
      }
     },
     "8802c1b7be8941e1943dce01f7bb5ab7": {
      "model_module": "@jupyter-widgets/controls",
      "model_module_version": "2.0.0",
      "model_name": "HBoxModel",
      "state": {
       "children": [
        "IPY_MODEL_de5f851006b34104ba6d3892b833fb35",
        "IPY_MODEL_5515ef98b44d47f9a5ed0d5b0a57ab8a",
        "IPY_MODEL_f4d74e9e16034f758712557cd9270442",
        "IPY_MODEL_b64d3f58b49a40f58db34b61ebb7f40a",
        "IPY_MODEL_20ac5bf1cd9e4ec1992dd8266dca0a31"
       ],
       "layout": "IPY_MODEL_a3e5792c2ed94e77b4c1fa588135fd15"
      }
     },
     "88eca29814ee44ada05ea90ea096a12c": {
      "model_module": "@jupyter-widgets/controls",
      "model_module_version": "2.0.0",
      "model_name": "HTMLModel",
      "state": {
       "layout": "IPY_MODEL_13868d22f51d40b89ac1f2bdc4a46576",
       "style": "IPY_MODEL_3f972fc65f2745af90a236817346bd71",
       "value": "job has successfully run"
      }
     },
     "89a1e376f4454d78a76433725592f6f6": {
      "model_module": "@jupyter-widgets/controls",
      "model_module_version": "2.0.0",
      "model_name": "HBoxModel",
      "state": {
       "children": [
        "IPY_MODEL_0567f637fb804007a3a96ab4bb873929",
        "IPY_MODEL_57d54e2712ec45519124abc2df3faa7c",
        "IPY_MODEL_6f04664ce9e34922aab0ea9871b526a8",
        "IPY_MODEL_c1779ab7c4b442f799e82afe911370a8",
        "IPY_MODEL_9c82c0ca2eca4d83a1b3455e99320842",
        "IPY_MODEL_788a0bf0088441d19d91cf2b3e0592d5"
       ],
       "layout": "IPY_MODEL_af0dee01ed1540fbbc543d77065a2dbe"
      }
     },
     "89b576a081944a179757f98e87ff70b3": {
      "model_module": "@jupyter-widgets/controls",
      "model_module_version": "2.0.0",
      "model_name": "HTMLStyleModel",
      "state": {
       "description_width": "",
       "font_size": null,
       "text_color": null
      }
     },
     "89fb6e7830bd43259f74b41c73a1f0cf": {
      "model_module": "@jupyter-widgets/controls",
      "model_module_version": "2.0.0",
      "model_name": "HTMLModel",
      "state": {
       "layout": "IPY_MODEL_683cf8c8d38b412bb5284b80be7528d4",
       "style": "IPY_MODEL_92b0da448a8942a29071dad83d950e91",
       "value": "ibmq_kolkata"
      }
     },
     "8b4779890c1943048c8b48926933e232": {
      "model_module": "@jupyter-widgets/controls",
      "model_module_version": "2.0.0",
      "model_name": "HTMLModel",
      "state": {
       "layout": "IPY_MODEL_9198d7413bdb4d4897df29b0f8a6c947",
       "style": "IPY_MODEL_81550cdf72884a3bbebf202c1c7ce4a6",
       "value": "ck273kadijuadepnskr0"
      }
     },
     "8bc922c18e654122a5b5169c84ffde3a": {
      "model_module": "@jupyter-widgets/controls",
      "model_module_version": "2.0.0",
      "model_name": "HTMLStyleModel",
      "state": {
       "description_width": "",
       "font_size": null,
       "text_color": null
      }
     },
     "8c8cd3dc2b364950a7e918be43266edd": {
      "model_module": "@jupyter-widgets/controls",
      "model_module_version": "2.0.0",
      "model_name": "HTMLModel",
      "state": {
       "layout": "IPY_MODEL_83bc7a1b14f14c1d91ba12d53f88bd6f",
       "style": "IPY_MODEL_4d3c39b95f414ff782066149c5e8ae83",
       "value": "<font style='color:#34BC6E'>DONE</font>"
      }
     },
     "8cf6e8401c4348eab8162fe3e66daa53": {
      "model_module": "@jupyter-widgets/base",
      "model_module_version": "2.0.0",
      "model_name": "LayoutModel",
      "state": {
       "width": "145px"
      }
     },
     "8d1059afb8fc4888ab30925d330be689": {
      "model_module": "@jupyter-widgets/base",
      "model_module_version": "2.0.0",
      "model_name": "LayoutModel",
      "state": {
       "width": "145px"
      }
     },
     "8d32261653864d2bb448cd6f33e83afd": {
      "model_module": "@jupyter-widgets/controls",
      "model_module_version": "2.0.0",
      "model_name": "HTMLModel",
      "state": {
       "layout": "IPY_MODEL_87778b1dc2a84268adddd84d8943301c",
       "style": "IPY_MODEL_58ca15c14c7248d5bda7c447246271d1",
       "value": "-"
      }
     },
     "8e0f2fef60ee47e7a5dad6bc019540ad": {
      "model_module": "@jupyter-widgets/base",
      "model_module_version": "2.0.0",
      "model_name": "LayoutModel",
      "state": {
       "width": "145px"
      }
     },
     "8e1c30bb98a848d4ac836920d6ab9a9d": {
      "model_module": "@jupyter-widgets/controls",
      "model_module_version": "2.0.0",
      "model_name": "HTMLModel",
      "state": {
       "layout": "IPY_MODEL_14a380dc58c149df8de7886cce24ba57",
       "style": "IPY_MODEL_10a2b4b260544e14a7410327911270f1",
       "value": "ibmq_kolkata"
      }
     },
     "8e39f8c3e66c4bd9b629cdfcf03e7c7e": {
      "model_module": "@jupyter-widgets/controls",
      "model_module_version": "2.0.0",
      "model_name": "HTMLModel",
      "state": {
       "layout": "IPY_MODEL_584d825ec44349f1b059f8593194f4e4",
       "style": "IPY_MODEL_e1337799202f423b976c818b18d7c53d",
       "value": "ck27vgqlnssf0d7kr9b0"
      }
     },
     "8e41b4613a4e4ba28f1a6e907dfb202d": {
      "model_module": "@jupyter-widgets/base",
      "model_module_version": "2.0.0",
      "model_name": "LayoutModel",
      "state": {
       "margin": "0px 5px 0px 0px",
       "width": "32px"
      }
     },
     "8e70b060a6714df69f7a707dd9dae84e": {
      "model_module": "@jupyter-widgets/controls",
      "model_module_version": "2.0.0",
      "model_name": "HTMLModel",
      "state": {
       "layout": "IPY_MODEL_f249c3dc94b54eb9aca499f6977abfa7",
       "style": "IPY_MODEL_09e33b3b431f48fcaceb087fae2e4ec3",
       "value": "<font style='color:#34BC6E'>DONE</font>"
      }
     },
     "8e96d97fc07942cfa041dcc543136d2e": {
      "model_module": "@jupyter-widgets/base",
      "model_module_version": "2.0.0",
      "model_name": "LayoutModel",
      "state": {
       "margin": "0px 5px 0px 0px",
       "width": "32px"
      }
     },
     "8e9903c3b1dd4e249e275707cbcbbeb5": {
      "model_module": "@jupyter-widgets/controls",
      "model_module_version": "2.0.0",
      "model_name": "HTMLModel",
      "state": {
       "layout": "IPY_MODEL_252431caf074401588bf4acc5fd48577",
       "style": "IPY_MODEL_b702b29c0b574c6ea6a144497df1f59b",
       "value": "job has successfully run"
      }
     },
     "8e9ad30180044e51805289001286f172": {
      "model_module": "@jupyter-widgets/controls",
      "model_module_version": "2.0.0",
      "model_name": "HTMLStyleModel",
      "state": {
       "description_width": "",
       "font_size": null,
       "text_color": null
      }
     },
     "8ed1e8c548dc4e979df363bd9831ee1e": {
      "model_module": "@jupyter-widgets/controls",
      "model_module_version": "2.0.0",
      "model_name": "HTMLStyleModel",
      "state": {
       "description_width": "",
       "font_size": null,
       "text_color": null
      }
     },
     "8f21512564cb4e4897b7ffdeef5f8c15": {
      "model_module": "@jupyter-widgets/base",
      "model_module_version": "2.0.0",
      "model_name": "LayoutModel",
      "state": {
       "width": "190px"
      }
     },
     "8f2c86f2c9d049a08b56b9d8953f1c04": {
      "model_module": "@jupyter-widgets/controls",
      "model_module_version": "2.0.0",
      "model_name": "HBoxModel",
      "state": {
       "children": [
        "IPY_MODEL_51d7c6bbcf9b4e219dd8f1349eea3752",
        "IPY_MODEL_8e39f8c3e66c4bd9b629cdfcf03e7c7e",
        "IPY_MODEL_3221b05da6834b4cb4170ff713a526ec",
        "IPY_MODEL_b29f4dbad79145da8d7564ba386bf34d",
        "IPY_MODEL_5644fe066b88460a90a337f3d1ee5966",
        "IPY_MODEL_9967c75ce7754025ad9edc301e59c122"
       ],
       "layout": "IPY_MODEL_ce2dc204d1aa4e7d91a66eb544fa4de2"
      }
     },
     "8f6b01e814b047269b0f47134e78b45f": {
      "model_module": "@jupyter-widgets/controls",
      "model_module_version": "2.0.0",
      "model_name": "HTMLStyleModel",
      "state": {
       "description_width": "",
       "font_size": null,
       "text_color": null
      }
     },
     "8f72336e449d4a7aaade7d09839199a9": {
      "model_module": "@jupyter-widgets/controls",
      "model_module_version": "2.0.0",
      "model_name": "HTMLStyleModel",
      "state": {
       "description_width": "",
       "font_size": null,
       "text_color": null
      }
     },
     "8f79488636c449ea8bea372cd65bb500": {
      "model_module": "@jupyter-widgets/base",
      "model_module_version": "2.0.0",
      "model_name": "LayoutModel",
      "state": {
       "margin": "0px 5px 0px 0px",
       "width": "32px"
      }
     },
     "8f7fa9ab7e8547a6bc0a704c0a736d3e": {
      "model_module": "@jupyter-widgets/controls",
      "model_module_version": "2.0.0",
      "model_name": "ButtonModel",
      "state": {
       "icon": "close",
       "layout": "IPY_MODEL_8e41b4613a4e4ba28f1a6e907dfb202d",
       "style": "IPY_MODEL_bab99fbba92e40a48e18f41e9870187e",
       "tooltip": null
      }
     },
     "8fba0c3bf9a145d79a2512340431c810": {
      "model_module": "@jupyter-widgets/controls",
      "model_module_version": "2.0.0",
      "model_name": "HTMLModel",
      "state": {
       "layout": "IPY_MODEL_a601918ddd2a4ac9be930ed35a964b04",
       "style": "IPY_MODEL_1fe54f677d78406cb24925f4655fb163",
       "value": "ck27ui4ai8c00cmubpsg"
      }
     },
     "90242cdd936e46c9b2451ec2b44ee0da": {
      "model_module": "@jupyter-widgets/base",
      "model_module_version": "2.0.0",
      "model_name": "LayoutModel",
      "state": {
       "width": "95px"
      }
     },
     "9089f295b93c47d7a63d3c6d5c071227": {
      "model_module": "@jupyter-widgets/controls",
      "model_module_version": "2.0.0",
      "model_name": "HTMLStyleModel",
      "state": {
       "description_width": "",
       "font_size": null,
       "text_color": null
      }
     },
     "9198d7413bdb4d4897df29b0f8a6c947": {
      "model_module": "@jupyter-widgets/base",
      "model_module_version": "2.0.0",
      "model_name": "LayoutModel",
      "state": {
       "width": "190px"
      }
     },
     "91bb3113c7674bc58c926588a77f7e92": {
      "model_module": "@jupyter-widgets/base",
      "model_module_version": "2.0.0",
      "model_name": "LayoutModel",
      "state": {
       "margin": "0px 5px 0px 0px",
       "width": "32px"
      }
     },
     "9211e9d4760e42729a5dcaee31cf555f": {
      "model_module": "@jupyter-widgets/controls",
      "model_module_version": "2.0.0",
      "model_name": "HTMLModel",
      "state": {
       "layout": "IPY_MODEL_3cb9ed857a5c484ebc3f7bdc47092481",
       "style": "IPY_MODEL_a50f724bc8db4e84a90da0a97597e7ef",
       "value": "<font style='color:#34BC6E'>DONE</font>"
      }
     },
     "92b0da448a8942a29071dad83d950e91": {
      "model_module": "@jupyter-widgets/controls",
      "model_module_version": "2.0.0",
      "model_name": "HTMLStyleModel",
      "state": {
       "description_width": "",
       "font_size": null,
       "text_color": null
      }
     },
     "92cc6343568444198c147040cf8a35d1": {
      "model_module": "@jupyter-widgets/controls",
      "model_module_version": "2.0.0",
      "model_name": "HTMLStyleModel",
      "state": {
       "description_width": "",
       "font_size": null,
       "text_color": null
      }
     },
     "930f7ad4ecaf43f49c58fbe620430521": {
      "model_module": "@jupyter-widgets/base",
      "model_module_version": "2.0.0",
      "model_name": "LayoutModel",
      "state": {}
     },
     "936d9850e77d444abfa634854a45bb14": {
      "model_module": "@jupyter-widgets/controls",
      "model_module_version": "2.0.0",
      "model_name": "HTMLStyleModel",
      "state": {
       "description_width": "",
       "font_size": null,
       "text_color": null
      }
     },
     "937bf48e0f494c15afc6629c9b0b3666": {
      "model_module": "@jupyter-widgets/controls",
      "model_module_version": "2.0.0",
      "model_name": "HTMLModel",
      "state": {
       "layout": "IPY_MODEL_83477950b8d0444a8df92266d93337cd",
       "style": "IPY_MODEL_a7a32bc4c13249bd92e34a713a81bac4",
       "value": "ibmq_kolkata"
      }
     },
     "93ed484b34804b6497300f7c74d0090e": {
      "model_module": "@jupyter-widgets/controls",
      "model_module_version": "2.0.0",
      "model_name": "HTMLStyleModel",
      "state": {
       "description_width": "",
       "font_size": null,
       "text_color": null
      }
     },
     "9449e543cc724bd2b61685f77920594b": {
      "model_module": "@jupyter-widgets/controls",
      "model_module_version": "2.0.0",
      "model_name": "HBoxModel",
      "state": {
       "children": [
        "IPY_MODEL_caf35e8b7b3a46f6a3cfdea991fd481e",
        "IPY_MODEL_2d9e03637c0d4a588ac38d278065d166",
        "IPY_MODEL_bade60373c904b6da79dc4545ffc5450",
        "IPY_MODEL_5a0a9ffb68b84f1ab3894336ad1b72a1",
        "IPY_MODEL_61693fdb003a4bb680ad05fa5d68b21b",
        "IPY_MODEL_24ae92e2c0894cb6a32cd767e07d6d30"
       ],
       "layout": "IPY_MODEL_24ea1f0b3d834da399277f16414c75f3"
      }
     },
     "94a227f00a784009aaee69bf05b535cb": {
      "model_module": "@jupyter-widgets/base",
      "model_module_version": "2.0.0",
      "model_name": "LayoutModel",
      "state": {
       "max_width": "700px",
       "min_width": "700px"
      }
     },
     "959f08255387470188b845971ef40d3a": {
      "model_module": "@jupyter-widgets/base",
      "model_module_version": "2.0.0",
      "model_name": "LayoutModel",
      "state": {
       "max_width": "700px",
       "min_width": "700px"
      }
     },
     "96c9dcb8eaa84400b5a5b8b21e50febf": {
      "model_module": "@jupyter-widgets/base",
      "model_module_version": "2.0.0",
      "model_name": "LayoutModel",
      "state": {
       "width": "70px"
      }
     },
     "96d68cedd1e44e70bee470c63757ed41": {
      "model_module": "@jupyter-widgets/controls",
      "model_module_version": "2.0.0",
      "model_name": "HTMLStyleModel",
      "state": {
       "description_width": "",
       "font_size": null,
       "text_color": null
      }
     },
     "97057b2c61ba4f2592bd6f0b1d26dcdf": {
      "model_module": "@jupyter-widgets/controls",
      "model_module_version": "2.0.0",
      "model_name": "ButtonModel",
      "state": {
       "icon": "close",
       "layout": "IPY_MODEL_80b0b55558cd42d2b2da41c85b70239d",
       "style": "IPY_MODEL_e353e33deda64071a286ba34040b8a96",
       "tooltip": null
      }
     },
     "973625ade3e94533b42420d8bb28860a": {
      "model_module": "@jupyter-widgets/base",
      "model_module_version": "2.0.0",
      "model_name": "LayoutModel",
      "state": {
       "width": "95px"
      }
     },
     "978168d5f55047bf82539ccbbaf5b1ac": {
      "model_module": "@jupyter-widgets/base",
      "model_module_version": "2.0.0",
      "model_name": "LayoutModel",
      "state": {
       "width": "95px"
      }
     },
     "97a548b762d94de69499cfdbd1313f46": {
      "model_module": "@jupyter-widgets/controls",
      "model_module_version": "2.0.0",
      "model_name": "ButtonModel",
      "state": {
       "icon": "close",
       "layout": "IPY_MODEL_d9bb607a2fed48079a30fb1f853b8d8e",
       "style": "IPY_MODEL_6e25a6967343413aae3ee50d92e30884",
       "tooltip": null
      }
     },
     "989a7fabb5b44709922aba2a2dd2b9f7": {
      "model_module": "@jupyter-widgets/controls",
      "model_module_version": "2.0.0",
      "model_name": "HTMLStyleModel",
      "state": {
       "description_width": "",
       "font_size": null,
       "text_color": null
      }
     },
     "98e5eb69d2674458a32c923c8d2a9aa0": {
      "model_module": "@jupyter-widgets/controls",
      "model_module_version": "2.0.0",
      "model_name": "HTMLStyleModel",
      "state": {
       "description_width": "",
       "font_size": null,
       "text_color": null
      }
     },
     "9901020945a440f8b0db7c010db13b8b": {
      "model_module": "@jupyter-widgets/controls",
      "model_module_version": "2.0.0",
      "model_name": "HTMLModel",
      "state": {
       "layout": "IPY_MODEL_f84ebc299fa2419da4a45e8a118d57b8",
       "style": "IPY_MODEL_8f72336e449d4a7aaade7d09839199a9",
       "value": "ck27p594fd8h6bo4van0"
      }
     },
     "9967c75ce7754025ad9edc301e59c122": {
      "model_module": "@jupyter-widgets/controls",
      "model_module_version": "2.0.0",
      "model_name": "HTMLModel",
      "state": {
       "layout": "IPY_MODEL_58040b808619477f8ff6655995a6f060",
       "style": "IPY_MODEL_803b09130f3e47b89d048e2fe3fdb7f7",
       "value": "job has successfully run"
      }
     },
     "9a1f318cc96f49e68f1c7d92d72590da": {
      "model_module": "@jupyter-widgets/base",
      "model_module_version": "2.0.0",
      "model_name": "LayoutModel",
      "state": {
       "width": "70px"
      }
     },
     "9a371baaa37b430c8782315aff26e9d4": {
      "model_module": "@jupyter-widgets/controls",
      "model_module_version": "2.0.0",
      "model_name": "HTMLStyleModel",
      "state": {
       "description_width": "",
       "font_size": null,
       "text_color": null
      }
     },
     "9a84183b5c234e9c8023728dbd3b1eba": {
      "model_module": "@jupyter-widgets/base",
      "model_module_version": "2.0.0",
      "model_name": "LayoutModel",
      "state": {
       "margin": "0px 5px 0px 0px",
       "width": "32px"
      }
     },
     "9a984730f1304901ab60eff497c4c217": {
      "model_module": "@jupyter-widgets/controls",
      "model_module_version": "2.0.0",
      "model_name": "HTMLStyleModel",
      "state": {
       "description_width": "",
       "font_size": null,
       "text_color": null
      }
     },
     "9b9e1834f6cb400a89c7186ecbf92de9": {
      "model_module": "@jupyter-widgets/controls",
      "model_module_version": "2.0.0",
      "model_name": "ButtonStyleModel",
      "state": {
       "button_color": "white",
       "font_family": null,
       "font_size": null,
       "font_style": null,
       "font_variant": null,
       "font_weight": null,
       "text_color": null,
       "text_decoration": null
      }
     },
     "9c82c0ca2eca4d83a1b3455e99320842": {
      "model_module": "@jupyter-widgets/controls",
      "model_module_version": "2.0.0",
      "model_name": "HTMLModel",
      "state": {
       "layout": "IPY_MODEL_96c9dcb8eaa84400b5a5b8b21e50febf",
       "style": "IPY_MODEL_836b57c063b145e0ba880a7af1dd27cb",
       "value": "-"
      }
     },
     "9cd7ded4e6a4486d97440151f20e8a90": {
      "model_module": "@jupyter-widgets/base",
      "model_module_version": "2.0.0",
      "model_name": "LayoutModel",
      "state": {
       "max_width": "700px",
       "min_width": "700px"
      }
     },
     "9d5076deb1b244e3bee45a12d8e89810": {
      "model_module": "@jupyter-widgets/base",
      "model_module_version": "2.0.0",
      "model_name": "LayoutModel",
      "state": {
       "width": "145px"
      }
     },
     "9de8731265804fca91d97f488b93f35c": {
      "model_module": "@jupyter-widgets/base",
      "model_module_version": "2.0.0",
      "model_name": "LayoutModel",
      "state": {
       "grid_template_areas": "\n                                       \". . . . right \"\n                                        ",
       "grid_template_columns": "20% 20% 20% 20% 20%",
       "width": "100%"
      }
     },
     "9df2ba77d6ca4f958db219309cca7300": {
      "model_module": "@jupyter-widgets/controls",
      "model_module_version": "2.0.0",
      "model_name": "HTMLModel",
      "state": {
       "layout": "IPY_MODEL_097912d9f3dc4987b45d1344db5bd478",
       "style": "IPY_MODEL_96d68cedd1e44e70bee470c63757ed41",
       "value": "-"
      }
     },
     "9dfd791b6cd24faa9c26efb9f0304587": {
      "model_module": "@jupyter-widgets/controls",
      "model_module_version": "2.0.0",
      "model_name": "HTMLModel",
      "state": {
       "layout": "IPY_MODEL_b44ab8e8c717417095ce8416d3752b2f",
       "style": "IPY_MODEL_cea545d6d46949958687911afff7455b",
       "value": "<font style='color:#34BC6E'>DONE</font>"
      }
     },
     "9e4da54f096d414c81b837e1fc94a3ec": {
      "model_module": "@jupyter-widgets/base",
      "model_module_version": "2.0.0",
      "model_name": "LayoutModel",
      "state": {
       "width": "70px"
      }
     },
     "9ef52eb020274c6380b8e6e8a6434da6": {
      "model_module": "@jupyter-widgets/controls",
      "model_module_version": "2.0.0",
      "model_name": "HBoxModel",
      "state": {
       "children": [
        "IPY_MODEL_22055d25bb9f4dd7b04f1316e3ecb3e4",
        "IPY_MODEL_f926cd0fa3d94f14a47cc7638c28b2d0",
        "IPY_MODEL_aa068aacb49e4cc8a55f759ff14d40df",
        "IPY_MODEL_65e57d7550984eab8218473c9b3a30b1",
        "IPY_MODEL_ac07fa7592a74543b32769997702e4d1",
        "IPY_MODEL_644ea0d4b8be419f991975e19227c25c"
       ],
       "layout": "IPY_MODEL_7fdb439a41604d88bab87067930afcf6"
      }
     },
     "9f00470121da4ac7bb020d4e3af0bc3c": {
      "model_module": "@jupyter-widgets/controls",
      "model_module_version": "2.0.0",
      "model_name": "HTMLModel",
      "state": {
       "layout": "IPY_MODEL_4a8ea5b9fb924b70838732a40d35c34a",
       "style": "IPY_MODEL_a9a07920282e42a7800ccd60dd10f22b",
       "value": "ibmq_kolkata"
      }
     },
     "a0e20e4b90fe495b85b7a5d623cda2ef": {
      "model_module": "@jupyter-widgets/controls",
      "model_module_version": "2.0.0",
      "model_name": "HTMLStyleModel",
      "state": {
       "description_width": "",
       "font_size": null,
       "text_color": null
      }
     },
     "a15f33ac55c44d61a8c3d428b61b169b": {
      "model_module": "@jupyter-widgets/controls",
      "model_module_version": "2.0.0",
      "model_name": "HTMLStyleModel",
      "state": {
       "description_width": "",
       "font_size": null,
       "text_color": null
      }
     },
     "a22acf5ff4c541318020d32e5c6b318e": {
      "model_module": "@jupyter-widgets/base",
      "model_module_version": "2.0.0",
      "model_name": "LayoutModel",
      "state": {
       "max_width": "700px",
       "min_width": "700px"
      }
     },
     "a2b5da44d9644c79b6e7be6fbefcd707": {
      "model_module": "@jupyter-widgets/controls",
      "model_module_version": "2.0.0",
      "model_name": "HTMLStyleModel",
      "state": {
       "description_width": "",
       "font_size": null,
       "text_color": null
      }
     },
     "a378ec6f1ab64ef0915f1164430f97c1": {
      "model_module": "@jupyter-widgets/controls",
      "model_module_version": "2.0.0",
      "model_name": "HTMLStyleModel",
      "state": {
       "description_width": "",
       "font_size": null,
       "text_color": null
      }
     },
     "a38cfb4df31547b09256433b3515ce29": {
      "model_module": "@jupyter-widgets/base",
      "model_module_version": "2.0.0",
      "model_name": "LayoutModel",
      "state": {
       "width": "95px"
      }
     },
     "a3e5792c2ed94e77b4c1fa588135fd15": {
      "model_module": "@jupyter-widgets/base",
      "model_module_version": "2.0.0",
      "model_name": "LayoutModel",
      "state": {
       "margin": "0px 0px 0px 37px",
       "width": "600px"
      }
     },
     "a403965a47fa4383ae89a03c7c90cc34": {
      "model_module": "@jupyter-widgets/controls",
      "model_module_version": "2.0.0",
      "model_name": "HTMLStyleModel",
      "state": {
       "description_width": "",
       "font_size": null,
       "text_color": null
      }
     },
     "a50f724bc8db4e84a90da0a97597e7ef": {
      "model_module": "@jupyter-widgets/controls",
      "model_module_version": "2.0.0",
      "model_name": "HTMLStyleModel",
      "state": {
       "description_width": "",
       "font_size": null,
       "text_color": null
      }
     },
     "a52bdaa39d9d4fa8ab01c97da4254387": {
      "model_module": "@jupyter-widgets/controls",
      "model_module_version": "2.0.0",
      "model_name": "HBoxModel",
      "state": {
       "children": [
        "IPY_MODEL_f25ab1de1118482db49dc40031695b4a",
        "IPY_MODEL_1f9f89896351434d9d73d5e7a0bf3f32",
        "IPY_MODEL_1aae0307bb4d46a28ddd0c286ca0d890",
        "IPY_MODEL_df5d3a3407c243e2936c7b3f4b84fd14",
        "IPY_MODEL_57843d115c0a4f05be0ad6373cf44a26",
        "IPY_MODEL_b2c4ca0ba44541d298b44b8a9d2d83d4"
       ],
       "layout": "IPY_MODEL_4d4e092923a94621a8348ab7d2339b4c"
      }
     },
     "a601918ddd2a4ac9be930ed35a964b04": {
      "model_module": "@jupyter-widgets/base",
      "model_module_version": "2.0.0",
      "model_name": "LayoutModel",
      "state": {
       "width": "190px"
      }
     },
     "a6876c71bfa14ceb821ca07599ab7ae8": {
      "model_module": "@jupyter-widgets/base",
      "model_module_version": "2.0.0",
      "model_name": "LayoutModel",
      "state": {
       "width": "70px"
      }
     },
     "a6899a10f1da4a439d52fbe38c111cc9": {
      "model_module": "@jupyter-widgets/controls",
      "model_module_version": "2.0.0",
      "model_name": "HTMLModel",
      "state": {
       "layout": "IPY_MODEL_02c3c3cc21934b5c849a7e40fac5f43e",
       "style": "IPY_MODEL_eb8bc5ed8f1440b2bee95bb7bf47cf6d",
       "value": "ck27pe51r6vdfs030iv0"
      }
     },
     "a707ac8ce80d4820a9a6dc25cfc8f740": {
      "model_module": "@jupyter-widgets/base",
      "model_module_version": "2.0.0",
      "model_name": "LayoutModel",
      "state": {
       "width": "145px"
      }
     },
     "a7123f858bdf44ee830907b03b272f70": {
      "model_module": "@jupyter-widgets/controls",
      "model_module_version": "2.0.0",
      "model_name": "HTMLStyleModel",
      "state": {
       "description_width": "",
       "font_size": null,
       "text_color": null
      }
     },
     "a7a32bc4c13249bd92e34a713a81bac4": {
      "model_module": "@jupyter-widgets/controls",
      "model_module_version": "2.0.0",
      "model_name": "HTMLStyleModel",
      "state": {
       "description_width": "",
       "font_size": null,
       "text_color": null
      }
     },
     "a7b01e9ba82c40faaaf7f5cbedc3af7b": {
      "model_module": "@jupyter-widgets/base",
      "model_module_version": "2.0.0",
      "model_name": "LayoutModel",
      "state": {
       "max_width": "700px",
       "min_width": "700px"
      }
     },
     "a7d8282c591d45b3adb3a866c25d248b": {
      "model_module": "@jupyter-widgets/base",
      "model_module_version": "2.0.0",
      "model_name": "LayoutModel",
      "state": {
       "max_width": "700px",
       "min_width": "700px"
      }
     },
     "a7e5971e426041c3b2f0d410f740018c": {
      "model_module": "@jupyter-widgets/controls",
      "model_module_version": "2.0.0",
      "model_name": "HTMLStyleModel",
      "state": {
       "description_width": "",
       "font_size": null,
       "text_color": null
      }
     },
     "a802c8fb6cd94dc18b4d8befadfe7130": {
      "model_module": "@jupyter-widgets/controls",
      "model_module_version": "2.0.0",
      "model_name": "HTMLModel",
      "state": {
       "layout": "IPY_MODEL_6c1a59441e914aa4b3e9edf7b9a88ba9",
       "style": "IPY_MODEL_70ad16a6ff244df99011e42128666005",
       "value": "-"
      }
     },
     "a86e1e8e9cd94901b8df7a263024b9d4": {
      "model_module": "@jupyter-widgets/base",
      "model_module_version": "2.0.0",
      "model_name": "LayoutModel",
      "state": {}
     },
     "a8a299b938b94d77a62d5ba96279631a": {
      "model_module": "@jupyter-widgets/base",
      "model_module_version": "2.0.0",
      "model_name": "LayoutModel",
      "state": {
       "width": "70px"
      }
     },
     "a9a07920282e42a7800ccd60dd10f22b": {
      "model_module": "@jupyter-widgets/controls",
      "model_module_version": "2.0.0",
      "model_name": "HTMLStyleModel",
      "state": {
       "description_width": "",
       "font_size": null,
       "text_color": null
      }
     },
     "a9b8d6452011423f90c2af59dc742188": {
      "model_module": "@jupyter-widgets/controls",
      "model_module_version": "2.0.0",
      "model_name": "HTMLModel",
      "state": {
       "layout": "IPY_MODEL_d09e407c45264c1eaac0797ef82fd135",
       "style": "IPY_MODEL_77aceda59b2e4301ab8f61239835449e",
       "value": "job has successfully run"
      }
     },
     "a9cf87ed93af4a6591f7f16b18ea6d99": {
      "model_module": "@jupyter-widgets/controls",
      "model_module_version": "2.0.0",
      "model_name": "GridBoxModel",
      "state": {
       "children": [
        "IPY_MODEL_85451e31dd514a0d8ede62c9fb33bb5c"
       ],
       "layout": "IPY_MODEL_9de8731265804fca91d97f488b93f35c"
      }
     },
     "aa068aacb49e4cc8a55f759ff14d40df": {
      "model_module": "@jupyter-widgets/controls",
      "model_module_version": "2.0.0",
      "model_name": "HTMLModel",
      "state": {
       "layout": "IPY_MODEL_6ce7bb3cd45e407eaf2b438d5413ba0f",
       "style": "IPY_MODEL_385c5b09924e40bbb7b3fbe74cef2b53",
       "value": "ibmq_kolkata"
      }
     },
     "ab5f212827124564826911fc60458b8a": {
      "model_module": "@jupyter-widgets/controls",
      "model_module_version": "2.0.0",
      "model_name": "HTMLModel",
      "state": {
       "layout": "IPY_MODEL_1d8182c81c164c72ab97763367808387",
       "style": "IPY_MODEL_2223f39ee3084c0fa02776a46f5da800",
       "value": "<font style='color:#34BC6E'>DONE</font>"
      }
     },
     "abea8235ce5240b9a253870c139335b6": {
      "model_module": "@jupyter-widgets/base",
      "model_module_version": "2.0.0",
      "model_name": "LayoutModel",
      "state": {}
     },
     "ac07fa7592a74543b32769997702e4d1": {
      "model_module": "@jupyter-widgets/controls",
      "model_module_version": "2.0.0",
      "model_name": "HTMLModel",
      "state": {
       "layout": "IPY_MODEL_6f738a0d0f3446c8a67a6b5b82a9c22c",
       "style": "IPY_MODEL_0313245f9fc145d981d2ead478708ad9",
       "value": "-"
      }
     },
     "ad25e20f2eaf417eb3677fdb1bf2fe8f": {
      "model_module": "@jupyter-widgets/controls",
      "model_module_version": "2.0.0",
      "model_name": "HTMLStyleModel",
      "state": {
       "description_width": "",
       "font_size": null,
       "text_color": null
      }
     },
     "ae18ecea79e14f409fbc6e92fc89abc1": {
      "model_module": "@jupyter-widgets/controls",
      "model_module_version": "2.0.0",
      "model_name": "HTMLStyleModel",
      "state": {
       "description_width": "",
       "font_size": null,
       "text_color": null
      }
     },
     "ae2eb674bd744cff86ecc1f8d976978b": {
      "model_module": "@jupyter-widgets/controls",
      "model_module_version": "2.0.0",
      "model_name": "HTMLStyleModel",
      "state": {
       "description_width": "",
       "font_size": null,
       "text_color": null
      }
     },
     "ae67f40a9ace45bb86a7b337165dbe0d": {
      "model_module": "@jupyter-widgets/base",
      "model_module_version": "2.0.0",
      "model_name": "LayoutModel",
      "state": {
       "width": "70px"
      }
     },
     "aed574bdfd1b48d8a2befbe6d7d16ce8": {
      "model_module": "@jupyter-widgets/controls",
      "model_module_version": "2.0.0",
      "model_name": "HTMLModel",
      "state": {
       "layout": "IPY_MODEL_cfda833cb8cc492cad4321c2e2593394",
       "style": "IPY_MODEL_7139b4b88e9f46f59d68aece0701b2f9",
       "value": "job has successfully run"
      }
     },
     "aeefc486ac0b4915a14d4da47558232e": {
      "model_module": "@jupyter-widgets/controls",
      "model_module_version": "2.0.0",
      "model_name": "ButtonModel",
      "state": {
       "icon": "close",
       "layout": "IPY_MODEL_469f1f8edb7b421bad4acad6127d454a",
       "style": "IPY_MODEL_7a525bc3fd5549d197371931bb9b27d2",
       "tooltip": null
      }
     },
     "af0b39d088454f1abc95ea7db14c87ab": {
      "model_module": "@jupyter-widgets/controls",
      "model_module_version": "2.0.0",
      "model_name": "HTMLStyleModel",
      "state": {
       "description_width": "",
       "font_size": null,
       "text_color": null
      }
     },
     "af0dee01ed1540fbbc543d77065a2dbe": {
      "model_module": "@jupyter-widgets/base",
      "model_module_version": "2.0.0",
      "model_name": "LayoutModel",
      "state": {
       "max_width": "700px",
       "min_width": "700px"
      }
     },
     "afe218f1ca6a4ea3897d21bc7ac05bbe": {
      "model_module": "@jupyter-widgets/controls",
      "model_module_version": "2.0.0",
      "model_name": "HTMLStyleModel",
      "state": {
       "description_width": "",
       "font_size": null,
       "text_color": null
      }
     },
     "b02edbe91fa04646bd5bcb1721843786": {
      "model_module": "@jupyter-widgets/controls",
      "model_module_version": "2.0.0",
      "model_name": "ButtonStyleModel",
      "state": {
       "button_color": "white",
       "font_family": null,
       "font_size": null,
       "font_style": null,
       "font_variant": null,
       "font_weight": null,
       "text_color": null,
       "text_decoration": null
      }
     },
     "b04171d0448b497aa262787558919d61": {
      "model_module": "@jupyter-widgets/controls",
      "model_module_version": "2.0.0",
      "model_name": "ButtonStyleModel",
      "state": {
       "button_color": "white",
       "font_family": null,
       "font_size": null,
       "font_style": null,
       "font_variant": null,
       "font_weight": null,
       "text_color": null,
       "text_decoration": null
      }
     },
     "b095e1f99e4742aba57bd72f41ff72e2": {
      "model_module": "@jupyter-widgets/controls",
      "model_module_version": "2.0.0",
      "model_name": "HTMLStyleModel",
      "state": {
       "description_width": "",
       "font_size": null,
       "text_color": null
      }
     },
     "b0bd4d4a4e5947bdaff1dc2ec15fc8e6": {
      "model_module": "@jupyter-widgets/base",
      "model_module_version": "2.0.0",
      "model_name": "LayoutModel",
      "state": {}
     },
     "b10bfc1033244a67a4da841c4e81cb00": {
      "model_module": "@jupyter-widgets/controls",
      "model_module_version": "2.0.0",
      "model_name": "HTMLModel",
      "state": {
       "layout": "IPY_MODEL_5346a536255c4427aec55a03e46d6100",
       "style": "IPY_MODEL_edba4abe27be4504bfec97c1ea790a32",
       "value": "-"
      }
     },
     "b264df71261f475b9a1b412cf53bb05d": {
      "model_module": "@jupyter-widgets/controls",
      "model_module_version": "2.0.0",
      "model_name": "HTMLModel",
      "state": {
       "layout": "IPY_MODEL_f54ef8fd46f842378d3f5ca682ad54b0",
       "style": "IPY_MODEL_3ab574ae60314f23a4a1b868e21a87e8",
       "value": "ck27vo14fd8h6bo5guig"
      }
     },
     "b29f4dbad79145da8d7564ba386bf34d": {
      "model_module": "@jupyter-widgets/controls",
      "model_module_version": "2.0.0",
      "model_name": "HTMLModel",
      "state": {
       "layout": "IPY_MODEL_0e2d73a223c94cb4bfc1e9510198496d",
       "style": "IPY_MODEL_f767ed119e0e436f8885e49ddecda1b0",
       "value": "<font style='color:#34BC6E'>DONE</font>"
      }
     },
     "b2c4ca0ba44541d298b44b8a9d2d83d4": {
      "model_module": "@jupyter-widgets/controls",
      "model_module_version": "2.0.0",
      "model_name": "HTMLModel",
      "state": {
       "layout": "IPY_MODEL_abea8235ce5240b9a253870c139335b6",
       "style": "IPY_MODEL_5b1e0b0ea14c4bdd815d854c003f68a4",
       "value": "job has successfully run"
      }
     },
     "b2c942285ef34e0fa233ede5fdbb309a": {
      "model_module": "@jupyter-widgets/controls",
      "model_module_version": "2.0.0",
      "model_name": "HTMLStyleModel",
      "state": {
       "description_width": "",
       "font_size": null,
       "text_color": null
      }
     },
     "b3796ca613bd4fb6b25e5aa34eed74b0": {
      "model_module": "@jupyter-widgets/base",
      "model_module_version": "2.0.0",
      "model_name": "LayoutModel",
      "state": {
       "width": "70px"
      }
     },
     "b404c9067140496fb73e84f44537de3f": {
      "model_module": "@jupyter-widgets/controls",
      "model_module_version": "2.0.0",
      "model_name": "HTMLStyleModel",
      "state": {
       "description_width": "",
       "font_size": null,
       "text_color": null
      }
     },
     "b44ab8e8c717417095ce8416d3752b2f": {
      "model_module": "@jupyter-widgets/base",
      "model_module_version": "2.0.0",
      "model_name": "LayoutModel",
      "state": {
       "width": "95px"
      }
     },
     "b4eb6ed1c9454d8081a97b11da8ffb9f": {
      "model_module": "@jupyter-widgets/controls",
      "model_module_version": "2.0.0",
      "model_name": "HTMLModel",
      "state": {
       "layout": "IPY_MODEL_c08b754a20fa43eaa62592ec2e0b46f2",
       "style": "IPY_MODEL_2d48cf7f13a5455480409b4c39577a70",
       "value": "ck280mcai8c00cmui0ag"
      }
     },
     "b5ef8f1b86594b77bfcd5e5c0982a497": {
      "model_module": "@jupyter-widgets/controls",
      "model_module_version": "2.0.0",
      "model_name": "HTMLModel",
      "state": {
       "layout": "IPY_MODEL_b0bd4d4a4e5947bdaff1dc2ec15fc8e6",
       "style": "IPY_MODEL_0fb622d4006c4e0094ab9eee96a411e7",
       "value": "job has successfully run"
      }
     },
     "b64d3f58b49a40f58db34b61ebb7f40a": {
      "model_module": "@jupyter-widgets/controls",
      "model_module_version": "2.0.0",
      "model_name": "HTMLModel",
      "state": {
       "layout": "IPY_MODEL_4d703336a4a446c7a285fb3d47c5e9ba",
       "style": "IPY_MODEL_6f2fab8c3ddc4a9a86669ff31fb8274c",
       "value": "<h5>Queue</h5>"
      }
     },
     "b680fb2f34194c429076765964cff608": {
      "model_module": "@jupyter-widgets/base",
      "model_module_version": "2.0.0",
      "model_name": "LayoutModel",
      "state": {
       "width": "190px"
      }
     },
     "b702b29c0b574c6ea6a144497df1f59b": {
      "model_module": "@jupyter-widgets/controls",
      "model_module_version": "2.0.0",
      "model_name": "HTMLStyleModel",
      "state": {
       "description_width": "",
       "font_size": null,
       "text_color": null
      }
     },
     "b8e51461b08641d7a3af6b72964d82c4": {
      "model_module": "@jupyter-widgets/controls",
      "model_module_version": "2.0.0",
      "model_name": "HTMLStyleModel",
      "state": {
       "description_width": "",
       "font_size": null,
       "text_color": null
      }
     },
     "b92603559bbe40579fbfacd0a5b527e5": {
      "model_module": "@jupyter-widgets/controls",
      "model_module_version": "2.0.0",
      "model_name": "HBoxModel",
      "state": {
       "children": [
        "IPY_MODEL_4b41f93ad1a14dacb05f9816591109f1",
        "IPY_MODEL_8fba0c3bf9a145d79a2512340431c810",
        "IPY_MODEL_693a2e9321d74da3a0d7bafed7e3dfc7",
        "IPY_MODEL_03eed6578f80440290c1eacc3d33d250",
        "IPY_MODEL_a802c8fb6cd94dc18b4d8befadfe7130",
        "IPY_MODEL_121becf72cc54f09a50309800e6bd04a"
       ],
       "layout": "IPY_MODEL_71ab34f616f040e696ebdde86b640086"
      }
     },
     "b97932d79aac4d2dab5a2d05c3ed3c27": {
      "model_module": "@jupyter-widgets/base",
      "model_module_version": "2.0.0",
      "model_name": "LayoutModel",
      "state": {}
     },
     "ba56d3fb231a4374a44f238f8412f9f8": {
      "model_module": "@jupyter-widgets/controls",
      "model_module_version": "2.0.0",
      "model_name": "HTMLStyleModel",
      "state": {
       "description_width": "",
       "font_size": null,
       "text_color": null
      }
     },
     "bab99fbba92e40a48e18f41e9870187e": {
      "model_module": "@jupyter-widgets/controls",
      "model_module_version": "2.0.0",
      "model_name": "ButtonStyleModel",
      "state": {
       "button_color": "white",
       "font_family": null,
       "font_size": null,
       "font_style": null,
       "font_variant": null,
       "font_weight": null,
       "text_color": null,
       "text_decoration": null
      }
     },
     "bade60373c904b6da79dc4545ffc5450": {
      "model_module": "@jupyter-widgets/controls",
      "model_module_version": "2.0.0",
      "model_name": "HTMLModel",
      "state": {
       "layout": "IPY_MODEL_5472557889a44f9a937f8e267a4819c5",
       "style": "IPY_MODEL_89b576a081944a179757f98e87ff70b3",
       "value": "ibmq_kolkata"
      }
     },
     "bbfd77062fcf457192a0116b8bf6a83b": {
      "model_module": "@jupyter-widgets/controls",
      "model_module_version": "2.0.0",
      "model_name": "HTMLModel",
      "state": {
       "layout": "IPY_MODEL_b3796ca613bd4fb6b25e5aa34eed74b0",
       "style": "IPY_MODEL_4caa0c1f9a5843e0b3c22a45fb979298",
       "value": "-"
      }
     },
     "bc50ab40363743feb70f00105ff73f33": {
      "model_module": "@jupyter-widgets/controls",
      "model_module_version": "2.0.0",
      "model_name": "ButtonModel",
      "state": {
       "icon": "close",
       "layout": "IPY_MODEL_71edc2f9c37f449e9cbf815ebce151ca",
       "style": "IPY_MODEL_1959164dfb434e6eae6c25525b2e5363",
       "tooltip": null
      }
     },
     "bd4b78bef254453daced42be84b3b7d1": {
      "model_module": "@jupyter-widgets/controls",
      "model_module_version": "2.0.0",
      "model_name": "ButtonModel",
      "state": {
       "icon": "close",
       "layout": "IPY_MODEL_91bb3113c7674bc58c926588a77f7e92",
       "style": "IPY_MODEL_9b9e1834f6cb400a89c7186ecbf92de9",
       "tooltip": null
      }
     },
     "bdbca82dde8e43b8be9a385ff4844b33": {
      "model_module": "@jupyter-widgets/controls",
      "model_module_version": "2.0.0",
      "model_name": "ButtonStyleModel",
      "state": {
       "button_color": "white",
       "font_family": null,
       "font_size": null,
       "font_style": null,
       "font_variant": null,
       "font_weight": null,
       "text_color": null,
       "text_decoration": null
      }
     },
     "bee1ad19137c4681ab0d95a8957612ee": {
      "model_module": "@jupyter-widgets/controls",
      "model_module_version": "2.0.0",
      "model_name": "HBoxModel",
      "state": {
       "children": [
        "IPY_MODEL_6f1dbba3d9f44a879a019d6bbee0256b",
        "IPY_MODEL_a6899a10f1da4a439d52fbe38c111cc9",
        "IPY_MODEL_48f476d5fce1487d8c6dc05a7c677120",
        "IPY_MODEL_487d60da605547999abb4d5333f279a2",
        "IPY_MODEL_b10bfc1033244a67a4da841c4e81cb00",
        "IPY_MODEL_c5d7d752a7e04d6c89375545e332dbfd"
       ],
       "layout": "IPY_MODEL_2cffac42ad3b4036bcdbaa2e0ae4398b"
      }
     },
     "c07e33dc15a0437ba706386d6cbf994d": {
      "model_module": "@jupyter-widgets/base",
      "model_module_version": "2.0.0",
      "model_name": "LayoutModel",
      "state": {}
     },
     "c08b754a20fa43eaa62592ec2e0b46f2": {
      "model_module": "@jupyter-widgets/base",
      "model_module_version": "2.0.0",
      "model_name": "LayoutModel",
      "state": {
       "width": "190px"
      }
     },
     "c1779ab7c4b442f799e82afe911370a8": {
      "model_module": "@jupyter-widgets/controls",
      "model_module_version": "2.0.0",
      "model_name": "HTMLModel",
      "state": {
       "layout": "IPY_MODEL_3f9f8180283746f6a3b36fdb8ccbb455",
       "style": "IPY_MODEL_2b78b46c94914323985e76ad2d4eabfb",
       "value": "<font style='color:#34BC6E'>DONE</font>"
      }
     },
     "c1b71189e203445599a3144f3b773843": {
      "model_module": "@jupyter-widgets/controls",
      "model_module_version": "2.0.0",
      "model_name": "ButtonModel",
      "state": {
       "icon": "close",
       "layout": "IPY_MODEL_69755b6bda6a47a4b37ffe9069c2618e",
       "style": "IPY_MODEL_f56a238ddfde4a63a50cf69db84a39a1",
       "tooltip": null
      }
     },
     "c2b891f54cc44bff8d4431f328149031": {
      "model_module": "@jupyter-widgets/controls",
      "model_module_version": "2.0.0",
      "model_name": "HTMLStyleModel",
      "state": {
       "description_width": "",
       "font_size": null,
       "text_color": null
      }
     },
     "c40d070869374cb49fa6a4e2a3b06a17": {
      "model_module": "@jupyter-widgets/base",
      "model_module_version": "2.0.0",
      "model_name": "LayoutModel",
      "state": {
       "width": "145px"
      }
     },
     "c458ff95aab546019e842a7403e9327b": {
      "model_module": "@jupyter-widgets/controls",
      "model_module_version": "2.0.0",
      "model_name": "HTMLModel",
      "state": {
       "layout": "IPY_MODEL_33d55a7debd246e4bde548bc0ad1afe4",
       "style": "IPY_MODEL_5fd758fd213d4a23b4bdb34c413dee4b",
       "value": "ibmq_kolkata"
      }
     },
     "c48f26c360d04668a444d69352e78b51": {
      "model_module": "@jupyter-widgets/controls",
      "model_module_version": "2.0.0",
      "model_name": "HTMLStyleModel",
      "state": {
       "description_width": "",
       "font_size": null,
       "text_color": null
      }
     },
     "c4e2381e73814e8fbda63cf0620ebaa9": {
      "model_module": "@jupyter-widgets/controls",
      "model_module_version": "2.0.0",
      "model_name": "HTMLStyleModel",
      "state": {
       "description_width": "",
       "font_size": null,
       "text_color": null
      }
     },
     "c5324c937d5749a6a7bf475c07a16c53": {
      "model_module": "@jupyter-widgets/controls",
      "model_module_version": "2.0.0",
      "model_name": "HTMLStyleModel",
      "state": {
       "description_width": "",
       "font_size": null,
       "text_color": null
      }
     },
     "c56f3b5c1c344489967bfcaf2bca4c19": {
      "model_module": "@jupyter-widgets/controls",
      "model_module_version": "2.0.0",
      "model_name": "HBoxModel",
      "state": {
       "children": [
        "IPY_MODEL_c1b71189e203445599a3144f3b773843",
        "IPY_MODEL_b4eb6ed1c9454d8081a97b11da8ffb9f",
        "IPY_MODEL_e5863466ecdc47e1a05748a7f32f5bca",
        "IPY_MODEL_7b88da04cac54468a1a4f3657ebfa777",
        "IPY_MODEL_f8fbbcd5eb924a27b39be6740103d969",
        "IPY_MODEL_d2a12225de51440b97a611a4b734e583"
       ],
       "layout": "IPY_MODEL_16b08e5229884545a301fabe8609123e"
      }
     },
     "c5a677bd9182460cbb5c7c81da25bff2": {
      "model_module": "@jupyter-widgets/controls",
      "model_module_version": "2.0.0",
      "model_name": "HBoxModel",
      "state": {
       "children": [
        "IPY_MODEL_97057b2c61ba4f2592bd6f0b1d26dcdf",
        "IPY_MODEL_d42baa61543a4cafb857874f3974a2b7",
        "IPY_MODEL_c458ff95aab546019e842a7403e9327b",
        "IPY_MODEL_9dfd791b6cd24faa9c26efb9f0304587",
        "IPY_MODEL_e2ca2b0043484b39b4f2a77cc3c712fd",
        "IPY_MODEL_a9b8d6452011423f90c2af59dc742188"
       ],
       "layout": "IPY_MODEL_f193d301a8814d82ad2e430387f92015"
      }
     },
     "c5d7d752a7e04d6c89375545e332dbfd": {
      "model_module": "@jupyter-widgets/controls",
      "model_module_version": "2.0.0",
      "model_name": "HTMLModel",
      "state": {
       "layout": "IPY_MODEL_28465c7acea440c2b9103f3d052b34dc",
       "style": "IPY_MODEL_c4e2381e73814e8fbda63cf0620ebaa9",
       "value": "job has successfully run"
      }
     },
     "c5ea5c2ec0774cecb051c7cbf960ab7f": {
      "model_module": "@jupyter-widgets/controls",
      "model_module_version": "2.0.0",
      "model_name": "HBoxModel",
      "state": {
       "children": [
        "IPY_MODEL_8f7fa9ab7e8547a6bc0a704c0a736d3e",
        "IPY_MODEL_d69712e1444740439b63a037f8794491",
        "IPY_MODEL_251f237b18c84ffcb5f29b3a85a6cde3",
        "IPY_MODEL_791d9deec34d4d04b1fef81222e8d184",
        "IPY_MODEL_73000de269744d9ba6b803628ec11fe2",
        "IPY_MODEL_3893d01276cd4c1aa949245f6f6473c5"
       ],
       "layout": "IPY_MODEL_0c24ba5a55614cb696aba64ee4b5ca6a"
      }
     },
     "c5ec30b630854eaeb0004a8f3479de26": {
      "model_module": "@jupyter-widgets/controls",
      "model_module_version": "2.0.0",
      "model_name": "HBoxModel",
      "state": {
       "children": [
        "IPY_MODEL_725216efa50e47669a135ecd38b866a6",
        "IPY_MODEL_61ee819a797b49dc9d9c135cc316eba9",
        "IPY_MODEL_ff041662d71c4e6c9ff76903bb1b91e3",
        "IPY_MODEL_0e1ab1aa306044b281863730b7fbde7f",
        "IPY_MODEL_6643b88bba524814ac0dab58ecee0017",
        "IPY_MODEL_88eca29814ee44ada05ea90ea096a12c"
       ],
       "layout": "IPY_MODEL_633d9742b43549129e9e9a0b53f56211"
      }
     },
     "c6745231ea7e4de5a4c0199a428a863f": {
      "model_module": "@jupyter-widgets/controls",
      "model_module_version": "2.0.0",
      "model_name": "ButtonModel",
      "state": {
       "icon": "close",
       "layout": "IPY_MODEL_cbf51ef458904cf0b584f71decd46a12",
       "style": "IPY_MODEL_2edaca0669a8452095d1b0881b2d25e5",
       "tooltip": null
      }
     },
     "c6895f1c248f4606b120c6798bc42689": {
      "model_module": "@jupyter-widgets/controls",
      "model_module_version": "2.0.0",
      "model_name": "HTMLStyleModel",
      "state": {
       "description_width": "",
       "font_size": null,
       "text_color": null
      }
     },
     "c73aa70cc49a4fea9b61bc72ab348e3d": {
      "model_module": "@jupyter-widgets/controls",
      "model_module_version": "2.0.0",
      "model_name": "HTMLModel",
      "state": {
       "layout": "IPY_MODEL_00ca99b79724480ebe478f4ce449852d",
       "style": "IPY_MODEL_225518ff53b3410ebe151616aa6a7334",
       "value": "ibmq_kolkata"
      }
     },
     "c78f43c690b340468746d130fd0310b4": {
      "model_module": "@jupyter-widgets/base",
      "model_module_version": "2.0.0",
      "model_name": "LayoutModel",
      "state": {
       "width": "145px"
      }
     },
     "c7ebe8ab7bba480aa9243ddb67d7f09a": {
      "model_module": "@jupyter-widgets/base",
      "model_module_version": "2.0.0",
      "model_name": "LayoutModel",
      "state": {
       "width": "95px"
      }
     },
     "c859d308dc694eea808a7dfd4f9d40ef": {
      "model_module": "@jupyter-widgets/controls",
      "model_module_version": "2.0.0",
      "model_name": "HTMLStyleModel",
      "state": {
       "description_width": "",
       "font_size": null,
       "text_color": null
      }
     },
     "c8d6bd8df7c84994b66542881f732aa0": {
      "model_module": "@jupyter-widgets/controls",
      "model_module_version": "2.0.0",
      "model_name": "HBoxModel",
      "state": {
       "children": [
        "IPY_MODEL_aeefc486ac0b4915a14d4da47558232e",
        "IPY_MODEL_7575644d6641465bbb142e9131cbaf2e",
        "IPY_MODEL_d30ea1ad49f948d6abfd1eeaacdf6fec",
        "IPY_MODEL_e9bfa4ce2b3848ab9221d75795137169",
        "IPY_MODEL_bbfd77062fcf457192a0116b8bf6a83b",
        "IPY_MODEL_aed574bdfd1b48d8a2befbe6d7d16ce8"
       ],
       "layout": "IPY_MODEL_35bddde27ec64e0092249c7ce93c9177"
      }
     },
     "c987e09ca28b4cc1bf698cf396b0aeaa": {
      "model_module": "@jupyter-widgets/controls",
      "model_module_version": "2.0.0",
      "model_name": "HTMLStyleModel",
      "state": {
       "description_width": "",
       "font_size": null,
       "text_color": null
      }
     },
     "ca5b4d8ed18445aea18b26409eaba01e": {
      "model_module": "@jupyter-widgets/base",
      "model_module_version": "2.0.0",
      "model_name": "LayoutModel",
      "state": {
       "width": "95px"
      }
     },
     "cad76763bac64fdc9ed119d81a30c4b2": {
      "model_module": "@jupyter-widgets/base",
      "model_module_version": "2.0.0",
      "model_name": "LayoutModel",
      "state": {
       "width": "190px"
      }
     },
     "caf35e8b7b3a46f6a3cfdea991fd481e": {
      "model_module": "@jupyter-widgets/controls",
      "model_module_version": "2.0.0",
      "model_name": "ButtonModel",
      "state": {
       "icon": "close",
       "layout": "IPY_MODEL_07d9a688bb7b455e817a759a37b6a756",
       "style": "IPY_MODEL_8094aaf16b384df5821b4631107644e0",
       "tooltip": null
      }
     },
     "cb0fc978a8e9459e819393cbbaf5dd61": {
      "model_module": "@jupyter-widgets/base",
      "model_module_version": "2.0.0",
      "model_name": "LayoutModel",
      "state": {
       "width": "145px"
      }
     },
     "cbf51ef458904cf0b584f71decd46a12": {
      "model_module": "@jupyter-widgets/base",
      "model_module_version": "2.0.0",
      "model_name": "LayoutModel",
      "state": {
       "margin": "0px 5px 0px 0px",
       "width": "32px"
      }
     },
     "cc7ff83ee5984fe3bce5e38ce0358a45": {
      "model_module": "@jupyter-widgets/controls",
      "model_module_version": "2.0.0",
      "model_name": "HTMLStyleModel",
      "state": {
       "description_width": "",
       "font_size": null,
       "text_color": null
      }
     },
     "ccb7cf6dd4394ce9940fd8d4c2c3b208": {
      "model_module": "@jupyter-widgets/controls",
      "model_module_version": "2.0.0",
      "model_name": "HBoxModel",
      "state": {
       "children": [
        "IPY_MODEL_4c1832e5c3f744268fd96f500ad23b4b",
        "IPY_MODEL_855c878624a94c57a7b007c4c176f3ab",
        "IPY_MODEL_d9463f129e5946ce9b67d4cbe3a2480b",
        "IPY_MODEL_28d3cf98c25b4aa19d02e5bea3b9775f",
        "IPY_MODEL_e1535c2b9abb4c3bb75e0b5c0ce02778",
        "IPY_MODEL_40e90b0a30ee46149fc61cf7a8e7e751"
       ],
       "layout": "IPY_MODEL_039d9ae142c94365bf9a18eb45e16fee"
      }
     },
     "cd27f3cf6b434c83bf1cc85ed1870b13": {
      "model_module": "@jupyter-widgets/controls",
      "model_module_version": "2.0.0",
      "model_name": "HTMLModel",
      "state": {
       "layout": "IPY_MODEL_1f84fc4af1ae43e493e9f500d08cdf83",
       "style": "IPY_MODEL_a378ec6f1ab64ef0915f1164430f97c1",
       "value": "-"
      }
     },
     "cd2b6974f01848ce9f1b5149a03d6dba": {
      "model_module": "@jupyter-widgets/controls",
      "model_module_version": "2.0.0",
      "model_name": "HTMLModel",
      "state": {
       "layout": "IPY_MODEL_a6876c71bfa14ceb821ca07599ab7ae8",
       "style": "IPY_MODEL_7b8acbe1d31b414eaaadc908d4d2e908",
       "value": "-"
      }
     },
     "cdce4d72df5647b9b19f17ac0d9f8f78": {
      "model_module": "@jupyter-widgets/base",
      "model_module_version": "2.0.0",
      "model_name": "LayoutModel",
      "state": {
       "max_width": "700px",
       "min_width": "700px"
      }
     },
     "ce1cf19fc1834ea7a04cbde07447ef6d": {
      "model_module": "@jupyter-widgets/base",
      "model_module_version": "2.0.0",
      "model_name": "LayoutModel",
      "state": {
       "width": "190px"
      }
     },
     "ce2dc204d1aa4e7d91a66eb544fa4de2": {
      "model_module": "@jupyter-widgets/base",
      "model_module_version": "2.0.0",
      "model_name": "LayoutModel",
      "state": {
       "max_width": "700px",
       "min_width": "700px"
      }
     },
     "cea545d6d46949958687911afff7455b": {
      "model_module": "@jupyter-widgets/controls",
      "model_module_version": "2.0.0",
      "model_name": "HTMLStyleModel",
      "state": {
       "description_width": "",
       "font_size": null,
       "text_color": null
      }
     },
     "cfda833cb8cc492cad4321c2e2593394": {
      "model_module": "@jupyter-widgets/base",
      "model_module_version": "2.0.0",
      "model_name": "LayoutModel",
      "state": {}
     },
     "d024852fe1ab466d833b0cf48fa4a7c5": {
      "model_module": "@jupyter-widgets/base",
      "model_module_version": "2.0.0",
      "model_name": "LayoutModel",
      "state": {
       "width": "145px"
      }
     },
     "d047f9481bb44dc28e85563205448bf2": {
      "model_module": "@jupyter-widgets/base",
      "model_module_version": "2.0.0",
      "model_name": "LayoutModel",
      "state": {
       "width": "190px"
      }
     },
     "d049796b1e7e409780285ff739e2bb55": {
      "model_module": "@jupyter-widgets/base",
      "model_module_version": "2.0.0",
      "model_name": "LayoutModel",
      "state": {
       "margin": "0px 5px 0px 0px",
       "width": "32px"
      }
     },
     "d09e407c45264c1eaac0797ef82fd135": {
      "model_module": "@jupyter-widgets/base",
      "model_module_version": "2.0.0",
      "model_name": "LayoutModel",
      "state": {}
     },
     "d0be8a5635fa457e8aa6c3a5eea477a1": {
      "model_module": "@jupyter-widgets/base",
      "model_module_version": "2.0.0",
      "model_name": "LayoutModel",
      "state": {
       "margin": "0px 5px 0px 0px",
       "width": "32px"
      }
     },
     "d1b140f797e74dbea646277aac6e4e5f": {
      "model_module": "@jupyter-widgets/base",
      "model_module_version": "2.0.0",
      "model_name": "LayoutModel",
      "state": {
       "width": "70px"
      }
     },
     "d1c363d8b445445fbd45dd75a7a60666": {
      "model_module": "@jupyter-widgets/base",
      "model_module_version": "2.0.0",
      "model_name": "LayoutModel",
      "state": {
       "width": "95px"
      }
     },
     "d2a12225de51440b97a611a4b734e583": {
      "model_module": "@jupyter-widgets/controls",
      "model_module_version": "2.0.0",
      "model_name": "HTMLModel",
      "state": {
       "layout": "IPY_MODEL_0e1e68376f7841e2a573eb55366c3123",
       "style": "IPY_MODEL_a2b5da44d9644c79b6e7be6fbefcd707",
       "value": "job has successfully run"
      }
     },
     "d2b02bddc21a4d378d69179f52f3f704": {
      "model_module": "@jupyter-widgets/controls",
      "model_module_version": "2.0.0",
      "model_name": "HTMLStyleModel",
      "state": {
       "description_width": "",
       "font_size": null,
       "text_color": null
      }
     },
     "d30ea1ad49f948d6abfd1eeaacdf6fec": {
      "model_module": "@jupyter-widgets/controls",
      "model_module_version": "2.0.0",
      "model_name": "HTMLModel",
      "state": {
       "layout": "IPY_MODEL_50e302a7d5894776914376f3301bdbe0",
       "style": "IPY_MODEL_8ed1e8c548dc4e979df363bd9831ee1e",
       "value": "ibmq_kolkata"
      }
     },
     "d332f2d6d49e4f99aeb7e16c5551a461": {
      "model_module": "@jupyter-widgets/base",
      "model_module_version": "2.0.0",
      "model_name": "LayoutModel",
      "state": {
       "width": "95px"
      }
     },
     "d338a4225dc74220b2982245b0cf7409": {
      "model_module": "@jupyter-widgets/controls",
      "model_module_version": "2.0.0",
      "model_name": "HTMLStyleModel",
      "state": {
       "description_width": "",
       "font_size": null,
       "text_color": null
      }
     },
     "d42baa61543a4cafb857874f3974a2b7": {
      "model_module": "@jupyter-widgets/controls",
      "model_module_version": "2.0.0",
      "model_name": "HTMLModel",
      "state": {
       "layout": "IPY_MODEL_d63e104ade7949a1bc1764ece5d14976",
       "style": "IPY_MODEL_ef2794b9ffd84fe49cdf2805cd73daac",
       "value": "ck27upadijuadepq159g"
      }
     },
     "d5121327061c4f66bfb68c3e242555e9": {
      "model_module": "@jupyter-widgets/controls",
      "model_module_version": "2.0.0",
      "model_name": "ButtonStyleModel",
      "state": {
       "button_color": "white",
       "font_family": null,
       "font_size": null,
       "font_style": null,
       "font_variant": null,
       "font_weight": null,
       "text_color": null,
       "text_decoration": null
      }
     },
     "d63283d88d0646a69cfd67d8c32dc6ea": {
      "model_module": "@jupyter-widgets/base",
      "model_module_version": "2.0.0",
      "model_name": "LayoutModel",
      "state": {
       "width": "145px"
      }
     },
     "d63e104ade7949a1bc1764ece5d14976": {
      "model_module": "@jupyter-widgets/base",
      "model_module_version": "2.0.0",
      "model_name": "LayoutModel",
      "state": {
       "width": "190px"
      }
     },
     "d64c2b98ee454dd694995eeea4348301": {
      "model_module": "@jupyter-widgets/base",
      "model_module_version": "2.0.0",
      "model_name": "LayoutModel",
      "state": {
       "margin": "0px 5px 0px 0px",
       "width": "32px"
      }
     },
     "d6950305f1e9421f861087249c1c7255": {
      "model_module": "@jupyter-widgets/base",
      "model_module_version": "2.0.0",
      "model_name": "LayoutModel",
      "state": {
       "width": "190px"
      }
     },
     "d69712e1444740439b63a037f8794491": {
      "model_module": "@jupyter-widgets/controls",
      "model_module_version": "2.0.0",
      "model_name": "HTMLModel",
      "state": {
       "layout": "IPY_MODEL_e3159a9d2ca449969b338c9893145119",
       "style": "IPY_MODEL_d97d42b7929c49bcaa951d3597fbde36",
       "value": "ck26vjtp5gfcppg4fv50"
      }
     },
     "d6c5d982a3e547e49109aa9efcd01a61": {
      "model_module": "@jupyter-widgets/controls",
      "model_module_version": "2.0.0",
      "model_name": "HTMLModel",
      "state": {
       "layout": "IPY_MODEL_5fd3b895c14f4010b9b478c314ae323f",
       "style": "IPY_MODEL_475d0cd921af4c949ba03fc70c43b081",
       "value": "ck280g2dijuadepq5kp0"
      }
     },
     "d70186ff71704846ba217ceb8ab989d0": {
      "model_module": "@jupyter-widgets/controls",
      "model_module_version": "2.0.0",
      "model_name": "HTMLStyleModel",
      "state": {
       "description_width": "",
       "font_size": null,
       "text_color": null
      }
     },
     "d78925f0ef0c4788b17ad97f60501443": {
      "model_module": "@jupyter-widgets/controls",
      "model_module_version": "2.0.0",
      "model_name": "HTMLStyleModel",
      "state": {
       "description_width": "",
       "font_size": null,
       "text_color": null
      }
     },
     "d7cb069068804fb7a8c382d71e2474d1": {
      "model_module": "@jupyter-widgets/controls",
      "model_module_version": "2.0.0",
      "model_name": "HTMLStyleModel",
      "state": {
       "description_width": "",
       "font_size": null,
       "text_color": null
      }
     },
     "d8ae5419440d4f6a92748a9193970482": {
      "model_module": "@jupyter-widgets/controls",
      "model_module_version": "2.0.0",
      "model_name": "HTMLModel",
      "state": {
       "layout": "IPY_MODEL_5965be69a46943c6b3e8e07aa5eafb75",
       "style": "IPY_MODEL_2024d93abc9e42fab5e1fc9e566c6c7d",
       "value": "-"
      }
     },
     "d9431f65dd424862a5d2f6ef4d4809d7": {
      "model_module": "@jupyter-widgets/base",
      "model_module_version": "2.0.0",
      "model_name": "LayoutModel",
      "state": {
       "width": "190px"
      }
     },
     "d9463f129e5946ce9b67d4cbe3a2480b": {
      "model_module": "@jupyter-widgets/controls",
      "model_module_version": "2.0.0",
      "model_name": "HTMLModel",
      "state": {
       "layout": "IPY_MODEL_e893734156a346a8b73ae3e14350bcd9",
       "style": "IPY_MODEL_258142fe7fcf40fc949172a32c97202e",
       "value": "ibmq_kolkata"
      }
     },
     "d97d42b7929c49bcaa951d3597fbde36": {
      "model_module": "@jupyter-widgets/controls",
      "model_module_version": "2.0.0",
      "model_name": "HTMLStyleModel",
      "state": {
       "description_width": "",
       "font_size": null,
       "text_color": null
      }
     },
     "d9bb607a2fed48079a30fb1f853b8d8e": {
      "model_module": "@jupyter-widgets/base",
      "model_module_version": "2.0.0",
      "model_name": "LayoutModel",
      "state": {
       "margin": "0px 5px 0px 0px",
       "width": "32px"
      }
     },
     "da6e276480fc4ec3a51f498e2f5067fa": {
      "model_module": "@jupyter-widgets/controls",
      "model_module_version": "2.0.0",
      "model_name": "HTMLStyleModel",
      "state": {
       "description_width": "",
       "font_size": null,
       "text_color": null
      }
     },
     "dafb1b44ba914ca5a6effe11d98a83e7": {
      "model_module": "@jupyter-widgets/base",
      "model_module_version": "2.0.0",
      "model_name": "LayoutModel",
      "state": {
       "max_width": "700px",
       "min_width": "700px"
      }
     },
     "db1c976c71c144658ca62dc237a8500d": {
      "model_module": "@jupyter-widgets/controls",
      "model_module_version": "2.0.0",
      "model_name": "HTMLStyleModel",
      "state": {
       "description_width": "",
       "font_size": null,
       "text_color": null
      }
     },
     "db3791eb0f884673a65da8ce0c9a8bb6": {
      "model_module": "@jupyter-widgets/base",
      "model_module_version": "2.0.0",
      "model_name": "LayoutModel",
      "state": {
       "margin": "0px 5px 0px 0px",
       "width": "32px"
      }
     },
     "db54935d008e4d38b6ff4077e797ad18": {
      "model_module": "@jupyter-widgets/controls",
      "model_module_version": "2.0.0",
      "model_name": "HBoxModel",
      "state": {
       "children": [
        "IPY_MODEL_083979e7c9094281bc32593a8a7086c9",
        "IPY_MODEL_e5630e3a77364b39a387528a90b7690f",
        "IPY_MODEL_5266b0a7f1bc4d998414d199b45ed944",
        "IPY_MODEL_dc32fd08ed1b4d06b2e9174e35edd363",
        "IPY_MODEL_cd2b6974f01848ce9f1b5149a03d6dba",
        "IPY_MODEL_e1bc77b492844ecfa9fe560affb31a57"
       ],
       "layout": "IPY_MODEL_a7d8282c591d45b3adb3a866c25d248b"
      }
     },
     "dc1beb1994eb485791aff654fb97ebb5": {
      "model_module": "@jupyter-widgets/controls",
      "model_module_version": "2.0.0",
      "model_name": "HTMLStyleModel",
      "state": {
       "description_width": "",
       "font_size": null,
       "text_color": null
      }
     },
     "dc32e77259f54249ba964c99852c3237": {
      "model_module": "@jupyter-widgets/base",
      "model_module_version": "2.0.0",
      "model_name": "LayoutModel",
      "state": {
       "width": "190px"
      }
     },
     "dc32fd08ed1b4d06b2e9174e35edd363": {
      "model_module": "@jupyter-widgets/controls",
      "model_module_version": "2.0.0",
      "model_name": "HTMLModel",
      "state": {
       "layout": "IPY_MODEL_d332f2d6d49e4f99aeb7e16c5551a461",
       "style": "IPY_MODEL_d338a4225dc74220b2982245b0cf7409",
       "value": "<font style='color:#34BC6E'>DONE</font>"
      }
     },
     "dcf20818c8aa45d68ed48630c097f70e": {
      "model_module": "@jupyter-widgets/controls",
      "model_module_version": "2.0.0",
      "model_name": "HTMLModel",
      "state": {
       "layout": "IPY_MODEL_006c79102bc24b0da77c7a1bd804b4ae",
       "style": "IPY_MODEL_ee41fc97c3da42ac858b39606f67b960",
       "value": "job has successfully run"
      }
     },
     "dd91b1c543a34adaa67762de26e3e4e6": {
      "model_module": "@jupyter-widgets/base",
      "model_module_version": "2.0.0",
      "model_name": "LayoutModel",
      "state": {
       "width": "95px"
      }
     },
     "ddb1f93015754201b68a339d7637612f": {
      "model_module": "@jupyter-widgets/controls",
      "model_module_version": "2.0.0",
      "model_name": "HTMLModel",
      "state": {
       "layout": "IPY_MODEL_24ccc539a81b4188ba83fd2760da50af",
       "style": "IPY_MODEL_3167fe698ea04696a39e02f4f75252b8",
       "value": "-"
      }
     },
     "de1625e3c95a456191684f36fdfed000": {
      "model_module": "@jupyter-widgets/base",
      "model_module_version": "2.0.0",
      "model_name": "LayoutModel",
      "state": {
       "width": "95px"
      }
     },
     "de25ef1ba512452ea7375b9c53bbc50a": {
      "model_module": "@jupyter-widgets/base",
      "model_module_version": "2.0.0",
      "model_name": "LayoutModel",
      "state": {
       "width": "145px"
      }
     },
     "de5f851006b34104ba6d3892b833fb35": {
      "model_module": "@jupyter-widgets/controls",
      "model_module_version": "2.0.0",
      "model_name": "HTMLModel",
      "state": {
       "layout": "IPY_MODEL_d6950305f1e9421f861087249c1c7255",
       "style": "IPY_MODEL_074465951c85403cab535e8cc95df600",
       "value": "<h5>Job ID</h5>"
      }
     },
     "deedba1492924a1db41526a1a11e6024": {
      "model_module": "@jupyter-widgets/controls",
      "model_module_version": "2.0.0",
      "model_name": "HTMLStyleModel",
      "state": {
       "description_width": "",
       "font_size": null,
       "text_color": null
      }
     },
     "defcd7e8e26c4445a40cb30ec39f0695": {
      "model_module": "@jupyter-widgets/base",
      "model_module_version": "2.0.0",
      "model_name": "LayoutModel",
      "state": {
       "width": "95px"
      }
     },
     "df5d3a3407c243e2936c7b3f4b84fd14": {
      "model_module": "@jupyter-widgets/controls",
      "model_module_version": "2.0.0",
      "model_name": "HTMLModel",
      "state": {
       "layout": "IPY_MODEL_540eb42d085140c391d5b1988e029b3a",
       "style": "IPY_MODEL_8e9ad30180044e51805289001286f172",
       "value": "<font style='color:#34BC6E'>DONE</font>"
      }
     },
     "e1337799202f423b976c818b18d7c53d": {
      "model_module": "@jupyter-widgets/controls",
      "model_module_version": "2.0.0",
      "model_name": "HTMLStyleModel",
      "state": {
       "description_width": "",
       "font_size": null,
       "text_color": null
      }
     },
     "e1535c2b9abb4c3bb75e0b5c0ce02778": {
      "model_module": "@jupyter-widgets/controls",
      "model_module_version": "2.0.0",
      "model_name": "HTMLModel",
      "state": {
       "layout": "IPY_MODEL_429577e675944811ab140d6110f48502",
       "style": "IPY_MODEL_2be84e5418cf416d8431f8893a0c4850",
       "value": "-"
      }
     },
     "e17a80ba326e4ad3a20b0784fd1d7788": {
      "model_module": "@jupyter-widgets/base",
      "model_module_version": "2.0.0",
      "model_name": "LayoutModel",
      "state": {
       "width": "70px"
      }
     },
     "e1a8ccf771994f9182294b09c794c0c7": {
      "model_module": "@jupyter-widgets/controls",
      "model_module_version": "2.0.0",
      "model_name": "HTMLModel",
      "state": {
       "layout": "IPY_MODEL_47f4572a18054da699affd51fd737ba3",
       "style": "IPY_MODEL_9a984730f1304901ab60eff497c4c217",
       "value": "job has successfully run"
      }
     },
     "e1bc77b492844ecfa9fe560affb31a57": {
      "model_module": "@jupyter-widgets/controls",
      "model_module_version": "2.0.0",
      "model_name": "HTMLModel",
      "state": {
       "layout": "IPY_MODEL_a86e1e8e9cd94901b8df7a263024b9d4",
       "style": "IPY_MODEL_4708bebbfb634036958b488e6d6e4ac2",
       "value": "job has successfully run"
      }
     },
     "e24766f9dc4547c0b808e393a6a14223": {
      "model_module": "@jupyter-widgets/base",
      "model_module_version": "2.0.0",
      "model_name": "LayoutModel",
      "state": {}
     },
     "e2b193914f0241e29c33070972e394f3": {
      "model_module": "@jupyter-widgets/base",
      "model_module_version": "2.0.0",
      "model_name": "LayoutModel",
      "state": {
       "width": "190px"
      }
     },
     "e2ca2b0043484b39b4f2a77cc3c712fd": {
      "model_module": "@jupyter-widgets/controls",
      "model_module_version": "2.0.0",
      "model_name": "HTMLModel",
      "state": {
       "layout": "IPY_MODEL_60fc82326de742059183e90891ce8e4e",
       "style": "IPY_MODEL_936d9850e77d444abfa634854a45bb14",
       "value": "-"
      }
     },
     "e3159a9d2ca449969b338c9893145119": {
      "model_module": "@jupyter-widgets/base",
      "model_module_version": "2.0.0",
      "model_name": "LayoutModel",
      "state": {
       "width": "190px"
      }
     },
     "e33a0475c7db4befb9788597d3da4a6e": {
      "model_module": "@jupyter-widgets/base",
      "model_module_version": "2.0.0",
      "model_name": "LayoutModel",
      "state": {}
     },
     "e353e33deda64071a286ba34040b8a96": {
      "model_module": "@jupyter-widgets/controls",
      "model_module_version": "2.0.0",
      "model_name": "ButtonStyleModel",
      "state": {
       "button_color": "white",
       "font_family": null,
       "font_size": null,
       "font_style": null,
       "font_variant": null,
       "font_weight": null,
       "text_color": null,
       "text_decoration": null
      }
     },
     "e35945a96fd14d83b3941b8b07c80fd6": {
      "model_module": "@jupyter-widgets/base",
      "model_module_version": "2.0.0",
      "model_name": "LayoutModel",
      "state": {
       "width": "145px"
      }
     },
     "e39757b69d9d4916b018115bbf6afd3b": {
      "model_module": "@jupyter-widgets/controls",
      "model_module_version": "2.0.0",
      "model_name": "HTMLStyleModel",
      "state": {
       "description_width": "",
       "font_size": null,
       "text_color": null
      }
     },
     "e42f3301eb364fe48e8c5e8e834d1f71": {
      "model_module": "@jupyter-widgets/controls",
      "model_module_version": "2.0.0",
      "model_name": "HBoxModel",
      "state": {
       "children": [
        "IPY_MODEL_5647427137954446a243a93aac17b0c0",
        "IPY_MODEL_d6c5d982a3e547e49109aa9efcd01a61",
        "IPY_MODEL_8e1c30bb98a848d4ac836920d6ab9a9d",
        "IPY_MODEL_8c8cd3dc2b364950a7e918be43266edd",
        "IPY_MODEL_d8ae5419440d4f6a92748a9193970482",
        "IPY_MODEL_e8af4f5fc3ec4b10874828b43217e6e7"
       ],
       "layout": "IPY_MODEL_e53caf88b6cf4b8a9733c9c862578fa9"
      }
     },
     "e4b9b5dd28234179a7eae4057d2ac380": {
      "model_module": "@jupyter-widgets/controls",
      "model_module_version": "2.0.0",
      "model_name": "HBoxModel",
      "state": {
       "children": [
        "IPY_MODEL_26424370f817424baff9da94a62544bb",
        "IPY_MODEL_739417abb64a42cbbd16fac7a4d6e0a4",
        "IPY_MODEL_c73aa70cc49a4fea9b61bc72ab348e3d",
        "IPY_MODEL_f5d29c5db0c343e3bc3481627abfd18d",
        "IPY_MODEL_78d750d4254d41a6afb19e51937e7dbb",
        "IPY_MODEL_3293a389e653470981676a0364a6ea77"
       ],
       "layout": "IPY_MODEL_cdce4d72df5647b9b19f17ac0d9f8f78"
      }
     },
     "e53caf88b6cf4b8a9733c9c862578fa9": {
      "model_module": "@jupyter-widgets/base",
      "model_module_version": "2.0.0",
      "model_name": "LayoutModel",
      "state": {
       "max_width": "700px",
       "min_width": "700px"
      }
     },
     "e5630e3a77364b39a387528a90b7690f": {
      "model_module": "@jupyter-widgets/controls",
      "model_module_version": "2.0.0",
      "model_name": "HTMLModel",
      "state": {
       "layout": "IPY_MODEL_d047f9481bb44dc28e85563205448bf2",
       "style": "IPY_MODEL_741ef3635ed848518b9b7b695c63701f",
       "value": "ck27t5alnssf0d7kl0j0"
      }
     },
     "e582a246069a4ea0a7b0bca4b0393607": {
      "model_module": "@jupyter-widgets/controls",
      "model_module_version": "2.0.0",
      "model_name": "HTMLStyleModel",
      "state": {
       "description_width": "",
       "font_size": null,
       "text_color": null
      }
     },
     "e5863466ecdc47e1a05748a7f32f5bca": {
      "model_module": "@jupyter-widgets/controls",
      "model_module_version": "2.0.0",
      "model_name": "HTMLModel",
      "state": {
       "layout": "IPY_MODEL_6404bb9761dc4ddcba328eb88c99300c",
       "style": "IPY_MODEL_b404c9067140496fb73e84f44537de3f",
       "value": "ibmq_kolkata"
      }
     },
     "e60e8878bd4640dbbbc7576b817f8d13": {
      "model_module": "@jupyter-widgets/base",
      "model_module_version": "2.0.0",
      "model_name": "LayoutModel",
      "state": {
       "width": "95px"
      }
     },
     "e720ca5ec0734504bfc67882b8f2fa66": {
      "model_module": "@jupyter-widgets/controls",
      "model_module_version": "2.0.0",
      "model_name": "HBoxModel",
      "state": {
       "children": [
        "IPY_MODEL_68a7274432774ffdbe086744caf3de0f",
        "IPY_MODEL_5128f8e1d1114e28896e460c4598ab39",
        "IPY_MODEL_83cfd8a875c54fd9851c7cec85ec5f82",
        "IPY_MODEL_085b4ae276c043de8057cde92255f064",
        "IPY_MODEL_40477b68cfe44d68884469f02ef89cfb",
        "IPY_MODEL_0e9c45e2215b4fff8f734f3159818787"
       ],
       "layout": "IPY_MODEL_eb0f56c266844147a578d5db29fb6ee9"
      }
     },
     "e893734156a346a8b73ae3e14350bcd9": {
      "model_module": "@jupyter-widgets/base",
      "model_module_version": "2.0.0",
      "model_name": "LayoutModel",
      "state": {
       "width": "145px"
      }
     },
     "e8af4f5fc3ec4b10874828b43217e6e7": {
      "model_module": "@jupyter-widgets/controls",
      "model_module_version": "2.0.0",
      "model_name": "HTMLModel",
      "state": {
       "layout": "IPY_MODEL_b97932d79aac4d2dab5a2d05c3ed3c27",
       "style": "IPY_MODEL_6a8450c6478f477c901d52a6b73ea60f",
       "value": "job has successfully run"
      }
     },
     "e9ab711446264cc39cca707ffbfa1e69": {
      "model_module": "@jupyter-widgets/base",
      "model_module_version": "2.0.0",
      "model_name": "LayoutModel",
      "state": {}
     },
     "e9b710853ab6427e81fe917b3e8d11f9": {
      "model_module": "@jupyter-widgets/controls",
      "model_module_version": "2.0.0",
      "model_name": "HTMLStyleModel",
      "state": {
       "description_width": "",
       "font_size": null,
       "text_color": null
      }
     },
     "e9bfa4ce2b3848ab9221d75795137169": {
      "model_module": "@jupyter-widgets/controls",
      "model_module_version": "2.0.0",
      "model_name": "HTMLModel",
      "state": {
       "layout": "IPY_MODEL_dd91b1c543a34adaa67762de26e3e4e6",
       "style": "IPY_MODEL_c859d308dc694eea808a7dfd4f9d40ef",
       "value": "<font style='color:#34BC6E'>DONE</font>"
      }
     },
     "e9debbffdeab4191afdf08698dbd4960": {
      "model_module": "@jupyter-widgets/controls",
      "model_module_version": "2.0.0",
      "model_name": "HTMLModel",
      "state": {
       "layout": "IPY_MODEL_714a246d08fe4e8b98e8cff2e7480130",
       "style": "IPY_MODEL_543d82fc6dce4e1ab686fe5a7adb0a32",
       "value": "job has successfully run"
      }
     },
     "eb0f56c266844147a578d5db29fb6ee9": {
      "model_module": "@jupyter-widgets/base",
      "model_module_version": "2.0.0",
      "model_name": "LayoutModel",
      "state": {
       "max_width": "700px",
       "min_width": "700px"
      }
     },
     "eb2e219e1bc1476986c75568305f6198": {
      "model_module": "@jupyter-widgets/controls",
      "model_module_version": "2.0.0",
      "model_name": "HTMLStyleModel",
      "state": {
       "description_width": "",
       "font_size": null,
       "text_color": null
      }
     },
     "eb6ea7ab24024309872e9604ab76e9c6": {
      "model_module": "@jupyter-widgets/controls",
      "model_module_version": "2.0.0",
      "model_name": "HTMLStyleModel",
      "state": {
       "description_width": "",
       "font_size": null,
       "text_color": null
      }
     },
     "eb8bc5ed8f1440b2bee95bb7bf47cf6d": {
      "model_module": "@jupyter-widgets/controls",
      "model_module_version": "2.0.0",
      "model_name": "HTMLStyleModel",
      "state": {
       "description_width": "",
       "font_size": null,
       "text_color": null
      }
     },
     "ec51238753ba411fb71e36e21cad861d": {
      "model_module": "@jupyter-widgets/controls",
      "model_module_version": "2.0.0",
      "model_name": "HTMLModel",
      "state": {
       "layout": "IPY_MODEL_001c793b25834e7c8cb522c4ea4f84c5",
       "style": "IPY_MODEL_af0b39d088454f1abc95ea7db14c87ab",
       "value": "job has successfully run"
      }
     },
     "edba4abe27be4504bfec97c1ea790a32": {
      "model_module": "@jupyter-widgets/controls",
      "model_module_version": "2.0.0",
      "model_name": "HTMLStyleModel",
      "state": {
       "description_width": "",
       "font_size": null,
       "text_color": null
      }
     },
     "edc2bc2cd67542b1842122490e88f202": {
      "model_module": "@jupyter-widgets/controls",
      "model_module_version": "2.0.0",
      "model_name": "HTMLStyleModel",
      "state": {
       "description_width": "",
       "font_size": null,
       "text_color": null
      }
     },
     "ee41b28293554a36871183ff22fa0d38": {
      "model_module": "@jupyter-widgets/controls",
      "model_module_version": "2.0.0",
      "model_name": "HTMLStyleModel",
      "state": {
       "description_width": "",
       "font_size": null,
       "text_color": null
      }
     },
     "ee41fc97c3da42ac858b39606f67b960": {
      "model_module": "@jupyter-widgets/controls",
      "model_module_version": "2.0.0",
      "model_name": "HTMLStyleModel",
      "state": {
       "description_width": "",
       "font_size": null,
       "text_color": null
      }
     },
     "ef2794b9ffd84fe49cdf2805cd73daac": {
      "model_module": "@jupyter-widgets/controls",
      "model_module_version": "2.0.0",
      "model_name": "HTMLStyleModel",
      "state": {
       "description_width": "",
       "font_size": null,
       "text_color": null
      }
     },
     "ef34379ab311426699e3990daf309324": {
      "model_module": "@jupyter-widgets/controls",
      "model_module_version": "2.0.0",
      "model_name": "HTMLStyleModel",
      "state": {
       "description_width": "",
       "font_size": null,
       "text_color": null
      }
     },
     "f005eb34330943e59f1bf8d3918deb75": {
      "model_module": "@jupyter-widgets/controls",
      "model_module_version": "2.0.0",
      "model_name": "HTMLStyleModel",
      "state": {
       "description_width": "",
       "font_size": null,
       "text_color": null
      }
     },
     "f193d301a8814d82ad2e430387f92015": {
      "model_module": "@jupyter-widgets/base",
      "model_module_version": "2.0.0",
      "model_name": "LayoutModel",
      "state": {
       "max_width": "700px",
       "min_width": "700px"
      }
     },
     "f194859eb9f4482fb910d3a30b1fc5bb": {
      "model_module": "@jupyter-widgets/base",
      "model_module_version": "2.0.0",
      "model_name": "LayoutModel",
      "state": {
       "width": "190px"
      }
     },
     "f21d832af3844566815b588ca2c4a73e": {
      "model_module": "@jupyter-widgets/controls",
      "model_module_version": "2.0.0",
      "model_name": "HTMLModel",
      "state": {
       "layout": "IPY_MODEL_2719e0f35f7f4f4983ec2c1e6a84bb0b",
       "style": "IPY_MODEL_755236e5c0b14bd6b0385615d06641da",
       "value": "ck28e1d1r6vdfs04o4q0"
      }
     },
     "f249c3dc94b54eb9aca499f6977abfa7": {
      "model_module": "@jupyter-widgets/base",
      "model_module_version": "2.0.0",
      "model_name": "LayoutModel",
      "state": {
       "width": "95px"
      }
     },
     "f25ab1de1118482db49dc40031695b4a": {
      "model_module": "@jupyter-widgets/controls",
      "model_module_version": "2.0.0",
      "model_name": "ButtonModel",
      "state": {
       "icon": "close",
       "layout": "IPY_MODEL_8e96d97fc07942cfa041dcc543136d2e",
       "style": "IPY_MODEL_133587d7f60a444d853740e5308e77a1",
       "tooltip": null
      }
     },
     "f34ab978336147caa5d5e0da4f37560c": {
      "model_module": "@jupyter-widgets/controls",
      "model_module_version": "2.0.0",
      "model_name": "HTMLModel",
      "state": {
       "layout": "IPY_MODEL_b680fb2f34194c429076765964cff608",
       "style": "IPY_MODEL_a0e20e4b90fe495b85b7a5d623cda2ef",
       "value": "ck27plt1r6vdfs03191g"
      }
     },
     "f37b9b2644d942f8818f73558778ecf2": {
      "model_module": "@jupyter-widgets/base",
      "model_module_version": "2.0.0",
      "model_name": "LayoutModel",
      "state": {
       "width": "95px"
      }
     },
     "f41291457362463db0bf7787fc3fd703": {
      "model_module": "@jupyter-widgets/controls",
      "model_module_version": "2.0.0",
      "model_name": "HBoxModel",
      "state": {
       "children": [
        "IPY_MODEL_6d31f78a44504c7d8c2d4e3034d57b7d",
        "IPY_MODEL_f8fd27c51aa1405c916b0c8848758c75",
        "IPY_MODEL_7aee4eed2d434adfaa9428b92887b441",
        "IPY_MODEL_9211e9d4760e42729a5dcaee31cf555f",
        "IPY_MODEL_60dd84812e2b4feeba95bfea2b8a5867",
        "IPY_MODEL_7d8f61c4c695406abb3ddd876880d748"
       ],
       "layout": "IPY_MODEL_75e67c5e501e4ab6a1816327d5355a58"
      }
     },
     "f4d74e9e16034f758712557cd9270442": {
      "model_module": "@jupyter-widgets/controls",
      "model_module_version": "2.0.0",
      "model_name": "HTMLModel",
      "state": {
       "layout": "IPY_MODEL_defcd7e8e26c4445a40cb30ec39f0695",
       "style": "IPY_MODEL_8f6b01e814b047269b0f47134e78b45f",
       "value": "<h5>Status</h5>"
      }
     },
     "f4fe083e1c414d23a9715ed614acac58": {
      "model_module": "@jupyter-widgets/base",
      "model_module_version": "2.0.0",
      "model_name": "LayoutModel",
      "state": {
       "width": "70px"
      }
     },
     "f54ef8fd46f842378d3f5ca682ad54b0": {
      "model_module": "@jupyter-widgets/base",
      "model_module_version": "2.0.0",
      "model_name": "LayoutModel",
      "state": {
       "width": "190px"
      }
     },
     "f56a238ddfde4a63a50cf69db84a39a1": {
      "model_module": "@jupyter-widgets/controls",
      "model_module_version": "2.0.0",
      "model_name": "ButtonStyleModel",
      "state": {
       "button_color": "white",
       "font_family": null,
       "font_size": null,
       "font_style": null,
       "font_variant": null,
       "font_weight": null,
       "text_color": null,
       "text_decoration": null
      }
     },
     "f58928fe82244a4ea50f9be11c246ac7": {
      "model_module": "@jupyter-widgets/controls",
      "model_module_version": "2.0.0",
      "model_name": "HTMLModel",
      "state": {
       "layout": "IPY_MODEL_d1b140f797e74dbea646277aac6e4e5f",
       "style": "IPY_MODEL_ae2eb674bd744cff86ecc1f8d976978b",
       "value": "-"
      }
     },
     "f5d29c5db0c343e3bc3481627abfd18d": {
      "model_module": "@jupyter-widgets/controls",
      "model_module_version": "2.0.0",
      "model_name": "HTMLModel",
      "state": {
       "layout": "IPY_MODEL_816bc65798a24959b979c65d28030260",
       "style": "IPY_MODEL_4ad07ee24d3c400197b68c07606817ec",
       "value": "<font style='color:#34BC6E'>DONE</font>"
      }
     },
     "f5fa6a507d6c4292b555e227aecbd99d": {
      "model_module": "@jupyter-widgets/controls",
      "model_module_version": "2.0.0",
      "model_name": "ButtonModel",
      "state": {
       "icon": "close",
       "layout": "IPY_MODEL_0406fede93454200b88a4eb9712ebbcc",
       "style": "IPY_MODEL_3b3af7ee5b6a441f8426f6212af20f29",
       "tooltip": null
      }
     },
     "f730f3f425cf47f59e1319383d30d988": {
      "model_module": "@jupyter-widgets/base",
      "model_module_version": "2.0.0",
      "model_name": "LayoutModel",
      "state": {
       "width": "95px"
      }
     },
     "f767ed119e0e436f8885e49ddecda1b0": {
      "model_module": "@jupyter-widgets/controls",
      "model_module_version": "2.0.0",
      "model_name": "HTMLStyleModel",
      "state": {
       "description_width": "",
       "font_size": null,
       "text_color": null
      }
     },
     "f811aded831441e79943ffd56d38de50": {
      "model_module": "@jupyter-widgets/controls",
      "model_module_version": "2.0.0",
      "model_name": "HTMLStyleModel",
      "state": {
       "description_width": "",
       "font_size": null,
       "text_color": null
      }
     },
     "f84ebc299fa2419da4a45e8a118d57b8": {
      "model_module": "@jupyter-widgets/base",
      "model_module_version": "2.0.0",
      "model_name": "LayoutModel",
      "state": {
       "width": "190px"
      }
     },
     "f8f88687e23a47d69f33ae942038a1cf": {
      "model_module": "@jupyter-widgets/controls",
      "model_module_version": "2.0.0",
      "model_name": "HTMLStyleModel",
      "state": {
       "description_width": "",
       "font_size": null,
       "text_color": null
      }
     },
     "f8fbbcd5eb924a27b39be6740103d969": {
      "model_module": "@jupyter-widgets/controls",
      "model_module_version": "2.0.0",
      "model_name": "HTMLModel",
      "state": {
       "layout": "IPY_MODEL_54014963bee845108870c5a09e7cb0f0",
       "style": "IPY_MODEL_476fb326a40d43379b106a7242a11eb2",
       "value": "-"
      }
     },
     "f8fd27c51aa1405c916b0c8848758c75": {
      "model_module": "@jupyter-widgets/controls",
      "model_module_version": "2.0.0",
      "model_name": "HTMLModel",
      "state": {
       "layout": "IPY_MODEL_0c0ef576be724bafaf2bd3560f4c9e83",
       "style": "IPY_MODEL_2e810069d2fa4486b21a7db32114dcdf",
       "value": "ck27ubcai8c00cmub6r0"
      }
     },
     "f926cd0fa3d94f14a47cc7638c28b2d0": {
      "model_module": "@jupyter-widgets/controls",
      "model_module_version": "2.0.0",
      "model_name": "HTMLModel",
      "state": {
       "layout": "IPY_MODEL_38ec65c6c8ba444cb6a14ef25adb6e4e",
       "style": "IPY_MODEL_fb55390a6dc447d4ada833719632b2fb",
       "value": "ck287edp5gfcppg7ocg0"
      }
     },
     "f92a758b5bd54a1fbafda26cca64c162": {
      "model_module": "@jupyter-widgets/controls",
      "model_module_version": "2.0.0",
      "model_name": "ButtonModel",
      "state": {
       "icon": "close",
       "layout": "IPY_MODEL_5fd97c469eab41c2889b2e14a7c6dbe8",
       "style": "IPY_MODEL_02e77bf7eba14095bf9a6d6fc1e13066",
       "tooltip": null
      }
     },
     "f9b909ea29b14ba089a4e7bdb8e721d3": {
      "model_module": "@jupyter-widgets/controls",
      "model_module_version": "2.0.0",
      "model_name": "HTMLModel",
      "state": {
       "layout": "IPY_MODEL_06dfd35c2d95436f9b2c47bf441f5061",
       "style": "IPY_MODEL_eb6ea7ab24024309872e9604ab76e9c6",
       "value": "<p style='font-family: IBM Plex Sans, Arial, Helvetica, sans-serif; font-size: 20px; font-weight: medium;'>Circuit Properties</p>"
      }
     },
     "fb55390a6dc447d4ada833719632b2fb": {
      "model_module": "@jupyter-widgets/controls",
      "model_module_version": "2.0.0",
      "model_name": "HTMLStyleModel",
      "state": {
       "description_width": "",
       "font_size": null,
       "text_color": null
      }
     },
     "fc877a0948f94931974128f35c632e41": {
      "model_module": "@jupyter-widgets/controls",
      "model_module_version": "2.0.0",
      "model_name": "HTMLModel",
      "state": {
       "layout": "IPY_MODEL_978168d5f55047bf82539ccbbaf5b1ac",
       "style": "IPY_MODEL_c5324c937d5749a6a7bf475c07a16c53",
       "value": "<font style='color:#34BC6E'>DONE</font>"
      }
     },
     "fca4c2666471404c9e634d3b43a94a0a": {
      "model_module": "@jupyter-widgets/controls",
      "model_module_version": "2.0.0",
      "model_name": "HTMLModel",
      "state": {
       "layout": "IPY_MODEL_e17a80ba326e4ad3a20b0784fd1d7788",
       "style": "IPY_MODEL_a15f33ac55c44d61a8c3d428b61b169b",
       "value": "-"
      }
     },
     "fdf23547a1464d618cc6b1ae2ff54793": {
      "model_module": "@jupyter-widgets/controls",
      "model_module_version": "2.0.0",
      "model_name": "HTMLStyleModel",
      "state": {
       "description_width": "",
       "font_size": null,
       "text_color": null
      }
     },
     "feb68dc35e0440c39a765a6234d5cd84": {
      "model_module": "@jupyter-widgets/controls",
      "model_module_version": "2.0.0",
      "model_name": "HTMLModel",
      "state": {
       "layout": "IPY_MODEL_33904036dee4425a99998c359cd228f2",
       "style": "IPY_MODEL_4611533cdd4647daa9e8e9880a938dbe",
       "value": "-"
      }
     },
     "ff041662d71c4e6c9ff76903bb1b91e3": {
      "model_module": "@jupyter-widgets/controls",
      "model_module_version": "2.0.0",
      "model_name": "HTMLModel",
      "state": {
       "layout": "IPY_MODEL_cb0fc978a8e9459e819393cbbaf5dd61",
       "style": "IPY_MODEL_d2b02bddc21a4d378d69179f52f3f704",
       "value": "ibmq_kolkata"
      }
     }
    },
    "version_major": 2,
    "version_minor": 0
   }
  }
 },
 "nbformat": 4,
 "nbformat_minor": 5
}
