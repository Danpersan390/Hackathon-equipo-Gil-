{
 "cells": [
  {
   "cell_type": "code",
   "execution_count": 3,
   "id": "2510b962-61c2-4a98-b2c1-d3746a0f2cd1",
   "metadata": {
    "tags": []
   },
   "outputs": [
    {
     "name": "stderr",
     "output_type": "stream",
     "text": [
      "/tmp/ipykernel_952/2524890704.py:23: DeprecationWarning: ``qiskit.algorithms`` has been migrated to an independent package: https://github.com/qiskit-community/qiskit-algorithms. The ``qiskit.algorithms`` import path is deprecated as of qiskit-terra 0.25.0 and will be removed no earlier than 3 months after the release date. Please run ``pip install qiskit_algorithms`` and use ``import qiskit_algorithms`` instead.\n",
      "  from qiskit.algorithms.optimizers import SPSA\n"
     ]
    }
   ],
   "source": [
    "# Qiskit\n",
    "from qiskit import *\n",
    "from qiskit.visualization import plot_histogram\n",
    "from qiskit import IBMQ\n",
    "from qiskit_ibm_provider import IBMProvider\n",
    "#from qiskit.providers.ibmq import least_busy\n",
    "from qiskit.tools.monitor import job_monitor\n",
    "from qiskit import QuantumCircuit, transpile\n",
    "from qiskit.tools.jupyter import *\n",
    "from qiskit.visualization import *\n",
    "from qiskit_ibm_runtime import QiskitRuntimeService, Sampler, Estimator, Session, Options\n",
    "from qiskit import Aer, assemble\n",
    "from qiskit import IBMQ, execute\n",
    "from qiskit import QuantumCircuit, transpile\n",
    "from qiskit.tools.jupyter import *\n",
    "from qiskit.visualization import *\n",
    "import qiskit\n",
    "\n",
    "from qiskit_aer import AerSimulator\n",
    "from qiskit_ibm_runtime import QiskitRuntimeService #, Sampler, Estimator, Session, Options\n",
    "from qiskit_optimization import QuadraticProgram\n",
    "from qiskit.utils import algorithm_globals\n",
    "from qiskit.algorithms.optimizers import SPSA\n",
    "from qiskit.circuit.library import TwoLocal\n",
    "from qiskit.algorithms.minimum_eigensolvers import SamplingVQE\n",
    "from qiskit.primitives import Sampler\n",
    "\n",
    "# Loading your IBM Quantum account(s)\n",
    "#service = QiskitRuntimeService(channel=\"ibm_quantum\")\n",
    "\n",
    "from qiskit.primitives import Sampler\n",
    "from qiskit_optimization.algorithms import MinimumEigenOptimizer\n",
    "from qiskit_optimization.applications import Maxcut\n",
    "from qiskit_optimization.problems import QuadraticProgram\n",
    "from qiskit.algorithms.optimizers import SPSA\n",
    "from qiskit.circuit.library import TwoLocal\n",
    "from qiskit.algorithms.minimum_eigensolvers import SamplingVQE\n",
    "from qiskit_optimization.algorithms import MinimumEigenOptimizer\n",
    "from qiskit_optimization.applications import Tsp\n",
    "from qiskit_ibm_runtime import Sampler as SamplerRT\n",
    "from qiskit_ibm_runtime import Session\n",
    "from qiskit.algorithms.optimizers import COBYLA\n",
    "\n",
    "# Grafos\n",
    "\n",
    "import numpy as np\n",
    "import networkx as nx\n",
    "import matplotlib.pyplot as plt\n",
    "import matplotlib.axes as axes\n",
    "from itertools import combinations\n",
    "from sklearn.cluster import KMeans\n",
    "\n",
    "#Solver\n",
    "from qiskit import Aer, IBMQ\n",
    "from qiskit.utils import QuantumInstance\n",
    "from qiskit.algorithms import NumPyMinimumEigensolver\n",
    "from qiskit.algorithms.minimum_eigensolvers import QAOA\n",
    "#from qiskit.algorithms import QAOA\n",
    "from qiskit_optimization.algorithms import MinimumEigenOptimizer\n",
    "from qiskit_optimization import QuadraticProgram\n",
    "from qiskit.algorithms.optimizers import COBYLA"
   ]
  },
  {
   "cell_type": "code",
   "execution_count": 4,
   "id": "f5fc41fb-7345-4a4b-910a-337bf92cc312",
   "metadata": {
    "tags": []
   },
   "outputs": [],
   "source": [
    "def Generar_Grafo(Coord,high,low):\n",
    "    pos = {i: (coord_[0], coord_[1]) for i, coord_ in enumerate(Coord)}\n",
    "    graph = nx.random_geometric_graph(len(Coord[:,0]), np.hypot(high - low, high - low) + 1, pos=pos)\n",
    "    for w, v in graph.edges:\n",
    "        delta = [graph.nodes[w][\"pos\"][i] - graph.nodes[v][\"pos\"][i] for i in range(2)]\n",
    "        graph.edges[w, v][\"weight\"] = np.rint(np.hypot(delta[0], delta[1]))\n",
    "    return graph,pos\n",
    "\n",
    "def generate_coordinate_matrices(Num_Nodos, Limites_x, Limites_y, K):\n",
    "    # Generar coordenadas aleatorias de nodos\n",
    "    x_coord = np.random.uniform(Limites_x[0], Limites_x[-1], Num_Nodos)\n",
    "    y_coord = np.random.uniform(Limites_y[0], Limites_y[-1], Num_Nodos)\n",
    "\n",
    "    Distancia_Centro = np.sqrt((np.mean(x_coord) - x_coord) ** 2 + (np.mean(y_coord) - y_coord) ** 2)\n",
    "    Indice_min = np.argmin(Distancia_Centro)\n",
    "\n",
    "    Warehouse = np.array([x_coord[Indice_min], y_coord[Indice_min]])\n",
    "\n",
    "    x_coord = np.delete(x_coord, Indice_min)\n",
    "    y_coord = np.delete(y_coord, Indice_min)\n",
    "\n",
    "    # Calcular el centro de los clusters utilizando K-means\n",
    "    coordinates = np.array(list(zip(x_coord, y_coord)))\n",
    "    kmeans = KMeans(n_clusters=K)\n",
    "    kmeans.fit(coordinates)\n",
    "    cluster_labels = kmeans.labels_\n",
    "\n",
    "    # Inicializar una lista de matrices de coordenadas para cada cluster\n",
    "    coordinate_matrices = [np.vstack((Warehouse, coordinates[cluster_labels == i])) for i in range(K)]\n",
    "\n",
    "    return coordinate_matrices\n",
    "\n",
    "def draw_tsp_solution(G, order, colors, pos):\n",
    "    G2 = nx.DiGraph()\n",
    "    G2.add_nodes_from(G)\n",
    "    n = len(order)\n",
    "    for i in range(n):\n",
    "        j = (i + 1) % n\n",
    "        G2.add_edge(order[i], order[j], weight=G[order[i]][order[j]]['weight'])\n",
    "    default_axes = plt.axes(frameon=True)\n",
    "    nx.draw_networkx(G2, node_color=colors, edge_color='b', node_size=600, alpha=.8, ax=default_axes, pos=pos)\n",
    "    edge_labels = nx.get_edge_attributes(G2, 'weight')\n",
    "    nx.draw_networkx_edge_labels(G2, pos, font_color='b', edge_labels=edge_labels)"
   ]
  },
  {
   "cell_type": "code",
   "execution_count": 20,
   "id": "abfad68f-98d6-450b-86a7-3a9433f2800d",
   "metadata": {
    "tags": []
   },
   "outputs": [
    {
     "name": "stderr",
     "output_type": "stream",
     "text": [
      "/opt/conda/lib/python3.10/site-packages/sklearn/cluster/_kmeans.py:870: FutureWarning: The default value of `n_init` will change from 10 to 'auto' in 1.4. Set the value of `n_init` explicitly to suppress the warning\n",
      "  warnings.warn(\n"
     ]
    }
   ],
   "source": [
    "Num_Nodos = 7\n",
    "Limites_x = (-10, 10)\n",
    "Limites_y = (-10, 10)\n",
    "Camiones = 2  # Número de clusters para K-means\n",
    "\n",
    "# Generar las matrices de coordenadas para los camiones\n",
    "coordinate_matrices = generate_coordinate_matrices(Num_Nodos, Limites_x, Limites_y, Camiones)"
   ]
  },
  {
   "cell_type": "code",
   "execution_count": 21,
   "id": "bcd68f88-5edb-4dad-ac76-2d6079cd4ae7",
   "metadata": {
    "tags": []
   },
   "outputs": [
    {
     "data": {
      "image/png": "[encoded data removed]",
      "text/plain": [
       "<Figure size 640x480 with 1 Axes>"
      ]
     },
     "metadata": {},
     "output_type": "display_data"
    },
    {
     "name": "stdout",
     "output_type": "stream",
     "text": [
      "Problem name: TSP\n",
      "\n",
      "Minimize\n",
      "  8*x_0_0*x_1_1 + 8*x_0_0*x_1_3 + 5*x_0_0*x_2_1 + 5*x_0_0*x_2_3 + 6*x_0_0*x_3_1\n",
      "  + 6*x_0_0*x_3_3 + 8*x_0_1*x_1_0 + 8*x_0_1*x_1_2 + 5*x_0_1*x_2_0\n",
      "  + 5*x_0_1*x_2_2 + 6*x_0_1*x_3_0 + 6*x_0_1*x_3_2 + 8*x_0_2*x_1_1\n",
      "  + 8*x_0_2*x_1_3 + 5*x_0_2*x_2_1 + 5*x_0_2*x_2_3 + 6*x_0_2*x_3_1\n",
      "  + 6*x_0_2*x_3_3 + 8*x_0_3*x_1_0 + 8*x_0_3*x_1_2 + 5*x_0_3*x_2_0\n",
      "  + 5*x_0_3*x_2_2 + 6*x_0_3*x_3_0 + 6*x_0_3*x_3_2 + 10*x_1_0*x_2_1\n",
      "  + 10*x_1_0*x_2_3 + 7*x_1_0*x_3_1 + 7*x_1_0*x_3_3 + 10*x_1_1*x_2_0\n",
      "  + 10*x_1_1*x_2_2 + 7*x_1_1*x_3_0 + 7*x_1_1*x_3_2 + 10*x_1_2*x_2_1\n",
      "  + 10*x_1_2*x_2_3 + 7*x_1_2*x_3_1 + 7*x_1_2*x_3_3 + 10*x_1_3*x_2_0\n",
      "  + 10*x_1_3*x_2_2 + 7*x_1_3*x_3_0 + 7*x_1_3*x_3_2 + 3*x_2_0*x_3_1\n",
      "  + 3*x_2_0*x_3_3 + 3*x_2_1*x_3_0 + 3*x_2_1*x_3_2 + 3*x_2_2*x_3_1\n",
      "  + 3*x_2_2*x_3_3 + 3*x_2_3*x_3_0 + 3*x_2_3*x_3_2\n",
      "\n",
      "Subject to\n",
      "  Linear constraints (8)\n",
      "    x_0_0 + x_0_1 + x_0_2 + x_0_3 == 1  'c0'\n",
      "    x_1_0 + x_1_1 + x_1_2 + x_1_3 == 1  'c1'\n",
      "    x_2_0 + x_2_1 + x_2_2 + x_2_3 == 1  'c2'\n",
      "    x_3_0 + x_3_1 + x_3_2 + x_3_3 == 1  'c3'\n",
      "    x_0_0 + x_1_0 + x_2_0 + x_3_0 == 1  'c4'\n",
      "    x_0_1 + x_1_1 + x_2_1 + x_3_1 == 1  'c5'\n",
      "    x_0_2 + x_1_2 + x_2_2 + x_3_2 == 1  'c6'\n",
      "    x_0_3 + x_1_3 + x_2_3 + x_3_3 == 1  'c7'\n",
      "\n",
      "  Binary variables (16)\n",
      "    x_0_0 x_0_1 x_0_2 x_0_3 x_1_0 x_1_1 x_1_2 x_1_3 x_2_0 x_2_1 x_2_2 x_2_3\n",
      "    x_3_0 x_3_1 x_3_2 x_3_3\n",
      "\n"
     ]
    },
    {
     "data": {
      "image/png": "[encoded data removed]",
      "text/plain": [
       "<Figure size 640x480 with 1 Axes>"
      ]
     },
     "metadata": {},
     "output_type": "display_data"
    },
    {
     "name": "stdout",
     "output_type": "stream",
     "text": [
      "Problem name: TSP\n",
      "\n",
      "Minimize\n",
      "  7*x_0_0*x_1_1 + 7*x_0_0*x_1_3 + 10*x_0_0*x_2_1 + 10*x_0_0*x_2_3\n",
      "  + 6*x_0_0*x_3_1 + 6*x_0_0*x_3_3 + 7*x_0_1*x_1_0 + 7*x_0_1*x_1_2\n",
      "  + 10*x_0_1*x_2_0 + 10*x_0_1*x_2_2 + 6*x_0_1*x_3_0 + 6*x_0_1*x_3_2\n",
      "  + 7*x_0_2*x_1_1 + 7*x_0_2*x_1_3 + 10*x_0_2*x_2_1 + 10*x_0_2*x_2_3\n",
      "  + 6*x_0_2*x_3_1 + 6*x_0_2*x_3_3 + 7*x_0_3*x_1_0 + 7*x_0_3*x_1_2\n",
      "  + 10*x_0_3*x_2_0 + 10*x_0_3*x_2_2 + 6*x_0_3*x_3_0 + 6*x_0_3*x_3_2\n",
      "  + 8*x_1_0*x_2_1 + 8*x_1_0*x_2_3 + 3*x_1_0*x_3_1 + 3*x_1_0*x_3_3\n",
      "  + 8*x_1_1*x_2_0 + 8*x_1_1*x_2_2 + 3*x_1_1*x_3_0 + 3*x_1_1*x_3_2\n",
      "  + 8*x_1_2*x_2_1 + 8*x_1_2*x_2_3 + 3*x_1_2*x_3_1 + 3*x_1_2*x_3_3\n",
      "  + 8*x_1_3*x_2_0 + 8*x_1_3*x_2_2 + 3*x_1_3*x_3_0 + 3*x_1_3*x_3_2\n",
      "  + 6*x_2_0*x_3_1 + 6*x_2_0*x_3_3 + 6*x_2_1*x_3_0 + 6*x_2_1*x_3_2\n",
      "  + 6*x_2_2*x_3_1 + 6*x_2_2*x_3_3 + 6*x_2_3*x_3_0 + 6*x_2_3*x_3_2\n",
      "\n",
      "Subject to\n",
      "  Linear constraints (8)\n",
      "    x_0_0 + x_0_1 + x_0_2 + x_0_3 == 1  'c0'\n",
      "    x_1_0 + x_1_1 + x_1_2 + x_1_3 == 1  'c1'\n",
      "    x_2_0 + x_2_1 + x_2_2 + x_2_3 == 1  'c2'\n",
      "    x_3_0 + x_3_1 + x_3_2 + x_3_3 == 1  'c3'\n",
      "    x_0_0 + x_1_0 + x_2_0 + x_3_0 == 1  'c4'\n",
      "    x_0_1 + x_1_1 + x_2_1 + x_3_1 == 1  'c5'\n",
      "    x_0_2 + x_1_2 + x_2_2 + x_3_2 == 1  'c6'\n",
      "    x_0_3 + x_1_3 + x_2_3 + x_3_3 == 1  'c7'\n",
      "\n",
      "  Binary variables (16)\n",
      "    x_0_0 x_0_1 x_0_2 x_0_3 x_1_0 x_1_1 x_1_2 x_1_3 x_2_0 x_2_1 x_2_2 x_2_3\n",
      "    x_3_0 x_3_1 x_3_2 x_3_3\n",
      "\n"
     ]
    }
   ],
   "source": [
    "grafo1,pos1=Generar_Grafo(coordinate_matrices[0],10,-10)\n",
    "tsp1= Tsp(grafo1)\n",
    "nx.draw_networkx(grafo1,pos1,edge_color=\"red\",node_size=1,width=1)\n",
    "colors1 = ['r' for node in tsp1.graph.nodes]\n",
    "adj_matrix1 = nx.to_numpy_array(tsp1.graph)\n",
    "plt.show()\n",
    "qp1 = tsp1.to_quadratic_program()\n",
    "print(qp1.prettyprint())\n",
    "\n",
    "grafo2,pos2=Generar_Grafo(coordinate_matrices[1],10,-10)\n",
    "tsp2= Tsp(grafo2)\n",
    "nx.draw_networkx(grafo2,pos2,edge_color=\"blue\",node_size=1,width=1)\n",
    "colors2 = ['r' for node in tsp2.graph.nodes]\n",
    "adj_matrix2 = nx.to_numpy_array(tsp2.graph)\n",
    "plt.show()\n",
    "qp2 = tsp2.to_quadratic_program()\n",
    "print(qp2.prettyprint())"
   ]
  },
  {
   "cell_type": "code",
   "execution_count": 22,
   "id": "0cbbddb1-dd95-480d-bbba-759ff135f2b5",
   "metadata": {
    "tags": []
   },
   "outputs": [
    {
     "data": {
      "image/png": "[encoded data removed]",
      "text/plain": [
       "<Figure size 640x480 with 1 Axes>"
      ]
     },
     "metadata": {},
     "output_type": "display_data"
    }
   ],
   "source": [
    "nx.draw_networkx(grafo1,pos1,edge_color=\"red\",node_size=1,width=1)\n",
    "nx.draw_networkx(grafo2,pos2,edge_color=\"blue\",node_size=1,width=1)\n",
    "plt.show()"
   ]
  },
  {
   "cell_type": "code",
   "execution_count": 23,
   "id": "57b3d366-fd31-4631-909b-9a73b36a442b",
   "metadata": {
    "tags": []
   },
   "outputs": [
    {
     "name": "stdout",
     "output_type": "stream",
     "text": [
      "Resultado del primer grafo: fval=23.0, x_0_0=0.0, x_0_1=0.0, x_0_2=1.0, x_0_3=0.0, x_1_0=0.0, x_1_1=0.0, x_1_2=0.0, x_1_3=1.0, x_2_0=0.0, x_2_1=1.0, x_2_2=0.0, x_2_3=0.0, x_3_0=1.0, x_3_1=0.0, x_3_2=0.0, x_3_3=0.0, status=SUCCESS\n",
      "Resultado del segundo grafo: fval=26.0, x_0_0=0.0, x_0_1=0.0, x_0_2=1.0, x_0_3=0.0, x_1_0=0.0, x_1_1=0.0, x_1_2=0.0, x_1_3=1.0, x_2_0=0.0, x_2_1=1.0, x_2_2=0.0, x_2_3=0.0, x_3_0=1.0, x_3_1=0.0, x_3_2=0.0, x_3_3=0.0, status=SUCCESS\n"
     ]
    }
   ],
   "source": [
    "#quantum_instance = QuantumInstance(backend, shots=1000, seed_simulator=10598, seed_transpiler=10598)\n",
    "#qaoa_mes = QAOA(quantum_instance=quantum_instance)\n",
    "from qiskit.primitives import Sampler\n",
    "\n",
    "qaoa_mes = qiskit.algorithms.minimum_eigensolvers.QAOA(sampler=Sampler(),optimizer=COBYLA(maxiter=100))\n",
    "optimizer = MinimumEigenOptimizer(qaoa_mes)\n",
    "\n",
    "# Resolver el problema para cada grafo\n",
    "result1 = optimizer.solve(qp1)\n",
    "print(\"Resultado del primer grafo:\", result1)\n",
    "\n",
    "result2 = optimizer.solve(qp2)\n",
    "print(\"Resultado del segundo grafo:\", result2)"
   ]
  },
  {
   "cell_type": "code",
   "execution_count": 24,
   "id": "f2d6fe06-c8f2-4155-8489-e67283d30c9b",
   "metadata": {
    "tags": []
   },
   "outputs": [
    {
     "name": "stdout",
     "output_type": "stream",
     "text": [
      "solution: [3, 2, 0, 1]\n",
      "solution objective: 23.0\n"
     ]
    }
   ],
   "source": [
    "z1 = tsp1.interpret(result1.x)\n",
    "print('solution:', z1)\n",
    "print('solution objective:', tsp1.tsp_value(z1, adj_matrix1))"
   ]
  },
  {
   "cell_type": "code",
   "execution_count": 25,
   "id": "265eaa88-d3ae-4c58-b950-c49ebee59bc5",
   "metadata": {
    "tags": []
   },
   "outputs": [
    {
     "data": {
      "image/png": "[encoded data removed]",
      "text/plain": [
       "<Figure size 640x480 with 1 Axes>"
      ]
     },
     "metadata": {},
     "output_type": "display_data"
    }
   ],
   "source": [
    "draw_tsp_solution(tsp1.graph, z1, colors1, pos1)"
   ]
  },
  {
   "cell_type": "code",
   "execution_count": 26,
   "id": "c3d165ff-68d8-4e29-b019-ba458464c0a5",
   "metadata": {
    "tags": []
   },
   "outputs": [
    {
     "name": "stdout",
     "output_type": "stream",
     "text": [
      "solution: [3, 2, 0, 1]\n",
      "solution objective: 26.0\n"
     ]
    }
   ],
   "source": [
    "z2 = tsp1.interpret(result2.x)\n",
    "print('solution:', z2)\n",
    "print('solution objective:', tsp2.tsp_value(z2, adj_matrix2))"
   ]
  },
  {
   "cell_type": "code",
   "execution_count": 27,
   "id": "9eb81213-f748-4cc2-a008-1b35a0cec4c1",
   "metadata": {
    "tags": []
   },
   "outputs": [
    {
     "data": {
      "image/png": "[encoded data removed]",
      "text/plain": [
       "<Figure size 640x480 with 1 Axes>"
      ]
     },
     "metadata": {},
     "output_type": "display_data"
    }
   ],
   "source": [
    "draw_tsp_solution(tsp2.graph, z2, colors2, pos2)"
   ]
  },
  {
   "cell_type": "code",
   "execution_count": null,
   "id": "dd17531f-8a9e-439b-9a0d-4b612c0fc9a8",
   "metadata": {},
   "outputs": [],
   "source": []
  }
 ],
 "metadata": {
  "kernelspec": {
   "display_name": "Python 3 (ipykernel)",
   "language": "python",
   "name": "python3"
  },
  "language_info": {
   "codemirror_mode": {
    "name": "ipython",
    "version": 3
   },
   "file_extension": ".py",
   "mimetype": "text/x-python",
   "name": "python",
   "nbconvert_exporter": "python",
   "pygments_lexer": "ipython3",
   "version": "3.10.8"
  },
  "widgets": {
   "application/vnd.jupyter.widget-state+json": {
    "state": {
     "009e9d94240f436caaabcab7e96a0a22": {
      "model_module": "@jupyter-widgets/controls",
      "model_module_version": "2.0.0",
      "model_name": "HBoxModel",
      "state": {
       "children": [
        "IPY_MODEL_e4c00b63cf094d38917f5bc61390ca55",
        "IPY_MODEL_c53c9eb95b7c450795804f3c77fb55c6",
        "IPY_MODEL_b636750c26a446429fcb9527ce15528a",
        "IPY_MODEL_bc513f2ce91848248961635011dcc57d",
        "IPY_MODEL_d40634b4ef4f47c78c3032c589cada68"
       ],
       "layout": "IPY_MODEL_77d75f786fe34ac4a776ff3f5f5c2c26"
      }
     },
     "059f5b4b50f44e118267078b955dd1c4": {
      "model_module": "@jupyter-widgets/controls",
      "model_module_version": "2.0.0",
      "model_name": "HTMLModel",
      "state": {
       "layout": "IPY_MODEL_82c922dd63264e4dac8bafb616c63925",
       "style": "IPY_MODEL_ced3115c0106427d9f6cc52e22911033",
       "value": "<h5>Job ID</h5>"
      }
     },
     "06481d600439429dacfec67fdc35b7e7": {
      "model_module": "@jupyter-widgets/base",
      "model_module_version": "2.0.0",
      "model_name": "LayoutModel",
      "state": {
       "width": "95px"
      }
     },
     "07e14cb15458424b9b1b7bd325e4e0a4": {
      "model_module": "@jupyter-widgets/base",
      "model_module_version": "2.0.0",
      "model_name": "LayoutModel",
      "state": {
       "grid_template_areas": "\n                                       \". . . . right \"\n                                        ",
       "grid_template_columns": "20% 20% 20% 20% 20%",
       "width": "100%"
      }
     },
     "09dfd80bdfd94311b31fac43c12d72f6": {
      "model_module": "@jupyter-widgets/controls",
      "model_module_version": "2.0.0",
      "model_name": "HTMLStyleModel",
      "state": {
       "description_width": "",
       "font_size": null,
       "text_color": null
      }
     },
     "10860fd9d2554e04a98878dc2d3f8e3d": {
      "model_module": "@jupyter-widgets/controls",
      "model_module_version": "2.0.0",
      "model_name": "HTMLStyleModel",
      "state": {
       "description_width": "",
       "font_size": null,
       "text_color": null
      }
     },
     "1684c3a0014b4d1691d873c548e59bab": {
      "model_module": "@jupyter-widgets/controls",
      "model_module_version": "2.0.0",
      "model_name": "HTMLModel",
      "state": {
       "layout": "IPY_MODEL_373175b137604a6c862c3267ce7f56eb",
       "style": "IPY_MODEL_39c2c601407c44d39dbb7d413920ba1d",
       "value": "<p style='font-family: IBM Plex Sans, Arial, Helvetica, sans-serif; font-size: 20px; font-weight: medium;'>Circuit Properties</p>"
      }
     },
     "1d1a98c9923e477487614b4824f2eb09": {
      "model_module": "@jupyter-widgets/base",
      "model_module_version": "2.0.0",
      "model_name": "LayoutModel",
      "state": {
       "grid_area": "right",
       "padding": "0px 0px 0px 0px",
       "width": "70px"
      }
     },
     "2803cf001ab14f309124b1efab5f75d7": {
      "model_module": "@jupyter-widgets/base",
      "model_module_version": "2.0.0",
      "model_name": "LayoutModel",
      "state": {
       "width": "70px"
      }
     },
     "28e7b341cf8c4a56acd493e6627eb21e": {
      "model_module": "@jupyter-widgets/base",
      "model_module_version": "2.0.0",
      "model_name": "LayoutModel",
      "state": {
       "width": "95px"
      }
     },
     "2e334890323d4b2bbb230e2a05ab7251": {
      "model_module": "@jupyter-widgets/base",
      "model_module_version": "2.0.0",
      "model_name": "LayoutModel",
      "state": {}
     },
     "34c5205c19c0405d9bbfea615801d42d": {
      "model_module": "@jupyter-widgets/controls",
      "model_module_version": "2.0.0",
      "model_name": "HTMLStyleModel",
      "state": {
       "description_width": "",
       "font_size": null,
       "text_color": null
      }
     },
     "373175b137604a6c862c3267ce7f56eb": {
      "model_module": "@jupyter-widgets/base",
      "model_module_version": "2.0.0",
      "model_name": "LayoutModel",
      "state": {
       "margin": "0px 0px 10px 0px"
      }
     },
     "39c2c601407c44d39dbb7d413920ba1d": {
      "model_module": "@jupyter-widgets/controls",
      "model_module_version": "2.0.0",
      "model_name": "HTMLStyleModel",
      "state": {
       "description_width": "",
       "font_size": null,
       "text_color": null
      }
     },
     "3e6d0b55a7fc4c01868fe3713778e2dc": {
      "model_module": "@jupyter-widgets/base",
      "model_module_version": "2.0.0",
      "model_name": "LayoutModel",
      "state": {
       "margin": "0px 0px 0px 37px",
       "width": "600px"
      }
     },
     "416caf7649ee41edba4a7d9e6dd5307e": {
      "model_module": "@jupyter-widgets/controls",
      "model_module_version": "2.0.0",
      "model_name": "HTMLStyleModel",
      "state": {
       "description_width": "",
       "font_size": null,
       "text_color": null
      }
     },
     "423431ca868044b98ab0efd3b31930e4": {
      "model_module": "@jupyter-widgets/controls",
      "model_module_version": "2.0.0",
      "model_name": "HTMLStyleModel",
      "state": {
       "description_width": "",
       "font_size": null,
       "text_color": null
      }
     },
     "42d53d728f864fd2b5f0997b8bf893e0": {
      "model_module": "@jupyter-widgets/base",
      "model_module_version": "2.0.0",
      "model_name": "LayoutModel",
      "state": {
       "width": "145px"
      }
     },
     "5d984633a2024c97880afe37a6cd4bfb": {
      "model_module": "@jupyter-widgets/controls",
      "model_module_version": "2.0.0",
      "model_name": "HTMLStyleModel",
      "state": {
       "description_width": "",
       "font_size": null,
       "text_color": null
      }
     },
     "63dd50d86e594c62a942f623d2a75265": {
      "model_module": "@jupyter-widgets/controls",
      "model_module_version": "2.0.0",
      "model_name": "ButtonModel",
      "state": {
       "button_style": "primary",
       "description": "Clear",
       "layout": "IPY_MODEL_bb9e673c5f0e4caabda387f3dd66d49a",
       "style": "IPY_MODEL_f77b648f910a407c8b213d50f68891b9",
       "tooltip": null
      }
     },
     "68231c54dc4a4668827a5e6a661075e5": {
      "model_module": "@jupyter-widgets/base",
      "model_module_version": "2.0.0",
      "model_name": "LayoutModel",
      "state": {
       "margin": "0px 0px 0px 37px",
       "width": "600px"
      }
     },
     "70004ee660d14efd9beda780cb45d8e0": {
      "model_module": "@jupyter-widgets/controls",
      "model_module_version": "2.0.0",
      "model_name": "HTMLModel",
      "state": {
       "layout": "IPY_MODEL_d82e26c7701e4b5e8170237dd1a3c0b6",
       "style": "IPY_MODEL_b93a75d009644000913f15cc9aafd3a9",
       "value": "<p style='font-family: IBM Plex Sans, Arial, Helvetica, sans-serif; font-size: 20px; font-weight: medium;'>Circuit Properties</p>"
      }
     },
     "70e8c50521244a4780d3021402a69723": {
      "model_module": "@jupyter-widgets/base",
      "model_module_version": "2.0.0",
      "model_name": "LayoutModel",
      "state": {
       "width": "145px"
      }
     },
     "77d75f786fe34ac4a776ff3f5f5c2c26": {
      "model_module": "@jupyter-widgets/base",
      "model_module_version": "2.0.0",
      "model_name": "LayoutModel",
      "state": {
       "margin": "0px 0px 0px 37px",
       "width": "600px"
      }
     },
     "7e0993f2b3bb462699e144ef6114aa1d": {
      "model_module": "@jupyter-widgets/controls",
      "model_module_version": "2.0.0",
      "model_name": "HTMLStyleModel",
      "state": {
       "description_width": "",
       "font_size": null,
       "text_color": null
      }
     },
     "80cc4909f56d4db9ba5e0aca94d078b1": {
      "model_module": "@jupyter-widgets/controls",
      "model_module_version": "2.0.0",
      "model_name": "ButtonStyleModel",
      "state": {
       "font_family": null,
       "font_size": null,
       "font_style": null,
       "font_variant": null,
       "font_weight": null,
       "text_color": null,
       "text_decoration": null
      }
     },
     "82c922dd63264e4dac8bafb616c63925": {
      "model_module": "@jupyter-widgets/base",
      "model_module_version": "2.0.0",
      "model_name": "LayoutModel",
      "state": {
       "width": "190px"
      }
     },
     "83f60a246eeb480d972fbbf1767afc0d": {
      "model_module": "@jupyter-widgets/base",
      "model_module_version": "2.0.0",
      "model_name": "LayoutModel",
      "state": {
       "width": "190px"
      }
     },
     "8978e3e1d669417287810bd481c8984f": {
      "model_module": "@jupyter-widgets/controls",
      "model_module_version": "2.0.0",
      "model_name": "ButtonModel",
      "state": {
       "button_style": "primary",
       "description": "Clear",
       "layout": "IPY_MODEL_1d1a98c9923e477487614b4824f2eb09",
       "style": "IPY_MODEL_b4683dfc6e894b599d90db234a810f01",
       "tooltip": null
      }
     },
     "8d1ef3111e5a4822bd1bcbf490492e4a": {
      "model_module": "@jupyter-widgets/base",
      "model_module_version": "2.0.0",
      "model_name": "LayoutModel",
      "state": {
       "width": "70px"
      }
     },
     "8d795bc1232f48edbd869ca6b1a56e01": {
      "model_module": "@jupyter-widgets/base",
      "model_module_version": "2.0.0",
      "model_name": "LayoutModel",
      "state": {}
     },
     "92f354e87171475c98071e3a4dcf891b": {
      "model_module": "@jupyter-widgets/controls",
      "model_module_version": "2.0.0",
      "model_name": "HTMLModel",
      "state": {
       "layout": "IPY_MODEL_bbc22deae931495ab9605fc1f33f9cfa",
       "style": "IPY_MODEL_423431ca868044b98ab0efd3b31930e4",
       "value": "<h5>Message</h5>"
      }
     },
     "95034682ea834884b567d2e20373f5c2": {
      "model_module": "@jupyter-widgets/controls",
      "model_module_version": "2.0.0",
      "model_name": "HTMLStyleModel",
      "state": {
       "description_width": "",
       "font_size": null,
       "text_color": null
      }
     },
     "95a9946b37bb4c21940723a23f0c5c8d": {
      "model_module": "@jupyter-widgets/controls",
      "model_module_version": "2.0.0",
      "model_name": "HTMLModel",
      "state": {
       "layout": "IPY_MODEL_a38a6c6f150e4b3b809361d847a8023b",
       "style": "IPY_MODEL_cd87133692ca4802beaa227f73474d0c",
       "value": "<p style='font-family: IBM Plex Sans, Arial, Helvetica, sans-serif; font-size: 20px; font-weight: medium;'>Circuit Properties</p>"
      }
     },
     "98c4a5313aa24f2291390c3a62bd20fc": {
      "model_module": "@jupyter-widgets/controls",
      "model_module_version": "2.0.0",
      "model_name": "GridBoxModel",
      "state": {
       "children": [
        "IPY_MODEL_8978e3e1d669417287810bd481c8984f"
       ],
       "layout": "IPY_MODEL_ec5ccb2bab354ee9ac6ff709471a6b6e"
      }
     },
     "a0903a6d35944db69837d0e08fe78471": {
      "model_module": "@jupyter-widgets/controls",
      "model_module_version": "2.0.0",
      "model_name": "HTMLStyleModel",
      "state": {
       "description_width": "",
       "font_size": null,
       "text_color": null
      }
     },
     "a38a6c6f150e4b3b809361d847a8023b": {
      "model_module": "@jupyter-widgets/base",
      "model_module_version": "2.0.0",
      "model_name": "LayoutModel",
      "state": {
       "margin": "0px 0px 10px 0px"
      }
     },
     "a75b4645e775480c924c54d0056244d9": {
      "model_module": "@jupyter-widgets/base",
      "model_module_version": "2.0.0",
      "model_name": "LayoutModel",
      "state": {
       "width": "190px"
      }
     },
     "a8129aa54e6b43aba2d9b323f8baed4f": {
      "model_module": "@jupyter-widgets/controls",
      "model_module_version": "2.0.0",
      "model_name": "HTMLStyleModel",
      "state": {
       "description_width": "",
       "font_size": null,
       "text_color": null
      }
     },
     "acea9962ab494201ac70cc9e2b2bfe7c": {
      "model_module": "@jupyter-widgets/controls",
      "model_module_version": "2.0.0",
      "model_name": "HTMLModel",
      "state": {
       "layout": "IPY_MODEL_06481d600439429dacfec67fdc35b7e7",
       "style": "IPY_MODEL_b2e5b0841dfd424b80fc718c52acd8e2",
       "value": "<h5>Status</h5>"
      }
     },
     "b2e5b0841dfd424b80fc718c52acd8e2": {
      "model_module": "@jupyter-widgets/controls",
      "model_module_version": "2.0.0",
      "model_name": "HTMLStyleModel",
      "state": {
       "description_width": "",
       "font_size": null,
       "text_color": null
      }
     },
     "b4683dfc6e894b599d90db234a810f01": {
      "model_module": "@jupyter-widgets/controls",
      "model_module_version": "2.0.0",
      "model_name": "ButtonStyleModel",
      "state": {
       "font_family": null,
       "font_size": null,
       "font_style": null,
       "font_variant": null,
       "font_weight": null,
       "text_color": null,
       "text_decoration": null
      }
     },
     "b636750c26a446429fcb9527ce15528a": {
      "model_module": "@jupyter-widgets/controls",
      "model_module_version": "2.0.0",
      "model_name": "HTMLModel",
      "state": {
       "layout": "IPY_MODEL_c14f3cd6bd874ab1a3877688934c2e9c",
       "style": "IPY_MODEL_34c5205c19c0405d9bbfea615801d42d",
       "value": "<h5>Status</h5>"
      }
     },
     "b670d08c5af440da8c25fe904e063c45": {
      "model_module": "@jupyter-widgets/controls",
      "model_module_version": "2.0.0",
      "model_name": "GridBoxModel",
      "state": {
       "children": [
        "IPY_MODEL_ba4655f910884128af1bc0772ef595f4"
       ],
       "layout": "IPY_MODEL_c97f588d3aa14d9e8a80b2fa935fee80"
      }
     },
     "b93a75d009644000913f15cc9aafd3a9": {
      "model_module": "@jupyter-widgets/controls",
      "model_module_version": "2.0.0",
      "model_name": "HTMLStyleModel",
      "state": {
       "description_width": "",
       "font_size": null,
       "text_color": null
      }
     },
     "ba4655f910884128af1bc0772ef595f4": {
      "model_module": "@jupyter-widgets/controls",
      "model_module_version": "2.0.0",
      "model_name": "ButtonModel",
      "state": {
       "button_style": "primary",
       "description": "Clear",
       "layout": "IPY_MODEL_cd3e41d228a049da93c6c9bbba642029",
       "style": "IPY_MODEL_80cc4909f56d4db9ba5e0aca94d078b1",
       "tooltip": null
      }
     },
     "bb9e673c5f0e4caabda387f3dd66d49a": {
      "model_module": "@jupyter-widgets/base",
      "model_module_version": "2.0.0",
      "model_name": "LayoutModel",
      "state": {
       "grid_area": "right",
       "padding": "0px 0px 0px 0px",
       "width": "70px"
      }
     },
     "bbc22deae931495ab9605fc1f33f9cfa": {
      "model_module": "@jupyter-widgets/base",
      "model_module_version": "2.0.0",
      "model_name": "LayoutModel",
      "state": {}
     },
     "bc513f2ce91848248961635011dcc57d": {
      "model_module": "@jupyter-widgets/controls",
      "model_module_version": "2.0.0",
      "model_name": "HTMLModel",
      "state": {
       "layout": "IPY_MODEL_e898b2707f444672ab2d699a5bc69a93",
       "style": "IPY_MODEL_cdbe1c6377b64287aa9658db4cf6ddde",
       "value": "<h5>Queue</h5>"
      }
     },
     "bf5b9bd99ed54103a63632141aa69ec9": {
      "model_module": "@jupyter-widgets/controls",
      "model_module_version": "2.0.0",
      "model_name": "HBoxModel",
      "state": {
       "children": [
        "IPY_MODEL_e5d1cf0738354e2ea00db2fe10e86f44",
        "IPY_MODEL_c536607be3c64687a019eb03cd8999ce",
        "IPY_MODEL_acea9962ab494201ac70cc9e2b2bfe7c",
        "IPY_MODEL_d23bcc8397e340eebb3d3b75eaf52d35",
        "IPY_MODEL_effbe9930e744e24a9e2733e975057e2"
       ],
       "layout": "IPY_MODEL_68231c54dc4a4668827a5e6a661075e5"
      }
     },
     "c14f3cd6bd874ab1a3877688934c2e9c": {
      "model_module": "@jupyter-widgets/base",
      "model_module_version": "2.0.0",
      "model_name": "LayoutModel",
      "state": {
       "width": "95px"
      }
     },
     "c536607be3c64687a019eb03cd8999ce": {
      "model_module": "@jupyter-widgets/controls",
      "model_module_version": "2.0.0",
      "model_name": "HTMLModel",
      "state": {
       "layout": "IPY_MODEL_70e8c50521244a4780d3021402a69723",
       "style": "IPY_MODEL_ed447e6a2aa542bbb38b0f67ef0124df",
       "value": "<h5>Backend</h5>"
      }
     },
     "c53c9eb95b7c450795804f3c77fb55c6": {
      "model_module": "@jupyter-widgets/controls",
      "model_module_version": "2.0.0",
      "model_name": "HTMLModel",
      "state": {
       "layout": "IPY_MODEL_d0600c97c2ed4cadaef5ceda2feef716",
       "style": "IPY_MODEL_09dfd80bdfd94311b31fac43c12d72f6",
       "value": "<h5>Backend</h5>"
      }
     },
     "c97f588d3aa14d9e8a80b2fa935fee80": {
      "model_module": "@jupyter-widgets/base",
      "model_module_version": "2.0.0",
      "model_name": "LayoutModel",
      "state": {
       "grid_template_areas": "\n                                       \". . . . right \"\n                                        ",
       "grid_template_columns": "20% 20% 20% 20% 20%",
       "width": "100%"
      }
     },
     "cd3e41d228a049da93c6c9bbba642029": {
      "model_module": "@jupyter-widgets/base",
      "model_module_version": "2.0.0",
      "model_name": "LayoutModel",
      "state": {
       "grid_area": "right",
       "padding": "0px 0px 0px 0px",
       "width": "70px"
      }
     },
     "cd87133692ca4802beaa227f73474d0c": {
      "model_module": "@jupyter-widgets/controls",
      "model_module_version": "2.0.0",
      "model_name": "HTMLStyleModel",
      "state": {
       "description_width": "",
       "font_size": null,
       "text_color": null
      }
     },
     "cdb812b8080a4aff96a0b221f8ee8f00": {
      "model_module": "@jupyter-widgets/controls",
      "model_module_version": "2.0.0",
      "model_name": "HTMLModel",
      "state": {
       "layout": "IPY_MODEL_2803cf001ab14f309124b1efab5f75d7",
       "style": "IPY_MODEL_e5dfd73ec887473086d43116d0b04a7c",
       "value": "<h5>Queue</h5>"
      }
     },
     "cdbe1c6377b64287aa9658db4cf6ddde": {
      "model_module": "@jupyter-widgets/controls",
      "model_module_version": "2.0.0",
      "model_name": "HTMLStyleModel",
      "state": {
       "description_width": "",
       "font_size": null,
       "text_color": null
      }
     },
     "ced3115c0106427d9f6cc52e22911033": {
      "model_module": "@jupyter-widgets/controls",
      "model_module_version": "2.0.0",
      "model_name": "HTMLStyleModel",
      "state": {
       "description_width": "",
       "font_size": null,
       "text_color": null
      }
     },
     "d0600c97c2ed4cadaef5ceda2feef716": {
      "model_module": "@jupyter-widgets/base",
      "model_module_version": "2.0.0",
      "model_name": "LayoutModel",
      "state": {
       "width": "145px"
      }
     },
     "d23bcc8397e340eebb3d3b75eaf52d35": {
      "model_module": "@jupyter-widgets/controls",
      "model_module_version": "2.0.0",
      "model_name": "HTMLModel",
      "state": {
       "layout": "IPY_MODEL_8d1ef3111e5a4822bd1bcbf490492e4a",
       "style": "IPY_MODEL_a0903a6d35944db69837d0e08fe78471",
       "value": "<h5>Queue</h5>"
      }
     },
     "d40634b4ef4f47c78c3032c589cada68": {
      "model_module": "@jupyter-widgets/controls",
      "model_module_version": "2.0.0",
      "model_name": "HTMLModel",
      "state": {
       "layout": "IPY_MODEL_8d795bc1232f48edbd869ca6b1a56e01",
       "style": "IPY_MODEL_10860fd9d2554e04a98878dc2d3f8e3d",
       "value": "<h5>Message</h5>"
      }
     },
     "d42ef19491b5479bb2940df0452aef46": {
      "model_module": "@jupyter-widgets/controls",
      "model_module_version": "2.0.0",
      "model_name": "HBoxModel",
      "state": {
       "children": [
        "IPY_MODEL_059f5b4b50f44e118267078b955dd1c4",
        "IPY_MODEL_dc51dbbece6a443fb77cbdb246d307fa",
        "IPY_MODEL_fa2453112ed84fa7b19ce6a7dc1ca819",
        "IPY_MODEL_cdb812b8080a4aff96a0b221f8ee8f00",
        "IPY_MODEL_92f354e87171475c98071e3a4dcf891b"
       ],
       "layout": "IPY_MODEL_3e6d0b55a7fc4c01868fe3713778e2dc"
      }
     },
     "d82e26c7701e4b5e8170237dd1a3c0b6": {
      "model_module": "@jupyter-widgets/base",
      "model_module_version": "2.0.0",
      "model_name": "LayoutModel",
      "state": {
       "margin": "0px 0px 10px 0px"
      }
     },
     "dc51dbbece6a443fb77cbdb246d307fa": {
      "model_module": "@jupyter-widgets/controls",
      "model_module_version": "2.0.0",
      "model_name": "HTMLModel",
      "state": {
       "layout": "IPY_MODEL_42d53d728f864fd2b5f0997b8bf893e0",
       "style": "IPY_MODEL_95034682ea834884b567d2e20373f5c2",
       "value": "<h5>Backend</h5>"
      }
     },
     "e4c00b63cf094d38917f5bc61390ca55": {
      "model_module": "@jupyter-widgets/controls",
      "model_module_version": "2.0.0",
      "model_name": "HTMLModel",
      "state": {
       "layout": "IPY_MODEL_83f60a246eeb480d972fbbf1767afc0d",
       "style": "IPY_MODEL_5d984633a2024c97880afe37a6cd4bfb",
       "value": "<h5>Job ID</h5>"
      }
     },
     "e5d1cf0738354e2ea00db2fe10e86f44": {
      "model_module": "@jupyter-widgets/controls",
      "model_module_version": "2.0.0",
      "model_name": "HTMLModel",
      "state": {
       "layout": "IPY_MODEL_a75b4645e775480c924c54d0056244d9",
       "style": "IPY_MODEL_416caf7649ee41edba4a7d9e6dd5307e",
       "value": "<h5>Job ID</h5>"
      }
     },
     "e5dfd73ec887473086d43116d0b04a7c": {
      "model_module": "@jupyter-widgets/controls",
      "model_module_version": "2.0.0",
      "model_name": "HTMLStyleModel",
      "state": {
       "description_width": "",
       "font_size": null,
       "text_color": null
      }
     },
     "e898b2707f444672ab2d699a5bc69a93": {
      "model_module": "@jupyter-widgets/base",
      "model_module_version": "2.0.0",
      "model_name": "LayoutModel",
      "state": {
       "width": "70px"
      }
     },
     "ec5ccb2bab354ee9ac6ff709471a6b6e": {
      "model_module": "@jupyter-widgets/base",
      "model_module_version": "2.0.0",
      "model_name": "LayoutModel",
      "state": {
       "grid_template_areas": "\n                                       \". . . . right \"\n                                        ",
       "grid_template_columns": "20% 20% 20% 20% 20%",
       "width": "100%"
      }
     },
     "ed447e6a2aa542bbb38b0f67ef0124df": {
      "model_module": "@jupyter-widgets/controls",
      "model_module_version": "2.0.0",
      "model_name": "HTMLStyleModel",
      "state": {
       "description_width": "",
       "font_size": null,
       "text_color": null
      }
     },
     "effbe9930e744e24a9e2733e975057e2": {
      "model_module": "@jupyter-widgets/controls",
      "model_module_version": "2.0.0",
      "model_name": "HTMLModel",
      "state": {
       "layout": "IPY_MODEL_2e334890323d4b2bbb230e2a05ab7251",
       "style": "IPY_MODEL_7e0993f2b3bb462699e144ef6114aa1d",
       "value": "<h5>Message</h5>"
      }
     },
     "f77b648f910a407c8b213d50f68891b9": {
      "model_module": "@jupyter-widgets/controls",
      "model_module_version": "2.0.0",
      "model_name": "ButtonStyleModel",
      "state": {
       "font_family": null,
       "font_size": null,
       "font_style": null,
       "font_variant": null,
       "font_weight": null,
       "text_color": null,
       "text_decoration": null
      }
     },
     "fa2453112ed84fa7b19ce6a7dc1ca819": {
      "model_module": "@jupyter-widgets/controls",
      "model_module_version": "2.0.0",
      "model_name": "HTMLModel",
      "state": {
       "layout": "IPY_MODEL_28e7b341cf8c4a56acd493e6627eb21e",
       "style": "IPY_MODEL_a8129aa54e6b43aba2d9b323f8baed4f",
       "value": "<h5>Status</h5>"
      }
     },
     "fd50eb4c92d44ea28a569dc229332535": {
      "model_module": "@jupyter-widgets/controls",
      "model_module_version": "2.0.0",
      "model_name": "GridBoxModel",
      "state": {
       "children": [
        "IPY_MODEL_63dd50d86e594c62a942f623d2a75265"
       ],
       "layout": "IPY_MODEL_07e14cb15458424b9b1b7bd325e4e0a4"
      }
     }
    },
    "version_major": 2,
    "version_minor": 0
   }
  }
 },
 "nbformat": 4,
 "nbformat_minor": 5
}
